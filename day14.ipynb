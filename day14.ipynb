{
 "cells": [
  {
   "cell_type": "markdown",
   "id": "3cdad6b5",
   "metadata": {},
   "source": [
    "# Day 14: Extended Polymerization\n",
    "\n",
    "The incredible pressures at this depth are starting to put a strain on your submarine. The submarine has polymerization equipment that would produce suitable materials to reinforce the submarine, and the nearby volcanically-active caves should even have the necessary input elements in sufficient quantities.\n",
    "\n",
    "The submarine manual contains instructions for finding the optimal polymer formula; specifically, it offers a polymer template and a list of pair insertion rules (your puzzle input). You just need to work out what polymer would result after repeating the pair insertion process a few times.\n",
    "\n",
    "For example:\n",
    "\n",
    "```text\n",
    "NNCB\n",
    "\n",
    "CH -> B\n",
    "HH -> N\n",
    "CB -> H\n",
    "NH -> C\n",
    "HB -> C\n",
    "HC -> B\n",
    "HN -> C\n",
    "NN -> C\n",
    "BH -> H\n",
    "NC -> B\n",
    "NB -> B\n",
    "BN -> B\n",
    "BB -> N\n",
    "BC -> B\n",
    "CC -> N\n",
    "CN -> C\n",
    "```\n",
    "\n",
    "The first line is the polymer template - this is the starting point of the process.\n",
    "\n",
    "The following section defines the pair insertion rules. A rule like `AB -> C` means that when elements `A` and `B` are immediately adjacent, element `C` should be inserted between them. These insertions all happen simultaneously.\n",
    "\n",
    "So, starting with the polymer template `NNCB`, the first step simultaneously considers all three pairs:\n",
    "\n",
    "    The first pair (NN) matches the rule NN -> C, so element C is inserted between the first N and the second N.\n",
    "    The second pair (NC) matches the rule NC -> B, so element B is inserted between the N and the C.\n",
    "    The third pair (CB) matches the rule CB -> H, so element H is inserted between the C and the B.\n",
    "\n",
    "Note that these pairs overlap: the second element of one pair is the first element of the next pair. Also, because all pairs are considered simultaneously, inserted elements are not considered to be part of a pair until the next step.\n",
    "\n",
    "After the first step of this process, the polymer becomes `NCNBCHB`.\n",
    "\n",
    "Here are the results of a few steps using the above rules:\n",
    "\n",
    "```text\n",
    "Template:     NNCB\n",
    "After step 1: NCNBCHB\n",
    "After step 2: NBCCNBBBCBHCB\n",
    "After step 3: NBBBCNCCNBBNBNBBCHBHHBCHB\n",
    "After step 4: NBBNBNBBCCNBCNCCNBBNBBNBBBNBBNBBCBHCBHHNHCBBCBHCB\n",
    "```\n",
    "\n",
    "This polymer grows quickly. After step 5, it has length 97; After step 10, it has length 3073. After step 10, `B` occurs 1749 times, `C` occurs 298 times, `H` occurs 161 times, and `N` occurs 865 times; taking the quantity of the most common element (`B`, 1749) and subtracting the quantity of the least common element (`H`, 161) produces 1749 - 161 = 1588.\n",
    "\n",
    "Apply 10 steps of pair insertion to the polymer template and find the most and least common elements in the result. **What do you get if you take the quantity of the most common element and subtract the quantity of the least common element?**"
   ]
  },
  {
   "cell_type": "code",
   "execution_count": 1,
   "id": "afece139",
   "metadata": {},
   "outputs": [],
   "source": [
    "# Python imports\n",
    "from collections import Counter, defaultdict\n",
    "from pathlib import Path\n",
    "from typing import Callable, Dict, Generator, Iterable, List, Set, Tuple\n",
    "\n",
    "# Paths to data\n",
    "testpath = Path(\"day14_test.txt\")\n",
    "datapath = Path(\"day14_data.txt\")"
   ]
  },
  {
   "cell_type": "markdown",
   "id": "e4aa47b4",
   "metadata": {},
   "source": [
    "We load the data in as a starting polymer string, and a dictionary set of rules associating a symbol pair with the first two characters of its three-character replacement. For example, `AB -> C` would have the dictionary item `AB: AC`."
   ]
  },
  {
   "cell_type": "code",
   "execution_count": 2,
   "id": "5fd42dd9",
   "metadata": {},
   "outputs": [],
   "source": [
    "def load_input(fpath: Path) -> Tuple[str, Dict]:\n",
    "    \"\"\"Return starting polymer and rules\n",
    "    \n",
    "    :param fpath:  Path to data file\n",
    "    \"\"\"\n",
    "    state = \"polymer\"  # state for parser\n",
    "    rules = {}  # holds parsed rules\n",
    "    \n",
    "    with fpath.open(\"r\") as ifh:\n",
    "        for line in [_.strip() for _ in ifh.readlines()]:\n",
    "            if len(line) == 0:  # switch parser state\n",
    "                state = \"rules\"\n",
    "            elif state == \"polymer\":  # read in polymer string\n",
    "                polymer = line.strip()\n",
    "            elif state == \"rules\":  # read in rules as dictionary\n",
    "                key, val = line.strip().split(\" -> \")\n",
    "                rules[key] = val\n",
    "                \n",
    "    return polymer, rules"
   ]
  },
  {
   "cell_type": "markdown",
   "id": "72b9067e",
   "metadata": {},
   "source": [
    "For the first part of the puzzle, we write two functions. One expands the polymer at a single step, by "
   ]
  },
  {
   "cell_type": "code",
   "execution_count": 3,
   "id": "2e05b781",
   "metadata": {},
   "outputs": [],
   "source": [
    "def expand_polymer(polymer: str, rules: Dict) -> str:\n",
    "    \"\"\"Expand the polymer, using the passed rules\n",
    "    \n",
    "    :param polymer:  current polymer string\n",
    "    :param rules:  rules for inserting monomers in a pair\n",
    "    \"\"\"\n",
    "    expanding = []  # hold list of new polymer elements\n",
    "    \n",
    "    # Split polymer into consecutive pairs, and apply rules to each pair\n",
    "    polysplit = [polymer[idx:idx+2] for idx in range(len(polymer) - 1)]\n",
    "    for pair in polysplit:\n",
    "        expanding.append(f\"{pair[0]}{rules[pair]}\")\n",
    "            \n",
    "    # concatenate polymer elements, and add last character from input\n",
    "    return \"\".join(expanding) + polymer[-1]\n",
    "\n",
    "def polymer_score(polymer: str) -> int:\n",
    "    \"\"\"Return difference between counts of most and least abundant monomer\n",
    "    \n",
    "    :param polymer:  polymer string\n",
    "    \"\"\"\n",
    "    # Count occurrences of each monomer, and sort by abundance\n",
    "    counts = sorted([(v, k) for k, v in Counter(list(polymer)).items()])\n",
    "    \n",
    "    # Return difference of most and least abundant counts\n",
    "    return counts[-1][0] - counts[0][0]"
   ]
  },
  {
   "cell_type": "markdown",
   "id": "ae70143d",
   "metadata": {},
   "source": [
    "Applying these to the test data:"
   ]
  },
  {
   "cell_type": "code",
   "execution_count": 4,
   "id": "1b9959a2",
   "metadata": {},
   "outputs": [
    {
     "name": "stdout",
     "output_type": "stream",
     "text": [
      "1: len(polymer)=7, polymer_score(polymer)=1\n",
      "2: len(polymer)=13, polymer_score(polymer)=5\n",
      "3: len(polymer)=25, polymer_score(polymer)=7\n",
      "4: len(polymer)=49, polymer_score(polymer)=18\n",
      "5: len(polymer)=97, polymer_score(polymer)=33\n",
      "6: len(polymer)=193, polymer_score(polymer)=82\n",
      "7: len(polymer)=385, polymer_score(polymer)=160\n",
      "8: len(polymer)=769, polymer_score(polymer)=366\n",
      "9: len(polymer)=1537, polymer_score(polymer)=727\n",
      "10: len(polymer)=3073, polymer_score(polymer)=1588\n"
     ]
    }
   ],
   "source": [
    "polymer, rules = load_input(testpath)\n",
    "for idx in range(10):\n",
    "    polymer = expand_polymer(polymer, rules)\n",
    "    print(f\"{idx + 1}: {len(polymer)=}, {polymer_score(polymer)=}\")"
   ]
  },
  {
   "cell_type": "markdown",
   "id": "00476409",
   "metadata": {},
   "source": [
    "And to the puzzle data"
   ]
  },
  {
   "cell_type": "code",
   "execution_count": 5,
   "id": "a351916b",
   "metadata": {},
   "outputs": [
    {
     "name": "stdout",
     "output_type": "stream",
     "text": [
      "10: len(polymer)=19457 - polymer_score(polymer)=2915\n"
     ]
    }
   ],
   "source": [
    "polymer, rules = load_input(datapath)\n",
    "for idx in range(10):\n",
    "    polymer = expand_polymer(polymer, rules)\n",
    "print(f\"{idx + 1}: {len(polymer)=} - {polymer_score(polymer)=}\")"
   ]
  },
  {
   "cell_type": "markdown",
   "id": "e9a3bed9",
   "metadata": {},
   "source": [
    "## Puzzle 2\n",
    "\n",
    "The resulting polymer isn't nearly strong enough to reinforce the submarine. You'll need to run more steps of the pair insertion process; a total of 40 steps should do it.\n",
    "\n",
    "In the above example, the most common element is `B` (occurring 2192039569602 times) and the least common element is `H` (occurring 3849876073 times); subtracting these produces 2188189693529.\n",
    "\n",
    "Apply 40 steps of pair insertion to the polymer template and find the most and least common elements in the result. What do you get if you take the quantity of the most common element and subtract the quantity of the least common element?"
   ]
  },
  {
   "cell_type": "markdown",
   "id": "45d7ce84",
   "metadata": {},
   "source": [
    "My solution to part 1 does not scale well, so a new approach is required.\n",
    "\n",
    "We note that each symbol pair in the polymer produces two new symbol pairs, e.g. the rule `AB -> C` produces the pairs `AC` and `CB`. So, we can keep a count of the frequency of each pair in a dictionary, and update this at each cycle. Then, after the final iteration, we can count the number of times each symbol appears in all the pairs. This will be twice the frequency of that symbol in the polymer string _except for_ the starting and ending polymer symbol, which are only counted once (so we increment these). The answer will then be half the difference between the most and least common symbol counts."
   ]
  },
  {
   "cell_type": "code",
   "execution_count": 6,
   "id": "89817e44",
   "metadata": {},
   "outputs": [],
   "source": [
    "def count_pair_freqs(polymer: str) -> Counter:\n",
    "    \"\"\"Returns Counter of pair frequencies in a polymer sequence\n",
    "    \n",
    "    :param polymer:  polymer string\n",
    "    \"\"\"\n",
    "    return Counter([polymer[idx:idx+2] for idx in range(len(polymer) - 1)])\n",
    "\n",
    "def make_pair_rules(rules: Dict) -> Dict:\n",
    "    \"\"\"Returns new rule dictionary associating one pair with two output pairs\n",
    "    \n",
    "    :param rules:  rule dictionary associating one pair with a monomer insert\n",
    "    \"\"\"\n",
    "    return {key: (key[0] + val, val + key[1]) for key, val in rules.items()}\n",
    "\n",
    "def update_pairs(freqs: Dict, rules: Dict) -> Dict:\n",
    "    \"\"\"Returns updated frequency dictionary for each pair on applying rules\n",
    "    \n",
    "    :param freqs:  dictionary of symbol pair frequencies\n",
    "    :param rules:  dictionary of symbol pair updates\n",
    "    \"\"\"\n",
    "    newfreqs = defaultdict(int)  # holds new frequency dictionary\n",
    "    \n",
    "    # Update new frequency dictionary with new pair symbols\n",
    "    for pair in freqs:\n",
    "        for output in rules[pair]:\n",
    "            newfreqs[output] += freqs[pair]\n",
    "            \n",
    "    return newfreqs\n",
    "\n",
    "def score_freqs(polymer: str, freqs: Dict) -> int:\n",
    "    \"\"\"Return difference in largest and smallest symbol count\n",
    "    \n",
    "    :param polymer:  initial polymer string (not current polymer)\n",
    "    :param freqs:  pair frequency dictionary for current polymer\n",
    "    \"\"\"\n",
    "    letter_counts = defaultdict(int)  # holds counts of individual symbols\n",
    "    \n",
    "    # Update letter counts from frequency dictionary\n",
    "    for key, val in freqs.items():\n",
    "        letter_counts[key[0]] += val\n",
    "        letter_counts[key[1]] += val\n",
    "\n",
    "    # Update/correct counts of start/end symbols in polymer, and sort\n",
    "    letter_counts[polymer[0]] += 1\n",
    "    letter_counts[polymer[-1]] += 1\n",
    "    letter_counts = sorted([(v, k) for k, v in letter_counts.items()])\n",
    "\n",
    "    return int(0.5 * (letter_counts[-1][0] - letter_counts[0][0]))"
   ]
  },
  {
   "cell_type": "markdown",
   "id": "7b37397d",
   "metadata": {},
   "source": [
    "Applying this process to the test data:"
   ]
  },
  {
   "cell_type": "code",
   "execution_count": 7,
   "id": "c0c88f81",
   "metadata": {},
   "outputs": [
    {
     "name": "stdout",
     "output_type": "stream",
     "text": [
      "40 2188189693529\n"
     ]
    }
   ],
   "source": [
    "polymer, rules = load_input(testpath)\n",
    "pair_freqs = count_pair_freqs(polymer)\n",
    "pair_rules = make_pair_rules(rules)\n",
    "for idx in range(40):\n",
    "    pair_freqs = update_pairs(pair_freqs, pair_rules)\n",
    "print(idx + 1, score_freqs(polymer, pair_freqs))"
   ]
  },
  {
   "cell_type": "markdown",
   "id": "7fa2e411",
   "metadata": {},
   "source": [
    "And to the puzzle data:"
   ]
  },
  {
   "cell_type": "code",
   "execution_count": 8,
   "id": "6acde42b",
   "metadata": {},
   "outputs": [
    {
     "name": "stdout",
     "output_type": "stream",
     "text": [
      "40 3353146900153\n"
     ]
    }
   ],
   "source": [
    "polymer, rules = load_input(datapath)\n",
    "pair_freqs = count_pair_freqs(polymer)\n",
    "pair_rules = make_pair_rules(rules)\n",
    "for idx in range(40):\n",
    "    pair_freqs = update_pairs(pair_freqs, pair_rules)\n",
    "print(idx + 1, score_freqs(polymer, pair_freqs))"
   ]
  },
  {
   "cell_type": "code",
   "execution_count": null,
   "id": "66b9d05b",
   "metadata": {},
   "outputs": [],
   "source": []
  }
 ],
 "metadata": {
  "kernelspec": {
   "display_name": "Python 3 (ipykernel)",
   "language": "python",
   "name": "python3"
  },
  "language_info": {
   "codemirror_mode": {
    "name": "ipython",
    "version": 3
   },
   "file_extension": ".py",
   "mimetype": "text/x-python",
   "name": "python",
   "nbconvert_exporter": "python",
   "pygments_lexer": "ipython3",
   "version": "3.10.0"
  }
 },
 "nbformat": 4,
 "nbformat_minor": 5
}
