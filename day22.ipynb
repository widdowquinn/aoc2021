{
 "cells": [
  {
   "cell_type": "markdown",
   "id": "4c85ccd0",
   "metadata": {},
   "source": [
    "# Day 22: Reactor Reboot\n",
    "\n",
    "Operating at these extreme ocean depths has overloaded the submarine's reactor; it needs to be rebooted.\n",
    "\n",
    "The reactor core is made up of a large 3-dimensional grid made up entirely of cubes, one cube per integer 3-dimensional coordinate (x,y,z). Each cube can be either on or off; at the start of the reboot process, they are all off. (Could it be an old model of a reactor you've seen before?)\n",
    "\n",
    "To reboot the reactor, you just need to set all of the cubes to either on or off by following a list of reboot steps (your puzzle input). Each step specifies a cuboid (the set of all cubes that have coordinates which fall within ranges for x, y, and z) and whether to turn all of the cubes in that cuboid on or off.\n",
    "\n",
    "For example, given these reboot steps:\n",
    "\n",
    "```text\n",
    "on x=10..12,y=10..12,z=10..12\n",
    "on x=11..13,y=11..13,z=11..13\n",
    "off x=9..11,y=9..11,z=9..11\n",
    "on x=10..10,y=10..10,z=10..10\n",
    "```\n",
    "\n",
    "The first step (on x=10..12,y=10..12,z=10..12) turns on a 3x3x3 cuboid consisting of 27 cubes:\n",
    "\n",
    "    10,10,10\n",
    "    10,10,11\n",
    "    10,10,12\n",
    "    10,11,10\n",
    "    10,11,11\n",
    "    10,11,12\n",
    "    10,12,10\n",
    "    10,12,11\n",
    "    10,12,12\n",
    "    11,10,10\n",
    "    11,10,11\n",
    "    11,10,12\n",
    "    11,11,10\n",
    "    11,11,11\n",
    "    11,11,12\n",
    "    11,12,10\n",
    "    11,12,11\n",
    "    11,12,12\n",
    "    12,10,10\n",
    "    12,10,11\n",
    "    12,10,12\n",
    "    12,11,10\n",
    "    12,11,11\n",
    "    12,11,12\n",
    "    12,12,10\n",
    "    12,12,11\n",
    "    12,12,12\n",
    "\n",
    "The second step (on x=11..13,y=11..13,z=11..13) turns on a 3x3x3 cuboid that overlaps with the first. As a result, only 19 additional cubes turn on; the rest are already on from the previous step:\n",
    "\n",
    "    11,11,13\n",
    "    11,12,13\n",
    "    11,13,11\n",
    "    11,13,12\n",
    "    11,13,13\n",
    "    12,11,13\n",
    "    12,12,13\n",
    "    12,13,11\n",
    "    12,13,12\n",
    "    12,13,13\n",
    "    13,11,11\n",
    "    13,11,12\n",
    "    13,11,13\n",
    "    13,12,11\n",
    "    13,12,12\n",
    "    13,12,13\n",
    "    13,13,11\n",
    "    13,13,12\n",
    "    13,13,13\n",
    "\n",
    "The third step (off x=9..11,y=9..11,z=9..11) turns off a 3x3x3 cuboid that overlaps partially with some cubes that are on, ultimately turning off 8 cubes:\n",
    "\n",
    "    10,10,10\n",
    "    10,10,11\n",
    "    10,11,10\n",
    "    10,11,11\n",
    "    11,10,10\n",
    "    11,10,11\n",
    "    11,11,10\n",
    "    11,11,11\n",
    "\n",
    "The final step (on x=10..10,y=10..10,z=10..10) turns on a single cube, 10,10,10. After this last step, 39 cubes are on.\n",
    "\n",
    "The initialization procedure only uses cubes that have x, y, and z positions of at least -50 and at most 50. For now, ignore cubes outside this region.\n",
    "\n",
    "Here is a larger example:\n",
    "\n",
    "```\n",
    "on x=-20..26,y=-36..17,z=-47..7\n",
    "on x=-20..33,y=-21..23,z=-26..28\n",
    "on x=-22..28,y=-29..23,z=-38..16\n",
    "on x=-46..7,y=-6..46,z=-50..-1\n",
    "on x=-49..1,y=-3..46,z=-24..28\n",
    "on x=2..47,y=-22..22,z=-23..27\n",
    "on x=-27..23,y=-28..26,z=-21..29\n",
    "on x=-39..5,y=-6..47,z=-3..44\n",
    "on x=-30..21,y=-8..43,z=-13..34\n",
    "on x=-22..26,y=-27..20,z=-29..19\n",
    "off x=-48..-32,y=26..41,z=-47..-37\n",
    "on x=-12..35,y=6..50,z=-50..-2\n",
    "off x=-48..-32,y=-32..-16,z=-15..-5\n",
    "on x=-18..26,y=-33..15,z=-7..46\n",
    "off x=-40..-22,y=-38..-28,z=23..41\n",
    "on x=-16..35,y=-41..10,z=-47..6\n",
    "off x=-32..-23,y=11..30,z=-14..3\n",
    "on x=-49..-5,y=-3..45,z=-29..18\n",
    "off x=18..30,y=-20..-8,z=-3..13\n",
    "on x=-41..9,y=-7..43,z=-33..15\n",
    "on x=-54112..-39298,y=-85059..-49293,z=-27449..7877\n",
    "on x=967..23432,y=45373..81175,z=27513..53682\n",
    "```\n",
    "\n",
    "The last two steps are fully outside the initialization procedure area; all other steps are fully within it. After executing these steps in the initialization procedure region, 590784 cubes are on.\n",
    "\n",
    "Execute the reboot steps. **Afterward, considering only cubes in the region x=-50..50,y=-50..50,z=-50..50, how many cubes are on?**"
   ]
  },
  {
   "cell_type": "code",
   "execution_count": 1,
   "id": "bdc09ae0",
   "metadata": {},
   "outputs": [],
   "source": [
    "# Python imports\n",
    "from dataclasses import dataclass\n",
    "from pathlib import Path\n",
    "from typing import Callable, Dict, Generator, Iterable, List, Set, Tuple\n",
    "\n",
    "import numpy as np\n",
    "\n",
    "# Paths to data\n",
    "testpath1 = Path(\"day22_test1.txt\")\n",
    "testpath2 = Path(\"day22_test2.txt\")\n",
    "testpath3 = Path(\"day22_test3.txt\")\n",
    "datapath = Path(\"day22_data.txt\")"
   ]
  },
  {
   "cell_type": "markdown",
   "id": "29f7fb4d",
   "metadata": {},
   "source": [
    "We load in each of the reboot steps as a tuple:"
   ]
  },
  {
   "cell_type": "code",
   "execution_count": 2,
   "id": "8fbc6780",
   "metadata": {},
   "outputs": [],
   "source": [
    "def load_input(fpath: Path) -> Tuple[str, List[int], List[int], List[int]]:\n",
    "    \"\"\"Return instructions for toggling reactor cubes\n",
    "    \n",
    "    :param fpath:  Path to data file\n",
    "    \"\"\"\n",
    "    instrs = []\n",
    "    \n",
    "    with fpath.open(\"r\") as ifh:\n",
    "        for line in (_.strip() for _ in ifh.readlines() if len(_.strip())):\n",
    "            action, cubes = line.split()\n",
    "            xdata, ydata, zdata = (tuple(_[2:].split(\"..\")) for _ in cubes.split(\",\"))\n",
    "            xdata = tuple([int(_) for _ in xdata])\n",
    "            ydata = tuple([int(_) for _ in ydata])\n",
    "            zdata = tuple([int(_) for _ in zdata])\n",
    "            instrs.append((action, xdata, ydata, zdata))\n",
    "            \n",
    "    return instrs"
   ]
  },
  {
   "cell_type": "markdown",
   "id": "82983ff7",
   "metadata": {},
   "source": [
    "As this first puzzle is small, we represent the entire reactor space as a `numpy` array, and toggle each of the cubes in the reactor directly."
   ]
  },
  {
   "cell_type": "code",
   "execution_count": 3,
   "id": "1cfdb6fe",
   "metadata": {},
   "outputs": [],
   "source": [
    "class Reactor:\n",
    "    \n",
    "    \"\"\"The reactor core as numpy array, with one cube per cell\"\"\"\n",
    "    \n",
    "    def __init__(self, xsize: Tuple[int, int], ysize: Tuple[int, int], zsize: Tuple[int, int]):\n",
    "        \"\"\"Instantiate the reactor as a cuboid with all cubes off.\n",
    "        \n",
    "        :param xsize:  the limits of the reactor on the x-axis\n",
    "        :param ysize:  the limits of the reactor on the y-axis\n",
    "        :param zsize:  the limits of the reactor on the z-axis\n",
    "        \"\"\"\n",
    "        self._xmin, self._xmax = xsize\n",
    "        self._ymin, self._ymax = ysize\n",
    "        self._zmin, self._zmax = zsize\n",
    "        \n",
    "        # Create reactor filled with zeros\n",
    "        # NOTE: the reactor bottom-left is at (0, 0, 0) and we need to \n",
    "        # account for this when dealing with reboot step instructions\n",
    "        self._reactor = np.zeros((self._xmax - self._xmin + 1,\n",
    "                                  self._ymax - self._ymin + 1,\n",
    "                                  self._zmax - self._zmin + 1)).astype(int)\n",
    "        \n",
    "    def toggle(self, instr: Tuple[str, Tuple[int, int], Tuple[int, int], Tuple[int, int]]) -> None:\n",
    "        \"\"\"Toggles cubes in the reactor, based on reboot step instruction\n",
    "        \n",
    "        :param instr:  the reboot step instruction\n",
    "        \"\"\"\n",
    "        action, xrange, yrange, zrange = instr\n",
    "        \n",
    "        # Do we turn cells on or off?\n",
    "        if action == \"on\":\n",
    "            toggleval = 1  # on\n",
    "        else:\n",
    "            toggleval = 0  # off\n",
    "            \n",
    "        # Offset reboot instruction steps to account for location of\n",
    "        # reactor core (bottom-left corner at (0, 0, 0))\n",
    "        xmin, xmax = [int(_) + abs(self._xmin) for _ in xrange]\n",
    "        ymin, ymax = [int(_) + abs(self._ymin) for _ in yrange]\n",
    "        zmin, zmax = [int(_) + abs(self._zmin) for _ in zrange]\n",
    "                \n",
    "        # Skip instructions that aren't within the reactor volume\n",
    "        if (xmin > self._reactor.shape[0] or  # overshoots\n",
    "            ymin > self._reactor.shape[1] or\n",
    "            ymin > self._reactor.shape[2] or\n",
    "            xmax < 0 or  # undershoots\n",
    "            ymax < 0 or\n",
    "            zmax < 0):\n",
    "            return\n",
    "        \n",
    "        # Update reactor volume\n",
    "        self._reactor[xmin:xmax+1,\n",
    "                      ymin:ymax+1,\n",
    "                      zmin:zmax+1] = toggleval\n",
    "        \n",
    "    @property\n",
    "    def cubes_on(self) -> int:\n",
    "        \"\"\"Returns count of cubes that are set to 'on'\"\"\"\n",
    "        return int(self._reactor.sum())"
   ]
  },
  {
   "cell_type": "markdown",
   "id": "4e3345f8",
   "metadata": {},
   "source": [
    "We test this out on the example data:"
   ]
  },
  {
   "cell_type": "code",
   "execution_count": 4,
   "id": "4b61f38b",
   "metadata": {},
   "outputs": [
    {
     "data": {
      "text/plain": [
       "39"
      ]
     },
     "execution_count": 4,
     "metadata": {},
     "output_type": "execute_result"
    }
   ],
   "source": [
    "instrs = load_input(testpath1)\n",
    "reactorsize = ((-50, 50), (-50, 50), (-50, 50))\n",
    "reactor = Reactor(*reactorsize)\n",
    "for instr in instrs:\n",
    "    reactor.toggle(instr)\n",
    "reactor.cubes_on"
   ]
  },
  {
   "cell_type": "code",
   "execution_count": 5,
   "id": "50b8d847",
   "metadata": {},
   "outputs": [
    {
     "data": {
      "text/plain": [
       "588407"
      ]
     },
     "execution_count": 5,
     "metadata": {},
     "output_type": "execute_result"
    }
   ],
   "source": [
    "instrs = load_input(testpath2)\n",
    "reactorsize = ((-50, 50), (-50, 50), (-50, 50))\n",
    "reactor = Reactor(*reactorsize)\n",
    "for instr in instrs:\n",
    "    reactor.toggle(instr)\n",
    "reactor.cubes_on"
   ]
  },
  {
   "cell_type": "markdown",
   "id": "7e1ff289",
   "metadata": {},
   "source": [
    "And then with the puzzle data:"
   ]
  },
  {
   "cell_type": "code",
   "execution_count": 6,
   "id": "9680a059",
   "metadata": {},
   "outputs": [
    {
     "data": {
      "text/plain": [
       "553201"
      ]
     },
     "execution_count": 6,
     "metadata": {},
     "output_type": "execute_result"
    }
   ],
   "source": [
    "instrs = load_input(datapath)\n",
    "reactorsize = ((-50, 50), (-50, 50), (-50, 50))\n",
    "reactor = Reactor(*reactorsize)\n",
    "for instr in instrs:\n",
    "    reactor.toggle(instr)\n",
    "reactor.cubes_on"
   ]
  },
  {
   "cell_type": "markdown",
   "id": "e51f8949",
   "metadata": {},
   "source": [
    "## Puzzle 2\n",
    "\n",
    "Now that the initialization procedure is complete, you can reboot the reactor.\n",
    "\n",
    "Starting with all cubes off, run all of the reboot steps for all cubes in the reactor.\n",
    "\n",
    "Consider the following reboot steps:\n",
    "\n",
    "```text\n",
    "on x=-5..47,y=-31..22,z=-19..33\n",
    "on x=-44..5,y=-27..21,z=-14..35\n",
    "on x=-49..-1,y=-11..42,z=-10..38\n",
    "on x=-20..34,y=-40..6,z=-44..1\n",
    "off x=26..39,y=40..50,z=-2..11\n",
    "on x=-41..5,y=-41..6,z=-36..8\n",
    "off x=-43..-33,y=-45..-28,z=7..25\n",
    "on x=-33..15,y=-32..19,z=-34..11\n",
    "off x=35..47,y=-46..-34,z=-11..5\n",
    "on x=-14..36,y=-6..44,z=-16..29\n",
    "on x=-57795..-6158,y=29564..72030,z=20435..90618\n",
    "on x=36731..105352,y=-21140..28532,z=16094..90401\n",
    "on x=30999..107136,y=-53464..15513,z=8553..71215\n",
    "on x=13528..83982,y=-99403..-27377,z=-24141..23996\n",
    "on x=-72682..-12347,y=18159..111354,z=7391..80950\n",
    "on x=-1060..80757,y=-65301..-20884,z=-103788..-16709\n",
    "on x=-83015..-9461,y=-72160..-8347,z=-81239..-26856\n",
    "on x=-52752..22273,y=-49450..9096,z=54442..119054\n",
    "on x=-29982..40483,y=-108474..-28371,z=-24328..38471\n",
    "on x=-4958..62750,y=40422..118853,z=-7672..65583\n",
    "on x=55694..108686,y=-43367..46958,z=-26781..48729\n",
    "on x=-98497..-18186,y=-63569..3412,z=1232..88485\n",
    "on x=-726..56291,y=-62629..13224,z=18033..85226\n",
    "on x=-110886..-34664,y=-81338..-8658,z=8914..63723\n",
    "on x=-55829..24974,y=-16897..54165,z=-121762..-28058\n",
    "on x=-65152..-11147,y=22489..91432,z=-58782..1780\n",
    "on x=-120100..-32970,y=-46592..27473,z=-11695..61039\n",
    "on x=-18631..37533,y=-124565..-50804,z=-35667..28308\n",
    "on x=-57817..18248,y=49321..117703,z=5745..55881\n",
    "on x=14781..98692,y=-1341..70827,z=15753..70151\n",
    "on x=-34419..55919,y=-19626..40991,z=39015..114138\n",
    "on x=-60785..11593,y=-56135..2999,z=-95368..-26915\n",
    "on x=-32178..58085,y=17647..101866,z=-91405..-8878\n",
    "on x=-53655..12091,y=50097..105568,z=-75335..-4862\n",
    "on x=-111166..-40997,y=-71714..2688,z=5609..50954\n",
    "on x=-16602..70118,y=-98693..-44401,z=5197..76897\n",
    "on x=16383..101554,y=4615..83635,z=-44907..18747\n",
    "off x=-95822..-15171,y=-19987..48940,z=10804..104439\n",
    "on x=-89813..-14614,y=16069..88491,z=-3297..45228\n",
    "on x=41075..99376,y=-20427..49978,z=-52012..13762\n",
    "on x=-21330..50085,y=-17944..62733,z=-112280..-30197\n",
    "on x=-16478..35915,y=36008..118594,z=-7885..47086\n",
    "off x=-98156..-27851,y=-49952..43171,z=-99005..-8456\n",
    "off x=2032..69770,y=-71013..4824,z=7471..94418\n",
    "on x=43670..120875,y=-42068..12382,z=-24787..38892\n",
    "off x=37514..111226,y=-45862..25743,z=-16714..54663\n",
    "off x=25699..97951,y=-30668..59918,z=-15349..69697\n",
    "off x=-44271..17935,y=-9516..60759,z=49131..112598\n",
    "on x=-61695..-5813,y=40978..94975,z=8655..80240\n",
    "off x=-101086..-9439,y=-7088..67543,z=33935..83858\n",
    "off x=18020..114017,y=-48931..32606,z=21474..89843\n",
    "off x=-77139..10506,y=-89994..-18797,z=-80..59318\n",
    "off x=8476..79288,y=-75520..11602,z=-96624..-24783\n",
    "on x=-47488..-1262,y=24338..100707,z=16292..72967\n",
    "off x=-84341..13987,y=2429..92914,z=-90671..-1318\n",
    "off x=-37810..49457,y=-71013..-7894,z=-105357..-13188\n",
    "off x=-27365..46395,y=31009..98017,z=15428..76570\n",
    "off x=-70369..-16548,y=22648..78696,z=-1892..86821\n",
    "on x=-53470..21291,y=-120233..-33476,z=-44150..38147\n",
    "off x=-93533..-4276,y=-16170..68771,z=-104985..-24507\n",
    "```\n",
    "\n",
    "After running the above reboot steps, 2758514936282235 cubes are on. (Just for fun, 474140 of those are also in the initialization procedure region.)\n",
    "\n",
    "Starting again with all cubes off, execute all reboot steps. **Afterward, considering all cubes, how many cubes are on?**"
   ]
  },
  {
   "cell_type": "markdown",
   "id": "d9b71d77",
   "metadata": {},
   "source": [
    "The `numpy`-based approach above can't handle the new instructions, so we use a new `Reactor` class to track updates to the space.\n",
    "\n",
    "Each volume is considered in turn against the current list of `_active_volumes` in the reactor. If there is no intersection, and the action is `on`, the new volume is added to that list; if the action is `off` and there are no intersections, we ignore it. But if there _is_ an intersection, we store that intersection in the list of `_inactive_volumes` - if the action is `on` we store the new volume in the list of `_active_volumes`, but if the action is `off` we take no further action.\n",
    "\n",
    "The trick is in how we store the intersection. Essentially, we need the intersection to _neutralise_ the existing volume so that the _new_ volume can take priority. For instance, if the existing volume is `off` (with value `-1`) we have the intersection take the value `1`; if the new volume is `off` we do nothing but if it is `on`, it is added to the list of `_active_volumes`. This does have the problem of increasing the number of volumes faster than linear, which could slow things down.\n",
    "\n",
    "The final number of active cubes is the sum of sizes in `_active_volumes` minus that of `_inactive_volumes`."
   ]
  },
  {
   "cell_type": "code",
   "execution_count": 7,
   "id": "3698d6c4",
   "metadata": {},
   "outputs": [],
   "source": [
    "class Volume:\n",
    "\n",
    "    \"\"\"Stores volume information\"\"\"\n",
    "    \n",
    "    def __init__(self, xrange: Tuple[int, int], yrange: Tuple[int, int], zrange: Tuple[int, int], value: int):\n",
    "        \"\"\"Instantiate volume with a value that reflects on/off\n",
    "        \n",
    "        :param xrange:  range of volume on x-axis\n",
    "        :param yrange:  range of volume on y-axis\n",
    "        :param zrange:  range of volume on z-axis\n",
    "        :param value:  1 if \"on\", -1 if \"off\"\n",
    "        \"\"\"\n",
    "        self.xmin, self.xmax = xrange\n",
    "        self.ymin, self.ymax = yrange\n",
    "        self.zmin, self.zmax = zrange\n",
    "        self.value = value\n",
    "    \n",
    "    def intersects(self, ref):\n",
    "        \"\"\"Returns intersection Volume with passed reference, or None\n",
    "        \n",
    "        :param ref:  reference Volume to test for intersection\n",
    "        \"\"\"\n",
    "        # Check if there are intersections on each axis\n",
    "        xintersect = ((self.xmin <= ref.xmin <= self.xmax) or (self.xmin <= ref.xmax <= self.xmax) or\n",
    "                      (ref.xmin <= self.xmin <= ref.xmax) or (ref.xmin <= self.xmax <= ref.xmax))\n",
    "        yintersect = ((self.ymin <= ref.ymin <= self.ymax) or (self.ymin <= ref.ymax <= self.ymax) or\n",
    "                      (ref.ymin <= self.ymin <= ref.ymax) or (ref.ymin <= self.ymax <= ref.ymax))\n",
    "        zintersect = ((self.zmin <= ref.zmin <= self.zmax) or (self.zmin <= ref.zmax <= self.zmax) or\n",
    "                      (ref.zmin <= self.zmin <= ref.zmax) or (ref.zmin <= self.zmax <= ref.zmax))\n",
    "        \n",
    "        # If all axes intersect, create and return a new volume at this\n",
    "        # intersection, whose value is the inverse of the reference\n",
    "        # volume's value (thereby neutralising it and allowing the new\n",
    "        # volume to take precedence).\n",
    "        if xintersect and yintersect and zintersect:\n",
    "            xrange = (max(ref.xmin, self.xmin), min(self.xmax, ref.xmax))\n",
    "            yrange = (max(ref.ymin, self.ymin), min(self.ymax, ref.ymax))\n",
    "            zrange = (max(ref.zmin, self.zmin), min(self.zmax, ref.zmax))\n",
    "            return Volume(xrange, yrange, zrange, -ref.value)  # invert value wrt reference volume\n",
    "        \n",
    "        # No intersection\n",
    "        return None\n",
    "        \n",
    "    def __repr__(self):\n",
    "        return f\"<Volume: {id(self)}: {str(self)}>\"\n",
    "    \n",
    "    def __str__(self):\n",
    "        return f\"{self.value=}: ({self.xmin}..{self.xmax}),({self.ymin}..{self.ymax}),({self.zmin}..{self.zmax})\"\n",
    "    \n",
    "    @property\n",
    "    def size(self) -> int:\n",
    "        \"\"\"Returns size of volume\"\"\"\n",
    "        return (self.xmax - self.xmin + 1) * (self.ymax - self.ymin + 1) * (self.zmax - self.zmin + 1)\n",
    "        \n",
    "class Reactor:\n",
    "    \n",
    "    \"\"\"Store activated/deactivated volumes\"\"\"\n",
    "    \n",
    "    def __init__(self):\n",
    "        self._volumes = []\n",
    "        \n",
    "    def add_volume(self, instr):\n",
    "        \"\"\"Adds new active/inactive volume to the current reactor\"\"\"        \n",
    "        # Process new volume\n",
    "        action, xrange, yrange, zrange = instr    \n",
    "        if action == \"on\":\n",
    "            value = 1\n",
    "        else:\n",
    "            value = -1\n",
    "        vol = Volume(xrange, yrange, zrange, value)\n",
    "        \n",
    "        # Check for intersections\n",
    "        newvols = []\n",
    "        for ref in self._volumes:\n",
    "            newvols.append(ref)\n",
    "            intersection = vol.intersects(ref)\n",
    "            if intersection:\n",
    "                newvols.append(intersection)\n",
    "        \n",
    "        # If added volume is \"on\", add to active volumes\n",
    "        if action == \"on\":\n",
    "            newvols.append(vol)\n",
    "            \n",
    "        self._volumes = newvols[:]\n",
    "                    \n",
    "    def __str__(self):\n",
    "        return f\"Volumes: {len(self._volumes)}\"\n",
    "    \n",
    "    def __len__(self):\n",
    "        \"\"\"Return count of active cubes\"\"\"\n",
    "        return sum((_.size * _.value for _ in self._volumes))"
   ]
  },
  {
   "cell_type": "markdown",
   "id": "2d1aab78",
   "metadata": {},
   "source": [
    "We test this out on the example data:"
   ]
  },
  {
   "cell_type": "code",
   "execution_count": 8,
   "id": "2c4a2b7e",
   "metadata": {
    "scrolled": true
   },
   "outputs": [
    {
     "name": "stdout",
     "output_type": "stream",
     "text": [
      "Volumes: 9, len(reactor)=39\n",
      "\n"
     ]
    }
   ],
   "source": [
    "instrs = load_input(testpath1)\n",
    "reactor = Reactor()\n",
    "for instr in instrs:\n",
    "    reactor.add_volume(instr)\n",
    "print(f\"{reactor}, {len(reactor)=}\\n\")"
   ]
  },
  {
   "cell_type": "markdown",
   "id": "3f95cec3",
   "metadata": {},
   "source": [
    "The final two instructions in example 2 are outwith the reactor volume for the first part, so we skip them when checking:"
   ]
  },
  {
   "cell_type": "code",
   "execution_count": 9,
   "id": "4bb91cda",
   "metadata": {},
   "outputs": [
    {
     "name": "stdout",
     "output_type": "stream",
     "text": [
      "Volumes: 10620, len(reactor)=588407\n",
      "\n"
     ]
    }
   ],
   "source": [
    "instrs = load_input(testpath2)\n",
    "reactor = Reactor()\n",
    "for instr in instrs[:-2]:\n",
    "    reactor.add_volume(instr)\n",
    "print(f\"{reactor}, {len(reactor)=}\\n\")"
   ]
  },
  {
   "cell_type": "code",
   "execution_count": 10,
   "id": "f1b29d22",
   "metadata": {},
   "outputs": [
    {
     "name": "stdout",
     "output_type": "stream",
     "text": [
      "Volumes: 6645, len(reactor)=2758514936282235\n",
      "\n"
     ]
    }
   ],
   "source": [
    "instrs = load_input(testpath3)\n",
    "reactor = Reactor()\n",
    "for instr in instrs:\n",
    "    reactor.add_volume(instr)\n",
    "print(f\"{reactor}, {len(reactor)=}\\n\")"
   ]
  },
  {
   "cell_type": "markdown",
   "id": "895f5f16",
   "metadata": {},
   "source": [
    "Then we apply this to the puzzle data:"
   ]
  },
  {
   "cell_type": "code",
   "execution_count": 11,
   "id": "5b504718",
   "metadata": {},
   "outputs": [
    {
     "name": "stdout",
     "output_type": "stream",
     "text": [
      "Volumes: 42236, len(reactor)=1263946820845866\n",
      "\n"
     ]
    }
   ],
   "source": [
    "instrs = load_input(datapath)\n",
    "reactor = Reactor()\n",
    "for instr in instrs:\n",
    "    reactor.add_volume(instr)\n",
    "print(f\"{reactor}, {len(reactor)=}\\n\")"
   ]
  },
  {
   "cell_type": "markdown",
   "id": "ad1569ea",
   "metadata": {},
   "source": [
    "This is a bit slow, still. We could try to optimise by removing volumes that neutralise each other, so they don't contribute to later checks."
   ]
  },
  {
   "cell_type": "code",
   "execution_count": null,
   "id": "ad7ccac6",
   "metadata": {},
   "outputs": [],
   "source": []
  }
 ],
 "metadata": {
  "kernelspec": {
   "display_name": "Python 3 (ipykernel)",
   "language": "python",
   "name": "python3"
  },
  "language_info": {
   "codemirror_mode": {
    "name": "ipython",
    "version": 3
   },
   "file_extension": ".py",
   "mimetype": "text/x-python",
   "name": "python",
   "nbconvert_exporter": "python",
   "pygments_lexer": "ipython3",
   "version": "3.9.9"
  }
 },
 "nbformat": 4,
 "nbformat_minor": 5
}
