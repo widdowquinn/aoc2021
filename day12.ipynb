{
 "cells": [
  {
   "cell_type": "markdown",
   "id": "14eb741a",
   "metadata": {},
   "source": [
    "# Day 12: Passage Pathing\n",
    "\n",
    "With your submarine's subterranean subsystems subsisting suboptimally, the only way you're getting out of this cave anytime soon is by finding a path yourself. Not just a path - the only way to know if you've found the best path is to find all of them.\n",
    "\n",
    "Fortunately, the sensors are still mostly working, and so you build a rough map of the remaining caves (your puzzle input). For example:\n",
    "\n",
    "```text\n",
    "start-A\n",
    "start-b\n",
    "A-c\n",
    "A-b\n",
    "b-d\n",
    "A-end\n",
    "b-end\n",
    "```\n",
    "\n",
    "This is a list of how all of the caves are connected. You start in the cave named `start`, and your destination is the cave named end. An entry like `b-d` means that cave `b` is connected to cave `d` - that is, you can move between them.\n",
    "\n",
    "So, the above cave system looks roughly like this:\n",
    "\n",
    "```text\n",
    "    start\n",
    "    /   \\\n",
    "c--A-----b--d\n",
    "    \\   /\n",
    "     end\n",
    "```\n",
    "\n",
    "Your goal is to find the number of distinct paths that start at `start`, end at `end`, and don't visit small caves more than once. There are two types of caves: big caves (written in uppercase, like `A`) and small caves (written in lowercase, like `b`). It would be a waste of time to visit any small cave more than once, but big caves are large enough that it might be worth visiting them multiple times. So, all paths you find should visit small caves at most once, and can visit big caves any number of times.\n",
    "\n",
    "Given these rules, there are 10 paths through this example cave system:\n",
    "\n",
    "```text\n",
    "start,A,b,A,c,A,end\n",
    "start,A,b,A,end\n",
    "start,A,b,end\n",
    "start,A,c,A,b,A,end\n",
    "start,A,c,A,b,end\n",
    "start,A,c,A,end\n",
    "start,A,end\n",
    "start,b,A,c,A,end\n",
    "start,b,A,end\n",
    "start,b,end\n",
    "```\n",
    "\n",
    "(Each line in the above list corresponds to a single path; the caves visited by that path are listed in the order they are visited and separated by commas.)\n",
    "\n",
    "Note that in this cave system, cave `d` is never visited by any path: to do so, cave `b` would need to be visited twice (once on the way to cave `d` and `a` second time when returning from cave `d`), and since cave `b` is small, this is not allowed.\n",
    "\n",
    "Here is a slightly larger example:\n",
    "\n",
    "```text\n",
    "dc-end\n",
    "HN-start\n",
    "start-kj\n",
    "dc-start\n",
    "dc-HN\n",
    "LN-dc\n",
    "HN-end\n",
    "kj-sa\n",
    "kj-HN\n",
    "kj-dc\n",
    "```\n",
    "\n",
    "The 19 paths through it are as follows:\n",
    "\n",
    "```text\n",
    "start,HN,dc,HN,end\n",
    "start,HN,dc,HN,kj,HN,end\n",
    "start,HN,dc,end\n",
    "start,HN,dc,kj,HN,end\n",
    "start,HN,end\n",
    "start,HN,kj,HN,dc,HN,end\n",
    "start,HN,kj,HN,dc,end\n",
    "start,HN,kj,HN,end\n",
    "start,HN,kj,dc,HN,end\n",
    "start,HN,kj,dc,end\n",
    "start,dc,HN,end\n",
    "start,dc,HN,kj,HN,end\n",
    "start,dc,end\n",
    "start,dc,kj,HN,end\n",
    "start,kj,HN,dc,HN,end\n",
    "start,kj,HN,dc,end\n",
    "start,kj,HN,end\n",
    "start,kj,dc,HN,end\n",
    "start,kj,dc,end\n",
    "```\n",
    "\n",
    "Finally, this even larger example has 226 paths through it:\n",
    "\n",
    "```text\n",
    "fs-end\n",
    "he-DX\n",
    "fs-he\n",
    "start-DX\n",
    "pj-DX\n",
    "end-zg\n",
    "zg-sl\n",
    "zg-pj\n",
    "pj-he\n",
    "RW-he\n",
    "fs-DX\n",
    "pj-RW\n",
    "zg-RW\n",
    "start-pj\n",
    "he-WI\n",
    "zg-he\n",
    "pj-fs\n",
    "start-RW\n",
    "```\n",
    "\n",
    "**How many paths through this cave system are there that visit small caves at most once?**"
   ]
  },
  {
   "cell_type": "code",
   "execution_count": 1,
   "id": "6dbfcc97",
   "metadata": {},
   "outputs": [],
   "source": [
    "# Python imports\n",
    "from collections import defaultdict\n",
    "from copy import copy\n",
    "from pathlib import Path\n",
    "from typing import Callable, Dict, Generator, Iterable, List, Tuple\n",
    "\n",
    "import networkx as nx\n",
    "\n",
    "# Paths to data\n",
    "testpath1 = Path(\"day12_test.txt\")\n",
    "testpath2 = Path(\"day12_test2.txt\")\n",
    "testpath3 = Path(\"day12_test3.txt\")\n",
    "datapath = Path(\"day12_data.txt\")"
   ]
  },
  {
   "cell_type": "markdown",
   "id": "d87b8da2",
   "metadata": {},
   "source": [
    "It seems natural to use `networkx` to represent the graph in the puzzle."
   ]
  },
  {
   "cell_type": "code",
   "execution_count": 2,
   "id": "b38c6acc",
   "metadata": {},
   "outputs": [],
   "source": [
    "def load_input(fpath: Path) -> List[Tuple[str, str]]:\n",
    "    \"\"\"Return graph as a list of edges\n",
    "    \n",
    "    :param fpath:  Path to data file\n",
    "    \"\"\"\n",
    "    with fpath.open(\"r\") as ifh:\n",
    "        return [tuple(_.strip().split(\"-\")) for _ in ifh.readlines() if len(_.strip())]\n",
    "    \n",
    "def graph_from_edges(edges: List[Tuple[str, str]]) -> nx.Graph:\n",
    "    \"\"\"Returns a graph corresponding to the edgelist\n",
    "    \n",
    "    :param edges:  list of edges in puzzle data\n",
    "    \"\"\"\n",
    "    gph = nx.Graph()  # empty Graph\n",
    "    \n",
    "    # Add edges\n",
    "    for start, end in edges:\n",
    "        gph.add_edge(start, end)\n",
    "    \n",
    "    return gph"
   ]
  },
  {
   "cell_type": "markdown",
   "id": "1ef09f17",
   "metadata": {},
   "source": [
    "Our strategy is to maintain multiple \"active\" paths, spreading out one neighbour at a time. The initial path is the `start` node. We maintain a list of visited small caves for each active path.\n",
    "\n",
    "A path becomes inactive (and drops out) if a small cave would be visited twice. It becomes inactive (and a \"final path\") if the `end` node is visited."
   ]
  },
  {
   "cell_type": "code",
   "execution_count": 3,
   "id": "71f67ea7",
   "metadata": {},
   "outputs": [],
   "source": [
    "def find_paths(gph: nx.Graph) -> List[List[str]]:\n",
    "    \"\"\"Returns all paths from start to end that never touch a smallcave twice\n",
    "    \n",
    "    :param gph:  puzzle graph\n",
    "    \"\"\"\n",
    "    paths = [([\"start\"], [\"start\",])]  # initialise paths\n",
    "    fullpaths = []  # will hold paths that reach the end\n",
    "\n",
    "    # Iterate until all test paths are discarded, or found to be\n",
    "    # valid paths from start to end\n",
    "    while len(paths):\n",
    "        newpaths = []  # List of valid paths found in this iteration\n",
    "        \n",
    "        for smallcaves, path in paths:  # Check each active path\n",
    "            # Iterate over neighbour node labels at end of path, if not\n",
    "            # an already visited small cave\n",
    "            for nbr in [str(_) for _ in gph[path[-1]] if _ not in smallcaves]:\n",
    "                if nbr == \"end\":  # neighbour is end\n",
    "                    # Extend path to end and add to fullpaths\n",
    "                    fullpaths.append(path[:] + [nbr])\n",
    "                elif nbr.lower() == nbr:  # neighbour is small cave\n",
    "                    # Extend list of small caves, extend path, and add\n",
    "                    # to list of paths for next iteration\n",
    "                    newpaths.append((smallcaves[:] + [nbr], path[:] + [nbr]))\n",
    "                else:\n",
    "                    # Do not change list of small caves, extend path,\n",
    "                    # and add to list of paths for next iteration\n",
    "                    newpaths.append((smallcaves[:], path[:] + [nbr]))\n",
    "                    \n",
    "        # Update new paths for next iteration\n",
    "        paths = newpaths[:]\n",
    "        \n",
    "    return fullpaths"
   ]
  },
  {
   "cell_type": "markdown",
   "id": "360b0792",
   "metadata": {},
   "source": [
    "We try this on each of the test sets in the puzzle:"
   ]
  },
  {
   "cell_type": "code",
   "execution_count": 4,
   "id": "43b1edfc",
   "metadata": {},
   "outputs": [
    {
     "data": {
      "text/plain": [
       "10"
      ]
     },
     "execution_count": 4,
     "metadata": {},
     "output_type": "execute_result"
    }
   ],
   "source": [
    "edges = load_input(testpath1)\n",
    "gph = graph_from_edges(edges)\n",
    "len(find_paths(gph))"
   ]
  },
  {
   "cell_type": "code",
   "execution_count": 5,
   "id": "b4d1807a",
   "metadata": {},
   "outputs": [
    {
     "data": {
      "text/plain": [
       "19"
      ]
     },
     "execution_count": 5,
     "metadata": {},
     "output_type": "execute_result"
    }
   ],
   "source": [
    "edges = load_input(testpath2)\n",
    "gph = graph_from_edges(edges)\n",
    "len(find_paths(gph))"
   ]
  },
  {
   "cell_type": "code",
   "execution_count": 6,
   "id": "33208671",
   "metadata": {},
   "outputs": [
    {
     "data": {
      "text/plain": [
       "226"
      ]
     },
     "execution_count": 6,
     "metadata": {},
     "output_type": "execute_result"
    }
   ],
   "source": [
    "edges = load_input(testpath3)\n",
    "gph = graph_from_edges(edges)\n",
    "len(find_paths(gph))"
   ]
  },
  {
   "cell_type": "markdown",
   "id": "003ed961",
   "metadata": {},
   "source": [
    "And then on the puzzle input:"
   ]
  },
  {
   "cell_type": "code",
   "execution_count": 7,
   "id": "33f5f200",
   "metadata": {},
   "outputs": [
    {
     "data": {
      "text/plain": [
       "4413"
      ]
     },
     "execution_count": 7,
     "metadata": {},
     "output_type": "execute_result"
    }
   ],
   "source": [
    "edges = load_input(datapath)\n",
    "gph = graph_from_edges(edges)\n",
    "len(find_paths(gph))"
   ]
  },
  {
   "cell_type": "markdown",
   "id": "544dfccc",
   "metadata": {},
   "source": [
    "## Puzzle 2:\n",
    "\n",
    "After reviewing the available paths, you realize you might have time to visit a single small cave twice. Specifically, big caves can be visited any number of times, a single small cave can be visited at most twice, and the remaining small caves can be visited at most once. However, the caves named start and end can only be visited exactly once each: once you leave the start cave, you may not return to it, and once you reach the end cave, the path must end immediately.\n",
    "\n",
    "Now, the 36 possible paths through the first example above are:\n",
    "\n",
    "```text\n",
    "start,A,b,A,b,A,c,A,end\n",
    "start,A,b,A,b,A,end\n",
    "start,A,b,A,b,end\n",
    "start,A,b,A,c,A,b,A,end\n",
    "start,A,b,A,c,A,b,end\n",
    "start,A,b,A,c,A,c,A,end\n",
    "start,A,b,A,c,A,end\n",
    "start,A,b,A,end\n",
    "start,A,b,d,b,A,c,A,end\n",
    "start,A,b,d,b,A,end\n",
    "start,A,b,d,b,end\n",
    "start,A,b,end\n",
    "start,A,c,A,b,A,b,A,end\n",
    "start,A,c,A,b,A,b,end\n",
    "start,A,c,A,b,A,c,A,end\n",
    "start,A,c,A,b,A,end\n",
    "start,A,c,A,b,d,b,A,end\n",
    "start,A,c,A,b,d,b,end\n",
    "start,A,c,A,b,end\n",
    "start,A,c,A,c,A,b,A,end\n",
    "start,A,c,A,c,A,b,end\n",
    "start,A,c,A,c,A,end\n",
    "start,A,c,A,end\n",
    "start,A,end\n",
    "start,b,A,b,A,c,A,end\n",
    "start,b,A,b,A,end\n",
    "start,b,A,b,end\n",
    "start,b,A,c,A,b,A,end\n",
    "start,b,A,c,A,b,end\n",
    "start,b,A,c,A,c,A,end\n",
    "start,b,A,c,A,end\n",
    "start,b,A,end\n",
    "start,b,d,b,A,c,A,end\n",
    "start,b,d,b,A,end\n",
    "start,b,d,b,end\n",
    "start,b,end\n",
    "```\n",
    "\n",
    "The slightly larger example above now has 103 paths through it, and the even larger example now has 3509 paths through it.\n",
    "\n",
    "**Given these new rules, how many paths through this cave system are there?**"
   ]
  },
  {
   "cell_type": "markdown",
   "id": "eb58ba1a",
   "metadata": {},
   "source": [
    "The modification we make is to swap out the list of visited small caves for each path, and use a `defaultdict(int)` keyed by small cave label, instead. This lets us keep a count of visits to each small cave and impose a maximum of one cave being visited twice.\n",
    "\n",
    "Otherwise, our strategy is the same: we maintain multiple \"active\" paths, spreading out one neighbour at a time. The initial path is the start node. We maintain a dict of visited small caves for each active path.\n",
    "\n",
    "A path becomes inactive (and drops out) if more than one small cave would be visited twice. It becomes inactive (and a \"final path\") if the end node is visited."
   ]
  },
  {
   "cell_type": "code",
   "execution_count": 8,
   "id": "0be72b71",
   "metadata": {},
   "outputs": [],
   "source": [
    "def find_paths_with_one_small_revisit(gph: nx.Graph) -> List[List[str]]:\n",
    "    \"\"\"Returns all paths from start to end that never touch a smallcave twice\n",
    "    \n",
    "    :param gph:  puzzle graph\n",
    "    \"\"\"\n",
    "    paths = [(defaultdict(int), [\"start\",])]  # initialise paths\n",
    "    fullpaths = []  # will hold paths that reach the end\n",
    "\n",
    "    # Iterate until all test paths are discarded, or found to be\n",
    "    # valid paths from start to end\n",
    "    while len(paths):\n",
    "        newpaths = []  # list of valid paths found in this iteration\n",
    "        maxvisits = 0  # initialise max visit count for small caves\n",
    "        \n",
    "        for smallcaves, path in paths:  # Check each active path\n",
    "            # Do we need to update maxvisits?\n",
    "            if maxvisits < 3 and len(smallcaves):\n",
    "                maxvisits = max(smallcaves.values())\n",
    "                \n",
    "            # Iterate over neighbour node labels at end of path, if not\n",
    "            # a small cave that has already been visited twice\n",
    "            for nbr in [str(_) for _ in gph[path[-1]] if smallcaves[_] < 2]:\n",
    "                if nbr == \"end\":  # neighbour is end\n",
    "                    # Extend path to end and add to fullpaths\n",
    "                    fullpaths.append(path[:] + [nbr])\n",
    "                elif nbr.upper() == nbr:  # neigbour is large cave\n",
    "                    # Do not change dict of small caves, extend path,\n",
    "                    # and add to list of paths for next iteration\n",
    "                    newpaths.append((copy(smallcaves), path[:] + [nbr]))\n",
    "                elif nbr == \"start\":  # do not revisit start\n",
    "                    pass\n",
    "                else:  # neighbour is small cave\n",
    "                    # Extend dict of small caves, extend path, and add\n",
    "                    # to list of paths for next iteration\n",
    "                    newcaves = copy(smallcaves)\n",
    "                    if maxvisits < 2:  # No cave has yet been visited twice\n",
    "                        newcaves[nbr] += 1                        \n",
    "                        newpaths.append((newcaves, path[:] + [nbr]))\n",
    "                    elif newcaves[nbr] == 0:  # This cave has not been visited\n",
    "                        newcaves[nbr] += 1                        \n",
    "                        newpaths.append((newcaves, path[:] + [nbr]))\n",
    "                    else:  # Cave has been visited, and max revisits already reached\n",
    "                        pass                        \n",
    "                    \n",
    "        # Update new paths for next iteration\n",
    "        paths = newpaths[:]\n",
    "        \n",
    "    return fullpaths"
   ]
  },
  {
   "cell_type": "markdown",
   "id": "d7be32df",
   "metadata": {},
   "source": [
    "Trying this on the test data:"
   ]
  },
  {
   "cell_type": "code",
   "execution_count": 9,
   "id": "b911b4c3",
   "metadata": {},
   "outputs": [
    {
     "data": {
      "text/plain": [
       "36"
      ]
     },
     "execution_count": 9,
     "metadata": {},
     "output_type": "execute_result"
    }
   ],
   "source": [
    "edges = load_input(testpath1)\n",
    "gph = graph_from_edges(edges)\n",
    "len(find_paths_with_one_small_revisit(gph))"
   ]
  },
  {
   "cell_type": "code",
   "execution_count": 10,
   "id": "482ba0c8",
   "metadata": {},
   "outputs": [
    {
     "data": {
      "text/plain": [
       "103"
      ]
     },
     "execution_count": 10,
     "metadata": {},
     "output_type": "execute_result"
    }
   ],
   "source": [
    "edges = load_input(testpath2)\n",
    "gph = graph_from_edges(edges)\n",
    "len(find_paths_with_one_small_revisit(gph))"
   ]
  },
  {
   "cell_type": "code",
   "execution_count": 11,
   "id": "5d0e10d8",
   "metadata": {},
   "outputs": [
    {
     "data": {
      "text/plain": [
       "3509"
      ]
     },
     "execution_count": 11,
     "metadata": {},
     "output_type": "execute_result"
    }
   ],
   "source": [
    "edges = load_input(testpath3)\n",
    "gph = graph_from_edges(edges)\n",
    "len(find_paths_with_one_small_revisit(gph))"
   ]
  },
  {
   "cell_type": "markdown",
   "id": "7a3f4476",
   "metadata": {},
   "source": [
    "And on the puzzle data:"
   ]
  },
  {
   "cell_type": "code",
   "execution_count": 12,
   "id": "a70c7ad4",
   "metadata": {},
   "outputs": [
    {
     "data": {
      "text/plain": [
       "118803"
      ]
     },
     "execution_count": 12,
     "metadata": {},
     "output_type": "execute_result"
    }
   ],
   "source": [
    "edges = load_input(datapath)\n",
    "gph = graph_from_edges(edges)\n",
    "len(find_paths_with_one_small_revisit(gph))"
   ]
  },
  {
   "cell_type": "markdown",
   "id": "8b1d395c",
   "metadata": {},
   "source": [
    "The solution seems a bit slow. We should be able to get the answer in under a second.\n",
    "\n",
    "**Some improvement is needed.**"
   ]
  },
  {
   "cell_type": "code",
   "execution_count": 13,
   "id": "9b2595e1",
   "metadata": {},
   "outputs": [
    {
     "name": "stdout",
     "output_type": "stream",
     "text": [
      "4.08 s ± 153 ms per loop (mean ± std. dev. of 7 runs, 1 loop each)\n"
     ]
    }
   ],
   "source": [
    "%%timeit\n",
    "edges = load_input(datapath)\n",
    "gph = graph_from_edges(edges)\n",
    "len(find_paths_with_one_small_revisit(gph))"
   ]
  },
  {
   "cell_type": "code",
   "execution_count": null,
   "id": "fb5e4cec",
   "metadata": {},
   "outputs": [],
   "source": []
  }
 ],
 "metadata": {
  "kernelspec": {
   "display_name": "Python 3 (ipykernel)",
   "language": "python",
   "name": "python3"
  },
  "language_info": {
   "codemirror_mode": {
    "name": "ipython",
    "version": 3
   },
   "file_extension": ".py",
   "mimetype": "text/x-python",
   "name": "python",
   "nbconvert_exporter": "python",
   "pygments_lexer": "ipython3",
   "version": "3.10.0"
  }
 },
 "nbformat": 4,
 "nbformat_minor": 5
}
