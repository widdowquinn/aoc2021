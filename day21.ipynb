{
 "cells": [
  {
   "cell_type": "markdown",
   "id": "70088b8f",
   "metadata": {},
   "source": [
    "# Day 21: Dirac Dice\n",
    "\n",
    "There's not much to do as you slowly descend to the bottom of the ocean. The submarine computer challenges you to a nice game of Dirac Dice.\n",
    "\n",
    "This game consists of a single die, two pawns, and a game board with a circular track containing ten spaces marked 1 through 10 clockwise. Each player's starting space is chosen randomly (your puzzle input). Player 1 goes first.\n",
    "\n",
    "Players take turns moving. On each player's turn, the player rolls the die three times and adds up the results. Then, the player moves their pawn that many times forward around the track (that is, moving clockwise on spaces in order of increasing value, wrapping back around to 1 after 10). So, if a player is on space 7 and they roll 2, 2, and 1, they would move forward 5 times, to spaces 8, 9, 10, 1, and finally stopping on 2.\n",
    "\n",
    "After each player moves, they increase their score by the value of the space their pawn stopped on. Players' scores start at 0. So, if the first player starts on space 7 and rolls a total of 5, they would stop on space 2 and add 2 to their score (for a total score of 2). The game immediately ends as a win for any player whose score reaches at least 1000.\n",
    "\n",
    "Since the first game is a practice game, the submarine opens a compartment labeled deterministic dice and a 100-sided die falls out. This die always rolls 1 first, then 2, then 3, and so on up to 100, after which it starts over at 1 again. Play using this die.\n",
    "\n",
    "For example, given these starting positions:\n",
    "\n",
    "```text\n",
    "Player 1 starting position: 4\n",
    "Player 2 starting position: 8\n",
    "```\n",
    "\n",
    "This is how the game would go:\n",
    "\n",
    "    Player 1 rolls 1+2+3 and moves to space 10 for a total score of 10.\n",
    "    Player 2 rolls 4+5+6 and moves to space 3 for a total score of 3.\n",
    "    Player 1 rolls 7+8+9 and moves to space 4 for a total score of 14.\n",
    "    Player 2 rolls 10+11+12 and moves to space 6 for a total score of 9.\n",
    "    Player 1 rolls 13+14+15 and moves to space 6 for a total score of 20.\n",
    "    Player 2 rolls 16+17+18 and moves to space 7 for a total score of 16.\n",
    "    Player 1 rolls 19+20+21 and moves to space 6 for a total score of 26.\n",
    "    Player 2 rolls 22+23+24 and moves to space 6 for a total score of 22.\n",
    "\n",
    "...after many turns...\n",
    "\n",
    "    Player 2 rolls 82+83+84 and moves to space 6 for a total score of 742.\n",
    "    Player 1 rolls 85+86+87 and moves to space 4 for a total score of 990.\n",
    "    Player 2 rolls 88+89+90 and moves to space 3 for a total score of 745.\n",
    "    Player 1 rolls 91+92+93 and moves to space 10 for a final score, 1000.\n",
    "\n",
    "Since player 1 has at least 1000 points, player 1 wins and the game ends. At this point, the losing player had 745 points and the die had been rolled a total of 993 times; `745 * 993 = 739785`.\n",
    "\n",
    "Play a practice game using the deterministic 100-sided die. **The moment either player wins, what do you get if you multiply the score of the losing player by the number of times the die was rolled during the game?**"
   ]
  },
  {
   "cell_type": "code",
   "execution_count": 1,
   "id": "d23d7f16",
   "metadata": {},
   "outputs": [],
   "source": [
    "# Python imports\n",
    "from functools import lru_cache\n",
    "from itertools import combinations, permutations\n",
    "from pathlib import Path\n",
    "from typing import Callable, Dict, Generator, Iterable, List, Optional, Set, Tuple\n",
    "\n",
    "import numpy as np\n",
    "\n",
    "# Paths to data\n",
    "testpath = Path(\"day21_test.txt\")\n",
    "datapath = Path(\"day21_data.txt\")"
   ]
  },
  {
   "cell_type": "code",
   "execution_count": 2,
   "id": "719fc41f",
   "metadata": {},
   "outputs": [],
   "source": [
    "def load_input(fpath: Path) -> Tuple[Dict[int,int], np.array]:\n",
    "    \"\"\"Return the game start positions\n",
    "    \n",
    "    :param fpath:  Path to data file\n",
    "    \"\"\"\n",
    "    with fpath.open(\"r\") as ifh:\n",
    "        p1_start = int(ifh.readline().strip().split()[-1])\n",
    "        p2_start = int(ifh.readline().strip().split()[-1])                \n",
    "\n",
    "    return p1_start, p2_start"
   ]
  },
  {
   "cell_type": "markdown",
   "id": "c0302534",
   "metadata": {},
   "source": [
    "We can approach this with a prett straight-ahead function that plays the game until there's a winner:"
   ]
  },
  {
   "cell_type": "code",
   "execution_count": 3,
   "id": "4edbc9ba",
   "metadata": {},
   "outputs": [],
   "source": [
    "def play(p1_start, p2_start, die_size=100, board_size=10, end_score=1000):\n",
    "    p1_pos, p2_pos = p1_start % board_size, p2_start % board_size\n",
    "    p1_score, p2_score = 0, 0\n",
    "    die_roll_count, die_state = 0, 0\n",
    "    while True:\n",
    "        # P1 move\n",
    "        # Roll die x3\n",
    "        die_rolls = (die_state + np.array([1, 2, 3])) % die_size\n",
    "        die_roll_count += 3\n",
    "        die_state = die_rolls[-1]\n",
    "        # Move\n",
    "        p1_pos = (p1_pos + die_rolls.sum()) % board_size\n",
    "        # Increment score\n",
    "        if p1_pos == 0:  # we're doing mod10 so need this\n",
    "            p1_score += 10\n",
    "        p1_score += p1_pos\n",
    "        if p1_score >= end_score:\n",
    "            break\n",
    "            \n",
    "        # P2 move\n",
    "        # Roll die x3\n",
    "        die_rolls = (die_state + np.array([1, 2, 3])) % die_size\n",
    "        die_roll_count += 3\n",
    "        die_state = die_rolls[-1]\n",
    "        # Move\n",
    "        p2_pos = (p2_pos + die_rolls.sum()) % board_size\n",
    "        # Increment score\n",
    "        if p2_pos == 0:  # we're doing mod10 so need this\n",
    "            p2_score += 10\n",
    "        p2_score += p2_pos\n",
    "        if p2_score >= end_score:\n",
    "            break\n",
    "        \n",
    "    return die_roll_count, min(p1_score, p2_score)"
   ]
  },
  {
   "cell_type": "markdown",
   "id": "b501da01",
   "metadata": {},
   "source": [
    "This looks to give the correct answer for our example:"
   ]
  },
  {
   "cell_type": "code",
   "execution_count": 4,
   "id": "0d4459a8",
   "metadata": {},
   "outputs": [
    {
     "name": "stdout",
     "output_type": "stream",
     "text": [
      "np.prod(play(p1_start, p2_start))=739785\n"
     ]
    }
   ],
   "source": [
    "p1_start, p2_start = load_input(testpath)\n",
    "print(f\"{np.prod(play(p1_start, p2_start))=}\")"
   ]
  },
  {
   "cell_type": "markdown",
   "id": "3e127fc5",
   "metadata": {},
   "source": [
    "And with our puzzle data, we have:"
   ]
  },
  {
   "cell_type": "code",
   "execution_count": 5,
   "id": "83522a09",
   "metadata": {},
   "outputs": [
    {
     "name": "stdout",
     "output_type": "stream",
     "text": [
      "np.prod(play(p1_start, p2_start))=720750\n"
     ]
    }
   ],
   "source": [
    "p1_start, p2_start = load_input(datapath)\n",
    "print(f\"{np.prod(play(p1_start, p2_start))=}\")"
   ]
  },
  {
   "cell_type": "markdown",
   "id": "95c230fd",
   "metadata": {},
   "source": [
    "## Puzzle 2:\n",
    "\n",
    "Now that you're warmed up, it's time to play the real game.\n",
    "\n",
    "A second compartment opens, this time labeled Dirac dice. Out of it falls a single three-sided die.\n",
    "\n",
    "As you experiment with the die, you feel a little strange. An informational brochure in the compartment explains that this is a quantum die: when you roll it, the universe splits into multiple copies, one copy for each possible outcome of the die. In this case, rolling the die always splits the universe into three copies: one where the outcome of the roll was 1, one where it was 2, and one where it was 3.\n",
    "\n",
    "The game is played the same as before, although to prevent things from getting too far out of h}and, the game now ends when either player's score reaches at least 21.\n",
    "\n",
    "Using the same starting positions as in the example above, player 1 wins in 444356092776315 universes, while player 2 merely wins in 341960390180808 universes.\n",
    "\n",
    "Using your given starting positions, determine every possible outcome. **Find the player that wins in more universes; in how many universes does that player win?**"
   ]
  },
  {
   "cell_type": "markdown",
   "id": "c81b6653",
   "metadata": {},
   "source": [
    "This is very different from the first problem and caused me all kinds of headaches! Not least - again - understanding the way the question was phrased."
   ]
  },
  {
   "cell_type": "markdown",
   "id": "541f0811",
   "metadata": {},
   "source": [
    "So, on each turn, a player rolls the Dirac die three times, resulting in a total roll in:\n",
    "\n",
    "```text\n",
    "3: {(1, 1, 1)}, [1]\n",
    "4: {(1, 1, 2),(1, 2, 1),(2, 1, 1)}, [3]\n",
    "5: {(1, 1, 3),(1, 2, 2),(1, 3, 1),(2, 1, 2),(2, 2, 1),(3, 1, 1)}, [6]\n",
    "6: {(1, 2, 3),(1, 3, 2),(2, 1, 3),(2, 2, 2),(2, 3, 1),(3, 1, 2),(3, 2, 1)}, [7]\n",
    "7: {(1, 3, 3),(2, 2, 3),(2, 3, 2),(3, 1, 3),(3, 2, 2),(3, 3, 1)}, [6]\n",
    "8: {(2, 3, 3), (3, 2, 3), (3, 3, 2)}, [3]\n",
    "9: {(3, 3, 3)} [1]\n",
    "```\n",
    "\n",
    "leading to 27 universes spawned on each turn. For each universe, the other player spawns another 27 universes, and so on.\n",
    "\n",
    "Using the frequencies (in square brackets above), we need only account for one universe per sum of rolls - but we need to keep a count of the number of such universes."
   ]
  },
  {
   "cell_type": "markdown",
   "id": "e7f359fd",
   "metadata": {},
   "source": [
    "We approach this with a recursive function and, because of the extremely large number of universes/calculations implied in the text above, we want to make sure that, for a given set of input values, we've cached the appropriate outputs.\n",
    "\n",
    "We consider one player at a time, taking care to consider the \"current player\" (active) and \"other player\" (passive). The end-state for the recursion is a \"win\" for the \"other player\" before the current player even starts, so we first determine if the other player has won and, if so, return `(0, 1)` as \"current player wins, other player wins\" (we need to maintain this form so that we pass up both win counts as the recursion proceeds). If the other player has not won, we consider every roll for the current player and recurse the function.\n",
    "\n",
    "When recursing, we pass down the player positions and scores, taking care to swap the current/other player. So, at the first iteration, \"current\" is P1, \"other\" is P2; P2 can't win immediately, so we consider all rolls for P1 and recurse the function with \"current\" as P2 and \"other\" as P1."
   ]
  },
  {
   "cell_type": "code",
   "execution_count": 6,
   "id": "d95348a7",
   "metadata": {},
   "outputs": [],
   "source": [
    "# (Sum of) roll frequencies - see above\n",
    "freqdict = {3:1, 4:3, 5:6, 6:7, 7:6, 8:3, 9:1}\n",
    "\n",
    "@lru_cache(maxsize=None)\n",
    "def play_dirac(cur_player_pos, other_player_pos, cur_player_score, other_player_score):\n",
    "    # Return a winner if either player scored >= 21\n",
    "    if other_player_score >= 21:\n",
    "        return 0, 1  # the other player wins before the current player rolls\n",
    "    \n",
    "    # We don't have a winner, so current player rolls\n",
    "    # So far we don't know how many wins there are downstream\n",
    "    # of this state, so set total wins for each player here to 0\n",
    "    cur_player_tot_wins, other_player_tot_wins = 0, 0\n",
    "    \n",
    "    # We know that the current state will result in 27 universes for\n",
    "    # the current player, on the next roll, but we need only consider\n",
    "    # the possible roll sums, and multiply the wins by their frequency\n",
    "    for roll, count in freqdict.items():\n",
    "        new_cur_player_pos = (cur_player_pos + roll) % 10\n",
    "        if new_cur_player_pos == 0:  # we're doing mod10 so need this\n",
    "            new_cur_player_score = cur_player_score + 10\n",
    "        else:\n",
    "            new_cur_player_score = cur_player_score + new_cur_player_pos\n",
    "        \n",
    "        # Play next round (swap players)\n",
    "        other_player_win, cur_player_win = play_dirac(other_player_pos,\n",
    "                                                      new_cur_player_pos,\n",
    "                                                      other_player_score,\n",
    "                                                      new_cur_player_score)\n",
    "        \n",
    "        # Update win counts\n",
    "        cur_player_tot_wins += cur_player_win * count\n",
    "        other_player_tot_wins += other_player_win * count     \n",
    "        \n",
    "    # Return total win count for each player\n",
    "    return cur_player_tot_wins, other_player_tot_wins"
   ]
  },
  {
   "cell_type": "markdown",
   "id": "8f74d532",
   "metadata": {},
   "source": [
    "Trying this on the example data:"
   ]
  },
  {
   "cell_type": "code",
   "execution_count": 7,
   "id": "227e8d43",
   "metadata": {},
   "outputs": [
    {
     "name": "stdout",
     "output_type": "stream",
     "text": [
      "Most wins: max(play_dirac(p1_start, p2_start, 0, 0))=444356092776315\n"
     ]
    }
   ],
   "source": [
    "p1_start, p2_start = load_input(testpath)\n",
    "print(f\"Most wins: {max(play_dirac(p1_start, p2_start, 0, 0))=}\")"
   ]
  },
  {
   "cell_type": "markdown",
   "id": "8ec5d8e8",
   "metadata": {},
   "source": [
    "And with the puzzle data:"
   ]
  },
  {
   "cell_type": "code",
   "execution_count": 8,
   "id": "0a9ca4e5",
   "metadata": {},
   "outputs": [
    {
     "name": "stdout",
     "output_type": "stream",
     "text": [
      "Most wins: max(play_dirac(p1_start, p2_start, 0, 0))=275067741811212\n"
     ]
    }
   ],
   "source": [
    "p1_start, p2_start = load_input(datapath)\n",
    "print(f\"Most wins: {max(play_dirac(p1_start, p2_start, 0, 0))=}\")"
   ]
  },
  {
   "cell_type": "code",
   "execution_count": null,
   "id": "6b2f35b8",
   "metadata": {},
   "outputs": [],
   "source": []
  }
 ],
 "metadata": {
  "kernelspec": {
   "display_name": "Python 3 (ipykernel)",
   "language": "python",
   "name": "python3"
  },
  "language_info": {
   "codemirror_mode": {
    "name": "ipython",
    "version": 3
   },
   "file_extension": ".py",
   "mimetype": "text/x-python",
   "name": "python",
   "nbconvert_exporter": "python",
   "pygments_lexer": "ipython3",
   "version": "3.9.9"
  }
 },
 "nbformat": 4,
 "nbformat_minor": 5
}
