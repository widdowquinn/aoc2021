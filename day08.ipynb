{
 "cells": [
  {
   "cell_type": "markdown",
   "id": "0b9852a1",
   "metadata": {},
   "source": [
    "# Day 08: Seven Segment Search\n",
    "\n",
    "You barely reach the safety of the cave when the whale smashes into the cave mouth, collapsing it. Sensors indicate another exit to this cave at a much greater depth, so you have no choice but to press on.\n",
    "\n",
    "As your submarine slowly makes its way through the cave system, you notice that the four-digit seven-segment displays in your submarine are malfunctioning; they must have been damaged during the escape. You'll be in a lot of trouble without them, so you'd better figure out what's wrong.\n",
    "\n",
    "Each digit of a seven-segment display is rendered by turning on or off any of seven segments named a through g:\n",
    "\n",
    "```text\n",
    "  0:      1:      2:      3:      4:\n",
    " aaaa    ....    aaaa    aaaa    ....\n",
    "b    c  .    c  .    c  .    c  b    c\n",
    "b    c  .    c  .    c  .    c  b    c\n",
    " ....    ....    dddd    dddd    dddd\n",
    "e    f  .    f  e    .  .    f  .    f\n",
    "e    f  .    f  e    .  .    f  .    f\n",
    " gggg    ....    gggg    gggg    ....\n",
    "\n",
    "  5:      6:      7:      8:      9:\n",
    " aaaa    aaaa    aaaa    aaaa    aaaa\n",
    "b    .  b    .  .    c  b    c  b    c\n",
    "b    .  b    .  .    c  b    c  b    c\n",
    " dddd    dddd    ....    dddd    dddd\n",
    ".    f  e    f  .    f  e    f  .    f\n",
    ".    f  e    f  .    f  e    f  .    f\n",
    " gggg    gggg    ....    gggg    gggg\n",
    "```\n",
    "\n",
    "So, to render a 1, only segments c and f would be turned on; the rest would be off. To render a 7, only segments a, c, and f would be turned on.\n",
    "\n",
    "The problem is that the signals which control the segments have been mixed up on each display. The submarine is still trying to display numbers by producing output on signal wires a through g, but those wires are connected to segments randomly. Worse, the wire/segment connections are mixed up separately for each four-digit display! (All of the digits within a display use the same connections, though.)\n",
    "\n",
    "So, you might know that only signal wires b and g are turned on, but that doesn't mean segments b and g are turned on: the only digit that uses two segments is 1, so it must mean segments c and f are meant to be on. With just that information, you still can't tell which wire (b/g) goes to which segment (c/f). For that, you'll need to collect more information.\n",
    "\n",
    "For each display, you watch the changing signals for a while, make a note of all ten unique signal patterns you see, and then write down a single four digit output value (your puzzle input). Using the signal patterns, you should be able to work out which pattern corresponds to which digit.\n",
    "\n",
    "For example, here is what you might see in a single entry in your notes:\n",
    "\n",
    "```text\n",
    "acedgfb cdfbe gcdfa fbcad dab cefabd cdfgeb eafb cagedb ab |\n",
    "cdfeb fcadb cdfeb cdbaf\n",
    "```\n",
    "\n",
    "(The entry is wrapped here to two lines so it fits; in your notes, it will all be on a single line.)\n",
    "\n",
    "Each entry consists of ten unique signal patterns, a | delimiter, and finally the four digit output value. Within an entry, the same wire/segment connections are used (but you don't know what the connections actually are). The unique signal patterns correspond to the ten different ways the submarine tries to render a digit using the current wire/segment connections. Because 7 is the only digit that uses three segments, dab in the above example means that to render a 7, signal lines d, a, and b are on. Because 4 is the only digit that uses four segments, eafb means that to render a 4, signal lines e, a, f, and b are on.\n",
    "\n",
    "Using this information, you should be able to work out which combination of signal wires corresponds to each of the ten digits. Then, you can decode the four digit output value. Unfortunately, in the above example, all of the digits in the output value (cdfeb fcadb cdfeb cdbaf) use five segments and are more difficult to deduce.\n",
    "\n",
    "For now, focus on the easy digits. Consider this larger example:\n",
    "\n",
    "```text\n",
    "be cfbegad cbdgef fgaecd cgeb fdcge agebfd fecdb fabcd edb |\n",
    "fdgacbe cefdb cefbgd gcbe\n",
    "edbfga begcd cbg gc gcadebf fbgde acbgfd abcde gfcbed gfec |\n",
    "fcgedb cgb dgebacf gc\n",
    "fgaebd cg bdaec gdafb agbcfd gdcbef bgcad gfac gcb cdgabef |\n",
    "cg cg fdcagb cbg\n",
    "fbegcd cbd adcefb dageb afcb bc aefdc ecdab fgdeca fcdbega |\n",
    "efabcd cedba gadfec cb\n",
    "aecbfdg fbg gf bafeg dbefa fcge gcbea fcaegb dgceab fcbdga |\n",
    "gecf egdcabf bgf bfgea\n",
    "fgeab ca afcebg bdacfeg cfaedg gcfdb baec bfadeg bafgc acf |\n",
    "gebdcfa ecba ca fadegcb\n",
    "dbcfg fgd bdegcaf fgec aegbdf ecdfab fbedc dacgb gdcebf gf |\n",
    "cefg dcbef fcge gbcadfe\n",
    "bdfegc cbegaf gecbf dfcage bdacg ed bedf ced adcbefg gebcd |\n",
    "ed bcgafe cdgba cbgef\n",
    "egadfb cdbfeg cegd fecab cgb gbdefca cg fgcdab egfdb bfceg |\n",
    "gbdfcae bgc cg cgb\n",
    "gcafb gcf dcaebfg ecagb gf abcdeg gaef cafbge fdbac fegbdc |\n",
    "fgae cfgab fg bagce\n",
    "```\n",
    "\n",
    "Because the digits 1, 4, 7, and 8 each use a unique number of segments, you should be able to tell which combinations of signals correspond to those digits. Counting only digits in the output values (the part after | on each line), in the above example, there are 26 instances of digits that use a unique number of segments (highlighted above).\n",
    "\n",
    "In the output values, how many times do digits 1, 4, 7, or 8 appear?"
   ]
  },
  {
   "cell_type": "code",
   "execution_count": 1,
   "id": "7c1d3ec3",
   "metadata": {},
   "outputs": [],
   "source": [
    "# Python imports\n",
    "from pathlib import Path\n",
    "from typing import Callable, Dict, Iterable, List, Tuple\n",
    "\n",
    "import numpy as np\n",
    "\n",
    "# Paths to data\n",
    "testpath = Path(\"day08_test.txt\")\n",
    "datapath = Path(\"day08_data.txt\")"
   ]
  },
  {
   "cell_type": "markdown",
   "id": "33b0b8e0",
   "metadata": {},
   "source": [
    "We load corresponding signal wire input and digit segment output data as a tuple. From a quick scan of the test data, we can see that the input wire symbol order doesn't necessarily match the output digit segment order, so we also order the symbols alphabetically for each signal and digit."
   ]
  },
  {
   "cell_type": "code",
   "execution_count": 2,
   "id": "d337430f",
   "metadata": {},
   "outputs": [],
   "source": [
    "def load_input(fpath: Path) -> List[Tuple]:\n",
    "    \"\"\"Return input signals and output digits as tuples\n",
    "    \n",
    "    :param fpath:  Path to data file\n",
    "    \n",
    "    The signal/digit string symbols are sorted into\n",
    "    alphabetical order, on loading.\n",
    "    \"\"\"\n",
    "    data = []  # holds corresponding tuples of signals and digits\n",
    "    \n",
    "    with fpath.open(\"r\") as ifh:\n",
    "        for line in [_.strip() for _ in ifh.readlines() if len(_.strip())]:\n",
    "            signals, digits = line.split(\" | \")\n",
    "            signals = [\"\".join(sorted(list(_))) for _ in signals.split()]\n",
    "            digits = [\"\".join(sorted(list(_))) for _ in digits.split()]\n",
    "            data.append((signals, digits))\n",
    "    \n",
    "    return data"
   ]
  },
  {
   "cell_type": "markdown",
   "id": "c556911f",
   "metadata": {},
   "source": [
    "I thought the introduction text was a bit sneaky, as the instruction to focus on just counting individual string lengths to decode digits led me to thinking about a fairly inelegant string of logical inferences for sequentially decoding the signals and digits. That slowed me down a lot.\n",
    "\n",
    "However, a better way to do this is to recognise that, for each digit (combination of segments), the count of differently-lit segements - when compared to all other digits - is unique. The lit segments are:\n",
    "\n",
    "```text\n",
    "  0:      1:      2:      3:      4:\n",
    " aaaa    ....    aaaa    aaaa    ....\n",
    "b    c  .    c  .    c  .    c  b    c\n",
    "b    c  .    c  .    c  .    c  b    c\n",
    " ....    ....    dddd    dddd    dddd\n",
    "e    f  .    f  e    .  .    f  .    f\n",
    "e    f  .    f  e    .  .    f  .    f\n",
    " gggg    ....    gggg    gggg    ....\n",
    "\n",
    "  5:      6:      7:      8:      9:\n",
    " aaaa    aaaa    aaaa    aaaa    aaaa\n",
    "b    .  b    .  .    c  b    c  b    c\n",
    "b    .  b    .  .    c  b    c  b    c\n",
    " dddd    dddd    ....    dddd    dddd\n",
    ".    f  e    f  .    f  e    f  .    f\n",
    ".    f  e    f  .    f  e    f  .    f\n",
    " gggg    gggg    ....    gggg    gggg\n",
    "```\n",
    "\n",
    "and the count of differently-lit segments (considered digit segments minus the other digit segments, in set arithmetic), when sorted, gives a unique code:\n",
    "\n",
    "- 0: -422321301 -> 011222334\n",
    "- 1: 0-10011000 -> 000000111\n",
    "- 2: 14-1321301 -> 011112334\n",
    "- 3: 131-211200 -> 001111223\n",
    "- 4: 1221-11200 -> 001111222\n",
    "- 5: 14212-0300 -> 000112234\n",
    "- 6: 152231-401 -> 011122345\n",
    "- 7: 0110111-00 -> 000011111\n",
    "- 8: 15223114-1 -> 111122345\n",
    "- 9: 142121130- -> 011112234\n",
    "\n",
    "So we can identify each digit by its unique sorted difference to all other numbers in the input signals, using a lookup table/dictionary."
   ]
  },
  {
   "cell_type": "code",
   "execution_count": 3,
   "id": "3257f05e",
   "metadata": {},
   "outputs": [],
   "source": [
    "def decode_signals(signals: List[str]) -> Dict:\n",
    "    \"\"\"Returns dictionary for decoding digit strings\n",
    "    \n",
    "    :param signals:  list of input signal strings\n",
    "    \"\"\"\n",
    "    # This dictionary is a tally table of sorted counts of \n",
    "    # differences between lit segments. These values are a\n",
    "    # unique code that can identify a digit.\n",
    "    decoder = {(0, 1, 1, 2, 2, 2, 3, 3, 4): \"0\",\n",
    "               (0, 0, 0, 0, 0, 0, 1, 1, 1): \"1\",\n",
    "               (0, 1, 1, 1, 1, 2, 3, 3, 4): \"2\",\n",
    "               (0, 0, 1, 1, 1, 1, 2, 2, 3): \"3\",\n",
    "               (0, 0, 1, 1, 1, 1, 2, 2, 2): \"4\",\n",
    "               (0, 0, 0, 1, 1, 2, 2, 3, 4): \"5\",\n",
    "               (0, 1, 1, 1, 2, 2, 3, 4, 5): \"6\",\n",
    "               (0, 0, 0, 0, 1, 1, 1, 1, 1): \"7\",\n",
    "               (1, 1, 1, 2, 2, 2, 3, 4, 5): \"8\",\n",
    "               (0, 1, 1, 1, 1, 2, 2, 3, 4): \"9\", \n",
    "              }\n",
    "    \n",
    "    signal_dict = {}  # output dictionary, keyed by signal\n",
    "    \n",
    "    # Identify each signal string\n",
    "    for signal in signals:\n",
    "        sigset = set(signal)  # signal as string\n",
    "        others = [set(_) for _ in signals if _ != signal]\n",
    "        \n",
    "        # How many differences between the signal's lit segments\n",
    "        # and the lit segments of the other signals are there?\n",
    "        # Count them all, and sort them to get the dictionary key.\n",
    "        distances = tuple(sorted([len(sigset.difference(_)) for _ in others]))\n",
    "        \n",
    "        digit = decoder[distances]\n",
    "        signal_dict[signal] = digit\n",
    "\n",
    "    return signal_dict\n",
    "\n",
    "def decode_digits(digits: List[str], signal_dict: Dict) -> List[str]:\n",
    "    \"\"\"Returns the decoded digit input\n",
    "    \n",
    "    :param digits:  list of digit strings\n",
    "    :param signal_dict:  dictionary translating digit strings to numbers\n",
    "    \"\"\"\n",
    "    return [signal_dict[_] for _ in digits]\n",
    "\n",
    "def parse_data(data: Tuple[List[str], List[str]]) -> List[str]:\n",
    "    \"\"\"Return input data converted to list of (digit) numbers\n",
    "    \n",
    "    :param data:  input data - (signals, digits)\n",
    "    \"\"\"\n",
    "    outputs = []\n",
    "    \n",
    "    for item in data:\n",
    "        outputs.append(decode_digits(item[1], decode_signals(item[0])))\n",
    "\n",
    "    return outputs"
   ]
  },
  {
   "cell_type": "markdown",
   "id": "91ee129e",
   "metadata": {},
   "source": [
    "So we can count the \"easy\" digits (1, 4, 7, 8) directly."
   ]
  },
  {
   "cell_type": "code",
   "execution_count": 4,
   "id": "1811f1bc",
   "metadata": {},
   "outputs": [],
   "source": [
    "def count_easy_digits(data: List[List[int]]) -> int:\n",
    "    \"\"\"Return count of digits {1,4,7,8} in data\n",
    "    \n",
    "    :param data:  decoded digit output\n",
    "    \"\"\"\n",
    "    count = 0\n",
    "    \n",
    "    for output in data:\n",
    "        count += sum([_ in \"1478\" for _ in output])\n",
    "        \n",
    "    return count  "
   ]
  },
  {
   "cell_type": "markdown",
   "id": "8eafdd0b",
   "metadata": {},
   "source": [
    "Applying this to the test data:"
   ]
  },
  {
   "cell_type": "code",
   "execution_count": 5,
   "id": "b329ed55",
   "metadata": {},
   "outputs": [
    {
     "data": {
      "text/plain": [
       "26"
      ]
     },
     "execution_count": 5,
     "metadata": {},
     "output_type": "execute_result"
    }
   ],
   "source": [
    "data = load_input(testpath)\n",
    "outputs = parse_data(data)\n",
    "count_easy_digits(outputs)"
   ]
  },
  {
   "cell_type": "markdown",
   "id": "763790de",
   "metadata": {},
   "source": [
    "Then to the puzzle data:"
   ]
  },
  {
   "cell_type": "code",
   "execution_count": 6,
   "id": "87a6e25b",
   "metadata": {},
   "outputs": [
    {
     "data": {
      "text/plain": [
       "272"
      ]
     },
     "execution_count": 6,
     "metadata": {},
     "output_type": "execute_result"
    }
   ],
   "source": [
    "data = load_input(datapath)\n",
    "outputs = parse_data(data)\n",
    "count_easy_digits(outputs)"
   ]
  },
  {
   "cell_type": "markdown",
   "id": "d7128e33",
   "metadata": {},
   "source": [
    "## Puzzle 2\n",
    "\n",
    "Through a little deduction, you should now be able to determine the remaining digits. Consider again the first example above:\n",
    "\n",
    "```text\n",
    "acedgfb cdfbe gcdfa fbcad dab cefabd cdfgeb eafb cagedb ab |\n",
    "cdfeb fcadb cdfeb cdbaf\n",
    "```\n",
    "\n",
    "After some careful analysis, the mapping between signal wires and segments only make sense in the following configuration:\n",
    "\n",
    "```text\n",
    " dddd\n",
    "e    a\n",
    "e    a\n",
    " ffff\n",
    "g    b\n",
    "g    b\n",
    " cccc\n",
    "```\n",
    "\n",
    "So, the unique signal patterns would correspond to the following digits:\n",
    "\n",
    "    acedgfb: 8\n",
    "    cdfbe: 5\n",
    "    gcdfa: 2\n",
    "    fbcad: 3\n",
    "    dab: 7\n",
    "    cefabd: 9\n",
    "    cdfgeb: 6\n",
    "    eafb: 4\n",
    "    cagedb: 0\n",
    "    ab: 1\n",
    "\n",
    "Then, the four digits of the output value can be decoded:\n",
    "\n",
    "    cdfeb: 5\n",
    "    fcadb: 3\n",
    "    cdfeb: 5\n",
    "    cdbaf: 3\n",
    "\n",
    "Therefore, the output value for this entry is 5353.\n",
    "\n",
    "Following this same process for each entry in the second, larger example above, the output value of each entry can be determined:\n",
    "\n",
    "    fdgacbe cefdb cefbgd gcbe: 8394\n",
    "    fcgedb cgb dgebacf gc: 9781\n",
    "    cg cg fdcagb cbg: 1197\n",
    "    efabcd cedba gadfec cb: 9361\n",
    "    gecf egdcabf bgf bfgea: 4873\n",
    "    gebdcfa ecba ca fadegcb: 8418\n",
    "    cefg dcbef fcge gbcadfe: 4548\n",
    "    ed bcgafe cdgba cbgef: 1625\n",
    "    gbdfcae bgc cg cgb: 8717\n",
    "    fgae cfgab fg bagce: 4315\n",
    "\n",
    "Adding all of the output values in this larger example produces 61229.\n",
    "\n",
    "For each entry, determine all of the wire/segment connections and decode the four-digit output values. What do you get if you add up all of the output values?"
   ]
  },
  {
   "cell_type": "markdown",
   "id": "c7a28009",
   "metadata": {},
   "source": [
    "I laboured a lot over the logic of this because I dived straight into coding, rather than thinking it through ahead of time. But once I realised the decoder dictionary above was a good approach, we need only change how we calculate the final value. "
   ]
  },
  {
   "cell_type": "code",
   "execution_count": 7,
   "id": "b22d66f9",
   "metadata": {},
   "outputs": [],
   "source": [
    "def calculate_sum(data: List[List[int]]) -> int:\n",
    "    \"\"\"Return sum of decoded digit output\n",
    "    \n",
    "    :param data:  decoded digit output\n",
    "    \"\"\"\n",
    "    return sum([int(\"\".join(_)) for _ in data])"
   ]
  },
  {
   "cell_type": "markdown",
   "id": "37c7e0a7",
   "metadata": {},
   "source": [
    "Applying this to the test data:"
   ]
  },
  {
   "cell_type": "code",
   "execution_count": 8,
   "id": "0cdd403b",
   "metadata": {},
   "outputs": [
    {
     "data": {
      "text/plain": [
       "61229"
      ]
     },
     "execution_count": 8,
     "metadata": {},
     "output_type": "execute_result"
    }
   ],
   "source": [
    "data = load_input(testpath)\n",
    "outputs = parse_data(data)\n",
    "calculate_sum(outputs)"
   ]
  },
  {
   "cell_type": "markdown",
   "id": "c529fb0d",
   "metadata": {},
   "source": [
    "And to the puzzle data:"
   ]
  },
  {
   "cell_type": "code",
   "execution_count": 9,
   "id": "a7d62377",
   "metadata": {},
   "outputs": [
    {
     "data": {
      "text/plain": [
       "1007675"
      ]
     },
     "execution_count": 9,
     "metadata": {},
     "output_type": "execute_result"
    }
   ],
   "source": [
    "data = load_input(datapath)\n",
    "outputs = parse_data(data)\n",
    "calculate_sum(outputs)"
   ]
  },
  {
   "cell_type": "code",
   "execution_count": null,
   "id": "de2d5cfa",
   "metadata": {},
   "outputs": [],
   "source": []
  }
 ],
 "metadata": {
  "kernelspec": {
   "display_name": "Python 3 (ipykernel)",
   "language": "python",
   "name": "python3"
  },
  "language_info": {
   "codemirror_mode": {
    "name": "ipython",
    "version": 3
   },
   "file_extension": ".py",
   "mimetype": "text/x-python",
   "name": "python",
   "nbconvert_exporter": "python",
   "pygments_lexer": "ipython3",
   "version": "3.10.0"
  }
 },
 "nbformat": 4,
 "nbformat_minor": 5
}
