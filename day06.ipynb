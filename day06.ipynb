{
 "cells": [
  {
   "cell_type": "markdown",
   "id": "af8602b1",
   "metadata": {},
   "source": [
    "# Day 06: Lanternfish\n",
    "\n",
    "The sea floor is getting steeper. Maybe the sleigh keys got carried this way?\n",
    "\n",
    "A massive school of glowing lanternfish swims past. They must spawn quickly to reach such large numbers - maybe exponentially quickly? You should model their growth rate to be sure.\n",
    "\n",
    "Although you know nothing about this specific species of lanternfish, you make some guesses about their attributes. Surely, each lanternfish creates a new lanternfish once every 7 days.\n",
    "\n",
    "However, this process isn't necessarily synchronized between every lanternfish - one lanternfish might have 2 days left until it creates another lanternfish, while another might have 4. So, you can model each fish as a single number that represents the number of days until it creates a new lanternfish.\n",
    "\n",
    "Furthermore, you reason, a new lanternfish would surely need slightly longer before it's capable of producing more lanternfish: two more days for its first cycle.\n",
    "\n",
    "So, suppose you have a lanternfish with an internal timer value of 3:\n",
    "\n",
    "    After one day, its internal timer would become 2.\n",
    "    After another day, its internal timer would become 1.\n",
    "    After another day, its internal timer would become 0.\n",
    "    After another day, its internal timer would reset to 6, and it would create a new lanternfish with an internal timer of 8.\n",
    "    After another day, the first lanternfish would have an internal timer of 5, and the second lanternfish would have an internal timer of 7.\n",
    "\n",
    "A lanternfish that creates a new fish resets its timer to 6, not 7 (because 0 is included as a valid timer value). The new lanternfish starts with an internal timer of 8 and does not start counting down until the next day.\n",
    "\n",
    "Realizing what you're trying to do, the submarine automatically produces a list of the ages of several hundred nearby lanternfish (your puzzle input). For example, suppose you were given the following list:\n",
    "\n",
    "```text\n",
    "3,4,3,1,2\n",
    "```\n",
    "\n",
    "This list means that the first fish has an internal timer of 3, the second fish has an internal timer of 4, and so on until the fifth fish, which has an internal timer of 2. Simulating these fish over several days would proceed as follows:\n",
    "\n",
    "```text\n",
    "Initial state: 3,4,3,1,2\n",
    "After  1 day:  2,3,2,0,1\n",
    "After  2 days: 1,2,1,6,0,8\n",
    "After  3 days: 0,1,0,5,6,7,8\n",
    "After  4 days: 6,0,6,4,5,6,7,8,8\n",
    "After  5 days: 5,6,5,3,4,5,6,7,7,8\n",
    "After  6 days: 4,5,4,2,3,4,5,6,6,7\n",
    "After  7 days: 3,4,3,1,2,3,4,5,5,6\n",
    "After  8 days: 2,3,2,0,1,2,3,4,4,5\n",
    "After  9 days: 1,2,1,6,0,1,2,3,3,4,8\n",
    "After 10 days: 0,1,0,5,6,0,1,2,2,3,7,8\n",
    "After 11 days: 6,0,6,4,5,6,0,1,1,2,6,7,8,8,8\n",
    "After 12 days: 5,6,5,3,4,5,6,0,0,1,5,6,7,7,7,8,8\n",
    "After 13 days: 4,5,4,2,3,4,5,6,6,0,4,5,6,6,6,7,7,8,8\n",
    "After 14 days: 3,4,3,1,2,3,4,5,5,6,3,4,5,5,5,6,6,7,7,8\n",
    "After 15 days: 2,3,2,0,1,2,3,4,4,5,2,3,4,4,4,5,5,6,6,7\n",
    "After 16 days: 1,2,1,6,0,1,2,3,3,4,1,2,3,3,3,4,4,5,5,6,8\n",
    "After 17 days: 0,1,0,5,6,0,1,2,2,3,0,1,2,2,2,3,3,4,4,5,7,8\n",
    "After 18 days: 6,0,6,4,5,6,0,1,1,2,6,0,1,1,1,2,2,3,3,4,6,7,8,8,8,8\n",
    "```\n",
    "\n",
    "Each day, a 0 becomes a 6 and adds a new 8 to the end of the list, while each other number decreases by 1 if it was present at the start of the day.\n",
    "\n",
    "In this example, after 18 days, there are a total of 26 fish. After 80 days, there would be a total of 5934.\n",
    "\n",
    "Find a way to simulate lanternfish. **How many lanternfish would there be after 80 days?**"
   ]
  },
  {
   "cell_type": "code",
   "execution_count": 1,
   "id": "046b5aff",
   "metadata": {},
   "outputs": [],
   "source": [
    "# Python imports\n",
    "from pathlib import Path\n",
    "from typing import Dict, Iterable, List, Tuple\n",
    "\n",
    "import numpy as np\n",
    "\n",
    "# Paths to data\n",
    "testpath = Path(\"day06_test.txt\")\n",
    "datapath = Path(\"day06_data.txt\")"
   ]
  },
  {
   "cell_type": "markdown",
   "id": "9bd39b0c",
   "metadata": {},
   "source": [
    "The school of lanternfish is provided as a list of lanternfish timer values."
   ]
  },
  {
   "cell_type": "code",
   "execution_count": 2,
   "id": "1837c8f3",
   "metadata": {},
   "outputs": [],
   "source": [
    "def load_input(fpath: Path) -> List[int]:\n",
    "    \"\"\"Return list of lanternfish ages\n",
    "    \n",
    "    :param fpath:  Path to data file\n",
    "    \"\"\"\n",
    "    with fpath.open(\"r\") as ifh:\n",
    "        return [int(_) for _ in ifh.read().strip().split(\",\")]"
   ]
  },
  {
   "cell_type": "markdown",
   "id": "9305766d",
   "metadata": {},
   "source": [
    "The obvious way to model the process is to explicitly encode each fish as a value in a list (or generator) and, while this might work acceptably for shorter lists and relatively few iterations, it will grow exponentially and not scale well.\n",
    "\n",
    "Instead, we recognise that all fish with the same timer value will \"tick over\" at the same time, and use a dictionary with a count of the number of fish at each timer value. This only requires us to update nine dictionary entries at each step."
   ]
  },
  {
   "cell_type": "code",
   "execution_count": 3,
   "id": "a5cac3e6",
   "metadata": {},
   "outputs": [],
   "source": [
    "def make_school(fish: List[int]) -> Dict[int, int]:\n",
    "    \"\"\"Make a dictionary, keyed by timer, with count of fish\n",
    "    \n",
    "    :param fish:  list of individual fish timer values\n",
    "    \"\"\"\n",
    "    school = {_:0 for _ in range(9)}\n",
    "    for _ in fish:\n",
    "        school[_] += 1\n",
    "        \n",
    "    return school\n",
    "\n",
    "def increment(school: Dict[int, int]) -> Dict[int, int]:\n",
    "    \"\"\"Increment the timers in a school of fish\n",
    "    \n",
    "    :param school:  Dictionary of timer count on each fish\n",
    "    \"\"\"\n",
    "    newschool = {}\n",
    "    for _ in range(1, 9):\n",
    "        newschool[_ - 1] = school[_]\n",
    "    newschool[8] = school[0]\n",
    "    newschool[6] += school[0]\n",
    "    \n",
    "    return newschool"
   ]
  },
  {
   "cell_type": "markdown",
   "id": "44e9bc1d",
   "metadata": {},
   "source": [
    "We try this on the test data. The downside of this approach is that we lose the ordering of fish, but that is not important for this problem."
   ]
  },
  {
   "cell_type": "code",
   "execution_count": 4,
   "id": "4c32a6bd",
   "metadata": {},
   "outputs": [
    {
     "name": "stdout",
     "output_type": "stream",
     "text": [
      "18 {0: 3, 1: 5, 2: 3, 3: 2, 4: 2, 5: 1, 6: 5, 7: 1, 8: 4}\n"
     ]
    }
   ],
   "source": [
    "school = make_school(load_input(testpath))\n",
    "for _ in range(18):\n",
    "    school = increment(school)\n",
    "print(_ + 1, school)"
   ]
  },
  {
   "cell_type": "markdown",
   "id": "5a5279e8",
   "metadata": {},
   "source": [
    "And, on the puzzle data:"
   ]
  },
  {
   "cell_type": "code",
   "execution_count": 5,
   "id": "78e09409",
   "metadata": {},
   "outputs": [
    {
     "name": "stdout",
     "output_type": "stream",
     "text": [
      "80 390923\n"
     ]
    }
   ],
   "source": [
    "school = make_school(load_input(datapath))\n",
    "for _ in range(80):\n",
    "    school = increment(school)\n",
    "print(_ + 1, sum(school.values()))"
   ]
  },
  {
   "cell_type": "markdown",
   "id": "0f147442",
   "metadata": {},
   "source": [
    "## Puzzle 2:\n",
    "\n",
    "Suppose the lanternfish live forever and have unlimited food and space. Would they take over the entire ocean?\n",
    "\n",
    "After 256 days in the example above, there would be a total of 26984457539 lanternfish!\n",
    "\n",
    "**How many lanternfish would there be after 256 days?**"
   ]
  },
  {
   "cell_type": "markdown",
   "id": "9dfdcf04",
   "metadata": {},
   "source": [
    "There's no need to write new code, we just need to change the endpoint."
   ]
  },
  {
   "cell_type": "code",
   "execution_count": 6,
   "id": "8819a785",
   "metadata": {},
   "outputs": [
    {
     "name": "stdout",
     "output_type": "stream",
     "text": [
      "256 26984457539\n"
     ]
    }
   ],
   "source": [
    "school = make_school(load_input(testpath))\n",
    "for _ in range(256):\n",
    "    school = increment(school)\n",
    "print(_ + 1, sum(school.values()))"
   ]
  },
  {
   "cell_type": "markdown",
   "id": "ec23749d",
   "metadata": {},
   "source": [
    "And with the puzzle data."
   ]
  },
  {
   "cell_type": "code",
   "execution_count": 7,
   "id": "56c0e32b",
   "metadata": {},
   "outputs": [
    {
     "name": "stdout",
     "output_type": "stream",
     "text": [
      "256 1749945484935\n"
     ]
    }
   ],
   "source": [
    "school = make_school(load_input(datapath))\n",
    "for _ in range(256):\n",
    "    school = increment(school)\n",
    "print(_ + 1, sum(school.values()))"
   ]
  },
  {
   "cell_type": "code",
   "execution_count": null,
   "id": "51903327",
   "metadata": {},
   "outputs": [],
   "source": []
  }
 ],
 "metadata": {
  "kernelspec": {
   "display_name": "Python 3 (ipykernel)",
   "language": "python",
   "name": "python3"
  },
  "language_info": {
   "codemirror_mode": {
    "name": "ipython",
    "version": 3
   },
   "file_extension": ".py",
   "mimetype": "text/x-python",
   "name": "python",
   "nbconvert_exporter": "python",
   "pygments_lexer": "ipython3",
   "version": "3.10.0"
  }
 },
 "nbformat": 4,
 "nbformat_minor": 5
}
