{
 "cells": [
  {
   "cell_type": "markdown",
   "id": "8b23e7b5",
   "metadata": {},
   "source": [
    "# Day 10: Syntax Scoring\n",
    "\n",
    "You ask the submarine to determine the best route out of the deep-sea cave, but it only replies:\n",
    "\n",
    "Syntax error in navigation subsystem on line: all of them\n",
    "\n",
    "All of them?! The damage is worse than you thought. You bring up a copy of the navigation subsystem (your puzzle input).\n",
    "\n",
    "The navigation subsystem syntax is made of several lines containing chunks. There are one or more chunks on each line, and chunks contain zero or more other chunks. Adjacent chunks are not separated by any delimiter; if one chunk stops, the next chunk (if any) can immediately start. Every chunk must open and close with one of four legal pairs of matching characters:\n",
    "\n",
    "    If a chunk opens with (, it must close with ).\n",
    "    If a chunk opens with [, it must close with ].\n",
    "    If a chunk opens with {, it must close with }.\n",
    "    If a chunk opens with <, it must close with >.\n",
    "\n",
    "So, () is a legal chunk that contains no other chunks, as is `[]`. More complex but valid chunks include `([])`, `{()()()}`, `<([{}])>`, `[<>({}){}[([])<>]]`, and even `(((((((((())))))))))`.\n",
    "\n",
    "Some lines are incomplete, but others are corrupted. Find and discard the corrupted lines first.\n",
    "\n",
    "A corrupted line is one where a chunk closes with the wrong character - that is, where the characters it opens and closes with do not form one of the four legal pairs listed above.\n",
    "\n",
    "Examples of corrupted chunks include `(]`, `{()()()>`, `(((()))}`, and `<([]){()}[{}])`. Such a chunk can appear anywhere within a line, and its presence causes the whole line to be considered corrupted.\n",
    "\n",
    "For example, consider the following navigation subsystem:\n",
    "\n",
    "```text\n",
    "[({(<(())[]>[[{[]{<()<>>\n",
    "[(()[<>])]({[<{<<[]>>(\n",
    "{([(<{}[<>[]}>{[]{[(<()>\n",
    "(((({<>}<{<{<>}{[]{[]{}\n",
    "[[<[([]))<([[{}[[()]]]\n",
    "[{[{({}]{}}([{[{{{}}([]\n",
    "{<[[]]>}<{[{[{[]{()[[[]\n",
    "[<(<(<(<{}))><([]([]()\n",
    "<{([([[(<>()){}]>(<<{{\n",
    "<{([{{}}[<[[[<>{}]]]>[]]\n",
    "```\n",
    "\n",
    "Some of the lines aren't corrupted, just incomplete; you can ignore these lines for now. The remaining five lines are corrupted:\n",
    "\n",
    "    {([(<{}[<>[]}>{[]{[(<()> - Expected ], but found } instead.\n",
    "    [[<[([]))<([[{}[[()]]] - Expected ], but found ) instead.\n",
    "    [{[{({}]{}}([{[{{{}}([] - Expected ), but found ] instead.\n",
    "    [<(<(<(<{}))><([]([]() - Expected >, but found ) instead.\n",
    "    <{([([[(<>()){}]>(<<{{ - Expected ], but found > instead.\n",
    "\n",
    "Stop at the first incorrect closing character on each corrupted line.\n",
    "\n",
    "Did you know that syntax checkers actually have contests to see who can get the high score for syntax errors in a file? It's true! To calculate the syntax error score for a line, take the first illegal character on the line and look it up in the following table:\n",
    "\n",
    "    ): 3 points.\n",
    "    ]: 57 points.\n",
    "    }: 1197 points.\n",
    "    >: 25137 points.\n",
    "\n",
    "In the above example, an illegal `)` was found twice (2*3 = 6 points), an illegal `]` was found once (57 points), an illegal `}` was found once (1197 points), and an illegal `>` was found once (25137 points). So, the total syntax error score for this file is 6+57+1197+25137 = 26397 points!\n",
    "\n",
    "Find the first illegal character in each corrupted line of the navigation subsystem. **What is the total syntax error score for those errors?**"
   ]
  },
  {
   "cell_type": "code",
   "execution_count": 1,
   "id": "9d2b798a",
   "metadata": {},
   "outputs": [],
   "source": [
    "# Python imports\n",
    "from pathlib import Path\n",
    "from typing import Callable, Dict, Generator, Iterable, List, Tuple\n",
    "\n",
    "import numpy as np\n",
    "\n",
    "# Paths to data\n",
    "testpath = Path(\"day10_test.txt\")\n",
    "datapath = Path(\"day10_data.txt\")"
   ]
  },
  {
   "cell_type": "code",
   "execution_count": 2,
   "id": "37d8e870",
   "metadata": {},
   "outputs": [],
   "source": [
    "def load_input(fpath: Path) -> List[str]:\n",
    "    \"\"\"Read in lines from files as list of strings\n",
    "    \n",
    "    :param fpath:  Path to data file\n",
    "    \"\"\"\n",
    "    with fpath.open(\"r\") as ifh:\n",
    "        return [_.strip() for _ in ifh.readlines()]"
   ]
  },
  {
   "cell_type": "markdown",
   "id": "7053e6b9",
   "metadata": {},
   "source": [
    "To check for syntax errors, we use the shunting algorithm (or something similar to it, anyway).\n",
    "\n",
    "We step through the input string, character by character and, if it's a left bracket, we push it onto a stack. If it's a right bracket, we pop the stack and check that the brackets pair up. If they don't, it's a syntax error and we can handle it appropriately."
   ]
  },
  {
   "cell_type": "code",
   "execution_count": 3,
   "id": "e216f8ab",
   "metadata": {},
   "outputs": [],
   "source": [
    "def has_syntax_error(line: str) -> str:\n",
    "    \"\"\"Returns first syntax error as character, or empty string\n",
    "    \n",
    "    :param line:  input line as string\n",
    "    \"\"\"\n",
    "    line = list(line)  # convert line to string for stack operations\n",
    "    lhs_stack = []  # holds seen characters (shunting algorithm)\n",
    "    \n",
    "    # While there are characters left to read, check next character.\n",
    "    # If it's a right-hand bracket, pop the stack and check that\n",
    "    # brackets match; if not, that's a syntax error so return the\n",
    "    # character, otherwise continue.\n",
    "    # If it's a left-hand bracket, push that onto the stack.\n",
    "    while len(line):\n",
    "        sym = line.pop(0)  # character to check\n",
    "        if sym in \")]}>\":  # character is right-hand bracket\n",
    "            lhs = lhs_stack.pop()\n",
    "            if f\"{lhs}{sym}\" not in (\"()\", \"{}\", \"[]\", \"<>\"): # syntax error\n",
    "                return sym\n",
    "        else:  # character is left-hand bracket\n",
    "            lhs_stack.append(sym)\n",
    "\n",
    "    return \"\"\n",
    "\n",
    "def score_syntax_error(line: str) -> int:\n",
    "    \"\"\"Return syntax error score of passed line\n",
    "    \n",
    "    :param line:  input line as string\n",
    "\n",
    "    Score is zero if no syntax error\n",
    "    \"\"\"\n",
    "    scores = {\")\": 3, \"]\": 57, \"}\": 1197, \">\": 25137, \"\": 0}\n",
    "    \n",
    "    return scores[has_syntax_error(line)]"
   ]
  },
  {
   "cell_type": "markdown",
   "id": "231bab76",
   "metadata": {},
   "source": [
    "With the test data:"
   ]
  },
  {
   "cell_type": "code",
   "execution_count": 4,
   "id": "ef4d975b",
   "metadata": {},
   "outputs": [
    {
     "data": {
      "text/plain": [
       "26397"
      ]
     },
     "execution_count": 4,
     "metadata": {},
     "output_type": "execute_result"
    }
   ],
   "source": [
    "score = sum([score_syntax_error(_) for _ in load_input(testpath)])\n",
    "score"
   ]
  },
  {
   "cell_type": "markdown",
   "id": "8617b348",
   "metadata": {},
   "source": [
    "And with the puzzle data:"
   ]
  },
  {
   "cell_type": "code",
   "execution_count": 5,
   "id": "336379f9",
   "metadata": {},
   "outputs": [
    {
     "data": {
      "text/plain": [
       "290691"
      ]
     },
     "execution_count": 5,
     "metadata": {},
     "output_type": "execute_result"
    }
   ],
   "source": [
    "score = sum([score_syntax_error(_) for _ in load_input(datapath)])\n",
    "score"
   ]
  },
  {
   "cell_type": "markdown",
   "id": "99150483",
   "metadata": {},
   "source": [
    "## Puzzle 2:\n",
    "\n",
    "Now, discard the corrupted lines. The remaining lines are incomplete.\n",
    "\n",
    "Incomplete lines don't have any incorrect characters - instead, they're missing some closing characters at the end of the line. To repair the navigation subsystem, you just need to figure out the sequence of closing characters that complete all open chunks in the line.\n",
    "\n",
    "You can only use closing characters `()`, `]`, `}`, or `>`), and you must add them in the correct order so that only legal pairs are formed and all chunks end up closed.\n",
    "\n",
    "In the example above, there are five incomplete lines:\n",
    "\n",
    "    [({(<(())[]>[[{[]{<()<>> - Complete by adding }}]])})].\n",
    "    [(()[<>])]({[<{<<[]>>( - Complete by adding )}>]}).\n",
    "    (((({<>}<{<{<>}{[]{[]{} - Complete by adding }}>}>)))).\n",
    "    {<[[]]>}<{[{[{[]{()[[[] - Complete by adding ]]}}]}]}>.\n",
    "    <{([{{}}[<[[[<>{}]]]>[]] - Complete by adding ])}>.\n",
    "\n",
    "Did you know that autocomplete tools also have contests? It's true! The score is determined by considering the completion string character-by-character. Start with a total score of 0. Then, for each character, multiply the total score by 5 and then increase the total score by the point value given for the character in the following table:\n",
    "\n",
    "    ): 1 point.\n",
    "    ]: 2 points.\n",
    "    }: 3 points.\n",
    "    >: 4 points.\n",
    "\n",
    "So, the last completion string above - `])}>` - would be scored as follows:\n",
    "\n",
    "    Start with a total score of 0.\n",
    "    Multiply the total score by 5 to get 0, then add the value of ] (2) to get a new total score of 2.\n",
    "    Multiply the total score by 5 to get 10, then add the value of ) (1) to get a new total score of 11.\n",
    "    Multiply the total score by 5 to get 55, then add the value of } (3) to get a new total score of 58.\n",
    "    Multiply the total score by 5 to get 290, then add the value of > (4) to get a new total score of 294.\n",
    "\n",
    "The five lines' completion strings have total scores as follows:\n",
    "\n",
    "    }}]])})] - 288957 total points.\n",
    "    )}>]}) - 5566 total points.\n",
    "    }}>}>)))) - 1480781 total points.\n",
    "    ]]}}]}]}> - 995444 total points.\n",
    "    ])}> - 294 total points.\n",
    "\n",
    "Autocomplete tools are an odd bunch: the winner is found by sorting all of the scores and then taking the middle score. (There will always be an odd number of scores to consider.) In this example, the middle score is 288957 because there are the same number of scores smaller and larger than it.\n",
    "\n",
    "Find the completion string for each incomplete line, score the completion strings, and sort the scores. **What is the middle score?**"
   ]
  },
  {
   "cell_type": "markdown",
   "id": "967c8ee5",
   "metadata": {},
   "source": [
    "Finding incomplete lines is similar to finding syntax errors. We know the line is incomplete if, by the end of the input, we've found no errors, but there are still characters in the stack.\n",
    "\n",
    "We can then work with the remaining stack to find the score."
   ]
  },
  {
   "cell_type": "code",
   "execution_count": 6,
   "id": "77eb5451",
   "metadata": {},
   "outputs": [],
   "source": [
    "def get_incomplete_lines(lines: List[str]) -> List[str]:\n",
    "    \"\"\"Return incomplete lines from passed set of lines\n",
    "    \n",
    "    :param lines:  list of input lines\n",
    "    \"\"\"\n",
    "    return [_ for _ in lines if not(has_syntax_error(_))]\n",
    "\n",
    "def score_incomplete_line(line: str) -> int:\n",
    "    \"\"\"Return score for an incomplete line\n",
    "    \n",
    "    :param line:  incomplete line as string\n",
    "    \"\"\"\n",
    "    line = list(line)  # convert line to string for stack operations\n",
    "    lhs_stack = []  # holds seen characters (shunting algorithm)\n",
    "    \n",
    "    # While there are characters left to read, check next character.\n",
    "    # If it's a right-hand bracket, pop the stack and check that\n",
    "    # brackets match; if not, that's a syntax error so return the\n",
    "    # character, otherwise continue.\n",
    "    # If it's a left-hand bracket, push that onto the stack.\n",
    "    while len(line):\n",
    "        sym = line.pop(0)  # character to check\n",
    "        if sym in \")]}>\":  # character is right-hand bracket\n",
    "            lhs = lhs_stack.pop()\n",
    "        else:  # character is left-hand bracket\n",
    "            lhs_stack.append(sym)\n",
    "\n",
    "    # Rather than complete the line, and then score the new completion\n",
    "    # we step back through the stack and score the left-hand brackets\n",
    "    scores = {\"(\": 1, \"[\": 2, \"{\": 3, \"<\": 4}\n",
    "            \n",
    "    score = 0\n",
    "    while len(lhs_stack):\n",
    "        score *= 5\n",
    "        score += scores[lhs_stack.pop()]\n",
    "    \n",
    "    return score"
   ]
  },
  {
   "cell_type": "markdown",
   "id": "b2fc251a",
   "metadata": {},
   "source": [
    "With the test data:"
   ]
  },
  {
   "cell_type": "code",
   "execution_count": 7,
   "id": "a1b49352",
   "metadata": {},
   "outputs": [
    {
     "data": {
      "text/plain": [
       "288957"
      ]
     },
     "execution_count": 7,
     "metadata": {},
     "output_type": "execute_result"
    }
   ],
   "source": [
    "scores = [score_incomplete_line(_) for _ in get_incomplete_lines(load_input(testpath))]\n",
    "int(np.median(scores))"
   ]
  },
  {
   "cell_type": "markdown",
   "id": "a41f5ea3",
   "metadata": {},
   "source": [
    "With the input data:"
   ]
  },
  {
   "cell_type": "code",
   "execution_count": 8,
   "id": "f7a65c85",
   "metadata": {},
   "outputs": [
    {
     "data": {
      "text/plain": [
       "2768166558"
      ]
     },
     "execution_count": 8,
     "metadata": {},
     "output_type": "execute_result"
    }
   ],
   "source": [
    "scores = [score_incomplete_line(_) for _ in get_incomplete_lines(load_input(datapath))]\n",
    "int(np.median(scores))"
   ]
  },
  {
   "cell_type": "code",
   "execution_count": null,
   "id": "88199fd7",
   "metadata": {},
   "outputs": [],
   "source": []
  }
 ],
 "metadata": {
  "kernelspec": {
   "display_name": "Python 3 (ipykernel)",
   "language": "python",
   "name": "python3"
  },
  "language_info": {
   "codemirror_mode": {
    "name": "ipython",
    "version": 3
   },
   "file_extension": ".py",
   "mimetype": "text/x-python",
   "name": "python",
   "nbconvert_exporter": "python",
   "pygments_lexer": "ipython3",
   "version": "3.10.0"
  }
 },
 "nbformat": 4,
 "nbformat_minor": 5
}
