{
 "cells": [
  {
   "cell_type": "markdown",
   "id": "82cf85da",
   "metadata": {},
   "source": [
    "# Day 05: Hydrothermal Venture\n",
    "\n",
    "You come across a field of hydrothermal vents on the ocean floor! These vents constantly produce large, opaque clouds, so it would be best to avoid them if possible.\n",
    "\n",
    "They tend to form in lines; the submarine helpfully produces a list of nearby lines of vents (your puzzle input) for you to review. For example:\n",
    "\n",
    "```text\n",
    "0,9 -> 5,9\n",
    "8,0 -> 0,8\n",
    "9,4 -> 3,4\n",
    "2,2 -> 2,1\n",
    "7,0 -> 7,4\n",
    "6,4 -> 2,0\n",
    "0,9 -> 2,9\n",
    "3,4 -> 1,4\n",
    "0,0 -> 8,8\n",
    "5,5 -> 8,2\n",
    "```\n",
    "\n",
    "Each line of vents is given as a line segment in the format x1,y1 -> x2,y2 where x1,y1 are the coordinates of one end the line segment and x2,y2 are the coordinates of the other end. These line segments include the points at both ends. In other words:\n",
    "\n",
    "    An entry like 1,1 -> 1,3 covers points 1,1, 1,2, and 1,3.\n",
    "    An entry like 9,7 -> 7,7 covers points 9,7, 8,7, and 7,7.\n",
    "\n",
    "For now, only consider horizontal and vertical lines: lines where either x1 = x2 or y1 = y2.\n",
    "\n",
    "So, the horizontal and vertical lines from the above list would produce the following diagram:\n",
    "\n",
    "```text\n",
    ".......1..\n",
    "..1....1..\n",
    "..1....1..\n",
    ".......1..\n",
    ".112111211\n",
    "..........\n",
    "..........\n",
    "..........\n",
    "..........\n",
    "222111....\n",
    "```\n",
    "\n",
    "In this diagram, the top left corner is 0,0 and the bottom right corner is 9,9. Each position is shown as the number of lines which cover that point or . if no line covers that point. The top-left pair of 1s, for example, comes from 2,2 -> 2,1; the very bottom row is formed by the overlapping lines 0,9 -> 5,9 and 0,9 -> 2,9.\n",
    "\n",
    "To avoid the most dangerous areas, you need to determine the number of points where at least two lines overlap. In the above example, this is anywhere in the diagram with a 2 or larger - a total of 5 points.\n",
    "\n",
    "Consider only horizontal and vertical lines. **At how many points do at least two lines overlap?**"
   ]
  },
  {
   "cell_type": "code",
   "execution_count": 1,
   "id": "5ea6ebf8",
   "metadata": {},
   "outputs": [],
   "source": [
    "# Python imports\n",
    "from pathlib import Path\n",
    "from typing import Iterable, List, Tuple\n",
    "\n",
    "import numpy as np\n",
    "\n",
    "# Paths to data\n",
    "testpath = Path(\"day05_test.txt\")\n",
    "datapath = Path(\"day05_data.txt\")"
   ]
  },
  {
   "cell_type": "markdown",
   "id": "e6fda818",
   "metadata": {},
   "source": [
    "It makes sense to load x, y co-ordinates as tuples, and the start, end points as a collection of some form."
   ]
  },
  {
   "cell_type": "code",
   "execution_count": 2,
   "id": "80001478",
   "metadata": {},
   "outputs": [],
   "source": [
    "def load_input(fpath: Path) -> List[List[Tuple]]:\n",
    "    \"\"\"Return list of line segment co-ordinates\n",
    "    \n",
    "    :param fpath:  Path to data file\n",
    "    \"\"\"\n",
    "    segments = []  # holds start, end co-ordinate pairs\n",
    "    \n",
    "    with fpath.open(\"r\") as ifh:\n",
    "        for line in [_.strip().split(\" -> \") for _ in ifh.readlines() if len(_.strip())]:\n",
    "            start = tuple([int(_) for _ in line[0].split(\",\")])  # start co-ordinate\n",
    "            end = tuple([int(_) for _ in line[1].split(\",\")])  # end co-ordinate\n",
    "            segments.append([start, end])\n",
    "            \n",
    "    return segments"
   ]
  },
  {
   "cell_type": "markdown",
   "id": "e3b884ea",
   "metadata": {},
   "source": [
    "The seafloor looks like a 2D array, and the overlap counts are sensible array element values, so we'll use an `np.array` to represent this, for convenience and to take advantage of whatever methods we can.\n",
    "\n",
    "We'll wrap this in a class, so we can add methods/attributes to calculate the puzzle answer (`.overlap`) and check we've got the correct seafloor map (`__str__()`)."
   ]
  },
  {
   "cell_type": "code",
   "execution_count": 3,
   "id": "fff2fff4",
   "metadata": {},
   "outputs": [],
   "source": [
    "class SeaFloor:\n",
    "    \n",
    "    \"\"\"Representation of a seafloor with hydrothermal vents\"\"\"\n",
    "    \n",
    "    def __init__(self, segments: List[List[Tuple]]) -> None:\n",
    "        \"\"\"Set up seabed with vents defined by segments\n",
    "        \n",
    "        :param segments: list of start, end co-ordinates for vents\n",
    "        \"\"\"\n",
    "        # Determine floor size from vent list, and create clear seafloor \n",
    "        xlist, ylist = [], []\n",
    "        for start, end in segments:\n",
    "            xlist.extend([start[0], end[0]])\n",
    "            ylist.extend([start[1], end[1]])\n",
    "        self.__setup_floor((max(ylist) + 1, max(xlist) + 1))\n",
    "        \n",
    "        # Add vents to the seafloor\n",
    "        self.add_vents(segments)\n",
    "        \n",
    "    def __setup_floor(self, shape: Tuple[int, int]) -> None:\n",
    "        \"\"\"Create empty array to represent seafloor\n",
    "        \n",
    "        :param shape:  array size (y, x)\n",
    "        \"\"\"\n",
    "        self._ventcounts = np.zeros(shape)\n",
    "        \n",
    "    def add_vents(self, segments: [List[List[Tuple]]]) -> None:\n",
    "        \"\"\"Add hydrothermal vents from a set of line segments\n",
    "        \n",
    "        :param segments:  start and end co-ordinates for vents\n",
    "        \"\"\"\n",
    "        for start, end in segments:\n",
    "            self.add_vent(start, end)\n",
    "        \n",
    "    def add_vent(self, start: Tuple[int, int], end: Tuple[int, int]) -> None:\n",
    "        \"\"\"Add hydrothermal vents from a pair of co-ordinates\n",
    "        \n",
    "        :param start:  start x, y coordinate\n",
    "        :param end:  end x, y coordinate\n",
    "        \"\"\"\n",
    "        # Split start, end coords for later use\n",
    "        startx, starty = start\n",
    "        endx, endy = end\n",
    "\n",
    "        # Horizontal and vertical lines only\n",
    "        if startx == endx or starty == endy:\n",
    "            # Order start/end for ease of calculation\n",
    "            startx, endx = min(startx, endx), max(startx, endx)\n",
    "            starty, endy = min(starty, endy), max(starty, endy)\n",
    "\n",
    "            if start == end:  # single point\n",
    "                self._ventcounts[starty, startx] += 1\n",
    "            elif startx != endx:  # vertical line\n",
    "                for xpos in range(startx, endx+1):\n",
    "                    self._ventcounts[starty, xpos] += 1\n",
    "            elif starty != endy:  # horizontal line\n",
    "                for ypos in range(starty, endy+1):\n",
    "                    self._ventcounts[ypos, startx] += 1\n",
    "        \n",
    "    def __str__(self) -> str:\n",
    "        \"\"\"Return seafloor as string representation of vent counts\"\"\"\n",
    "        outstr = []\n",
    "        for row in self._ventcounts:\n",
    "            outstr.append(\" \".join([\".\" if _ == 0 else str(int(_)) for _ in row]))\n",
    "        return \"\\n\".join(outstr) + \"\\n\"\n",
    "    \n",
    "    @property\n",
    "    def overlaps(self):\n",
    "        \"\"\"Return number of points on seafloor with at least two vents\"\"\"\n",
    "        return (self._ventcounts > 1).sum()"
   ]
  },
  {
   "cell_type": "markdown",
   "id": "dae48c62",
   "metadata": {},
   "source": [
    "Then, solving the test puzzle"
   ]
  },
  {
   "cell_type": "code",
   "execution_count": 4,
   "id": "f486ee07",
   "metadata": {},
   "outputs": [
    {
     "name": "stdout",
     "output_type": "stream",
     "text": [
      ". . . . . . . 1 . .\n",
      ". . 1 . . . . 1 . .\n",
      ". . 1 . . . . 1 . .\n",
      ". . . . . . . 1 . .\n",
      ". 1 1 2 1 1 1 2 1 1\n",
      ". . . . . . . . . .\n",
      ". . . . . . . . . .\n",
      ". . . . . . . . . .\n",
      ". . . . . . . . . .\n",
      "2 2 2 1 1 1 . . . .\n",
      "\n"
     ]
    },
    {
     "data": {
      "text/plain": [
       "5"
      ]
     },
     "execution_count": 4,
     "metadata": {},
     "output_type": "execute_result"
    }
   ],
   "source": [
    "segments = load_input(testpath)\n",
    "seafloor = SeaFloor(segments)\n",
    "print(seafloor)\n",
    "seafloor.overlaps"
   ]
  },
  {
   "cell_type": "markdown",
   "id": "e5b413f2",
   "metadata": {},
   "source": [
    "And, for the real puzzle data:"
   ]
  },
  {
   "cell_type": "code",
   "execution_count": 5,
   "id": "917f59ed",
   "metadata": {},
   "outputs": [
    {
     "data": {
      "text/plain": [
       "6564"
      ]
     },
     "execution_count": 5,
     "metadata": {},
     "output_type": "execute_result"
    }
   ],
   "source": [
    "segments = load_input(datapath)\n",
    "seafloor = SeaFloor(segments)\n",
    "seafloor.overlaps"
   ]
  },
  {
   "cell_type": "markdown",
   "id": "2dbaba28",
   "metadata": {},
   "source": [
    "## Puzzle 2\n",
    "\n",
    "Unfortunately, considering only horizontal and vertical lines doesn't give you the full picture; you need to also consider diagonal lines.\n",
    "\n",
    "Because of the limits of the hydrothermal vent mapping system, the lines in your list will only ever be horizontal, vertical, or a diagonal line at exactly 45 degrees. In other words:\n",
    "\n",
    "    An entry like 1,1 -> 3,3 covers points 1,1, 2,2, and 3,3.\n",
    "    An entry like 9,7 -> 7,9 covers points 9,7, 8,8, and 7,9.\n",
    "\n",
    "Considering all lines from the above example would now produce the following diagram:\n",
    "\n",
    "```text\n",
    "1.1....11.\n",
    ".111...2..\n",
    "..2.1.111.\n",
    "...1.2.2..\n",
    ".112313211\n",
    "...1.2....\n",
    "..1...1...\n",
    ".1.....1..\n",
    "1.......1.\n",
    "222111....\n",
    "```\n",
    "\n",
    "You still need to determine the number of points where at least two lines overlap. In the above example, this is still anywhere in the diagram with a 2 or larger - now a total of 12 points.\n",
    "\n",
    "Consider all of the lines. At how many points do at least two lines overlap?"
   ]
  },
  {
   "cell_type": "markdown",
   "id": "4485d20f",
   "metadata": {},
   "source": [
    "Having used a class to represent the seafloor, the additional code to process diagonal lines is pretty minor. We add it to the `add_vent()` method."
   ]
  },
  {
   "cell_type": "code",
   "execution_count": 6,
   "id": "398f1a90",
   "metadata": {},
   "outputs": [],
   "source": [
    "class SeaFloor:\n",
    "    \n",
    "    \"\"\"Representation of a seafloor with hydrothermal vents\"\"\"\n",
    "    \n",
    "    def __init__(self, segments: List[List[Tuple]]) -> None:\n",
    "        \"\"\"Set up seabed with vents defined by segments\n",
    "        \n",
    "        :param segments: list of start, end co-ordinates for vents\n",
    "        \"\"\"\n",
    "        # Determine floor size from vent list, and create clear seafloor \n",
    "        xlist, ylist = [], []\n",
    "        for start, end in segments:\n",
    "            xlist.extend([start[0], end[0]])\n",
    "            ylist.extend([start[1], end[1]])\n",
    "        self.__setup_floor((max(ylist) + 1, max(xlist) + 1))\n",
    "        \n",
    "        # Add vents to the seafloor\n",
    "        self.add_vents(segments)\n",
    "        \n",
    "    def __setup_floor(self, shape: Tuple[int, int]) -> None:\n",
    "        \"\"\"Create empty array to represent seafloor\n",
    "        \n",
    "        :param shape:  array size (y, x)\n",
    "        \"\"\"\n",
    "        self._ventcounts = np.zeros(shape)\n",
    "        \n",
    "    def add_vents(self, segments: [List[List[Tuple]]]) -> None:\n",
    "        \"\"\"Add hydrothermal vents from a set of line segments\n",
    "        \n",
    "        :param segments:  start and end co-ordinates for vents\n",
    "        \"\"\"\n",
    "        for start, end in segments:\n",
    "            self.add_vent(start, end)\n",
    "        \n",
    "    def add_vent(self, start: Tuple[int, int], end: Tuple[int, int]) -> None:\n",
    "        \"\"\"Add hydrothermal vents from a pair of co-ordinates\n",
    "        \n",
    "        :param start:  start x, y coordinate\n",
    "        :param end:  end x, y coordinate\n",
    "        \"\"\"\n",
    "        # Split start, end coords for later use\n",
    "        startx, starty = start\n",
    "        endx, endy = end\n",
    "\n",
    "        # Horizontal and vertical lines only\n",
    "        if startx == endx or starty == endy:\n",
    "            # Order start/end for ease of calculation\n",
    "            startx, endx = min(startx, endx), max(startx, endx)\n",
    "            starty, endy = min(starty, endy), max(starty, endy)\n",
    "\n",
    "            if start == end:  # single point\n",
    "                self._ventcounts[starty, startx] += 1\n",
    "            elif startx != endx:  # vertical line\n",
    "                for xpos in range(startx, endx+1):\n",
    "                    self._ventcounts[starty, xpos] += 1\n",
    "            elif starty != endy:  # horizontal line\n",
    "                for ypos in range(starty, endy+1):\n",
    "                    self._ventcounts[ypos, startx] += 1\n",
    "        else:  # diagonal lines\n",
    "            if endx > startx:\n",
    "                xrange = range(startx, endx + 1)\n",
    "            else:\n",
    "                xrange = range(startx, endx - 1, -1)\n",
    "            if endy > starty:\n",
    "                yrange = range(starty, endy + 1)\n",
    "            else:\n",
    "                yrange = range(starty, endy - 1, -1)\n",
    "            for xpos, ypos in zip(xrange, yrange):\n",
    "                self._ventcounts[ypos, xpos] += 1\n",
    "                    \n",
    "        \n",
    "    def __str__(self) -> str:\n",
    "        \"\"\"Return seafloor as string representation of vent counts\"\"\"\n",
    "        outstr = []\n",
    "        for row in self._ventcounts:\n",
    "            outstr.append(\" \".join([\".\" if _ == 0 else str(int(_)) for _ in row]))\n",
    "        return \"\\n\".join(outstr) + \"\\n\"\n",
    "    \n",
    "    @property\n",
    "    def overlaps(self):\n",
    "        \"\"\"Return number of points on seafloor with at least two vents\"\"\"\n",
    "        return (self._ventcounts > 1).sum()"
   ]
  },
  {
   "cell_type": "markdown",
   "id": "227d3168",
   "metadata": {},
   "source": [
    "Checking with the test data:"
   ]
  },
  {
   "cell_type": "code",
   "execution_count": 7,
   "id": "b38692fe",
   "metadata": {},
   "outputs": [
    {
     "name": "stdout",
     "output_type": "stream",
     "text": [
      "1 . 1 . . . . 1 1 .\n",
      ". 1 1 1 . . . 2 . .\n",
      ". . 2 . 1 . 1 1 1 .\n",
      ". . . 1 . 2 . 2 . .\n",
      ". 1 1 2 3 1 3 2 1 1\n",
      ". . . 1 . 2 . . . .\n",
      ". . 1 . . . 1 . . .\n",
      ". 1 . . . . . 1 . .\n",
      "1 . . . . . . . 1 .\n",
      "2 2 2 1 1 1 . . . .\n",
      "\n"
     ]
    },
    {
     "data": {
      "text/plain": [
       "12"
      ]
     },
     "execution_count": 7,
     "metadata": {},
     "output_type": "execute_result"
    }
   ],
   "source": [
    "segments = load_input(testpath)\n",
    "seafloor = SeaFloor(segments)\n",
    "print(seafloor)\n",
    "seafloor.overlaps"
   ]
  },
  {
   "cell_type": "markdown",
   "id": "25a008e3",
   "metadata": {},
   "source": [
    "And with the real puzzle data:"
   ]
  },
  {
   "cell_type": "code",
   "execution_count": 8,
   "id": "f2708259",
   "metadata": {},
   "outputs": [
    {
     "data": {
      "text/plain": [
       "19172"
      ]
     },
     "execution_count": 8,
     "metadata": {},
     "output_type": "execute_result"
    }
   ],
   "source": [
    "segments = load_input(datapath)\n",
    "seafloor = SeaFloor(segments)\n",
    "seafloor.overlaps"
   ]
  },
  {
   "cell_type": "code",
   "execution_count": null,
   "id": "247de010",
   "metadata": {},
   "outputs": [],
   "source": []
  }
 ],
 "metadata": {
  "kernelspec": {
   "display_name": "Python 3 (ipykernel)",
   "language": "python",
   "name": "python3"
  },
  "language_info": {
   "codemirror_mode": {
    "name": "ipython",
    "version": 3
   },
   "file_extension": ".py",
   "mimetype": "text/x-python",
   "name": "python",
   "nbconvert_exporter": "python",
   "pygments_lexer": "ipython3",
   "version": "3.10.0"
  }
 },
 "nbformat": 4,
 "nbformat_minor": 5
}
