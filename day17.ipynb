{
 "cells": [
  {
   "cell_type": "markdown",
   "id": "c86c781b",
   "metadata": {},
   "source": [
    "# Day 17: Trick Shot ---\n",
    "\n",
    "You finally decode the Elves' message. `HI`, the message says. You continue searching for the sleigh keys.\n",
    "\n",
    "Ahead of you is what appears to be a large ocean trench. Could the keys have fallen into it? You'd better send a probe to investigate.\n",
    "\n",
    "The probe launcher on your submarine can fire the probe with any integer velocity in the x (forward) and y (upward, or downward if negative) directions. For example, an initial x,y velocity like 0,10 would fire the probe straight up, while an initial velocity like 10,-1 would fire the probe forward at a slight downward angle.\n",
    "\n",
    "The probe's x,y position starts at 0,0. Then, it will follow some trajectory by moving in steps. On each step, these changes occur in the following order:\n",
    "\n",
    "    The probe's x position increases by its x velocity.\n",
    "    The probe's y position increases by its y velocity.\n",
    "    Due to drag, the probe's x velocity changes by 1 toward the value 0; that is, it decreases by 1 if it is greater than 0, increases by 1 if it is less than 0, or does not change if it is already 0.\n",
    "    Due to gravity, the probe's y velocity decreases by 1.\n",
    "\n",
    "For the probe to successfully make it into the trench, the probe must be on some trajectory that causes it to be within a target area after any step. The submarine computer has already calculated this target area (your puzzle input). For example:\n",
    "\n",
    "```text\n",
    "target area: x=20..30, y=-10..-5\n",
    "```\n",
    "\n",
    "This target area means that you need to find initial x,y velocity values such that after any step, the probe's x position is at least 20 and at most 30, and the probe's y position is at least -10 and at most -5.\n",
    "\n",
    "Given this target area, one initial velocity that causes the probe to be within the target area after any step is 7,2:\n",
    "\n",
    "```text\n",
    ".............#....#............\n",
    ".......#..............#........\n",
    "...............................\n",
    "S........................#.....\n",
    "...............................\n",
    "...............................\n",
    "...........................#...\n",
    "...............................\n",
    "....................TTTTTTTTTTT\n",
    "....................TTTTTTTTTTT\n",
    "....................TTTTTTTT#TT\n",
    "....................TTTTTTTTTTT\n",
    "....................TTTTTTTTTTT\n",
    "....................TTTTTTTTTTT\n",
    "```\n",
    "\n",
    "In this diagram, S is the probe's initial position, 0,0. The x coordinate increases to the right, and the y coordinate increases upward. In the bottom right, positions that are within the target area are shown as T. After each step (until the target area is reached), the position of the probe is marked with #. (The bottom-right # is both a position the probe reaches and a position in the target area.)\n",
    "\n",
    "Another initial velocity that causes the probe to be within the target area after any step is 6,3:\n",
    "\n",
    "```text\n",
    "...............#..#............\n",
    "...........#........#..........\n",
    "...............................\n",
    "......#..............#.........\n",
    "...............................\n",
    "...............................\n",
    "S....................#.........\n",
    "...............................\n",
    "...............................\n",
    "...............................\n",
    ".....................#.........\n",
    "....................TTTTTTTTTTT\n",
    "....................TTTTTTTTTTT\n",
    "....................TTTTTTTTTTT\n",
    "....................TTTTTTTTTTT\n",
    "....................T#TTTTTTTTT\n",
    "....................TTTTTTTTTTT\n",
    "```\n",
    "\n",
    "Another one is 9,0:\n",
    "\n",
    "```text\n",
    "S........#.....................\n",
    ".................#.............\n",
    "...............................\n",
    "........................#......\n",
    "...............................\n",
    "....................TTTTTTTTTTT\n",
    "....................TTTTTTTTTT#\n",
    "....................TTTTTTTTTTT\n",
    "....................TTTTTTTTTTT\n",
    "....................TTTTTTTTTTT\n",
    "....................TTTTTTTTTTT\n",
    "```\n",
    "\n",
    "One initial velocity that doesn't cause the probe to be within the target area after any step is 17,-4:\n",
    "\n",
    "```text\n",
    "S..............................................................\n",
    "...............................................................\n",
    "...............................................................\n",
    "...............................................................\n",
    ".................#.............................................\n",
    "....................TTTTTTTTTTT................................\n",
    "....................TTTTTTTTTTT................................\n",
    "....................TTTTTTTTTTT................................\n",
    "....................TTTTTTTTTTT................................\n",
    "....................TTTTTTTTTTT..#.............................\n",
    "....................TTTTTTTTTTT................................\n",
    "...............................................................\n",
    "...............................................................\n",
    "...............................................................\n",
    "...............................................................\n",
    "................................................#..............\n",
    "...............................................................\n",
    "...............................................................\n",
    "...............................................................\n",
    "...............................................................\n",
    "...............................................................\n",
    "...............................................................\n",
    "..............................................................#\n",
    "```\n",
    "\n",
    "The probe appears to pass through the target area, but is never within it after any step. Instead, it continues down and to the right - only the first few steps are shown.\n",
    "\n",
    "If you're going to fire a highly scientific probe out of a super cool probe launcher, you might as well do it with style. How high can you make the probe go while still reaching the target area?\n",
    "\n",
    "In the above example, using an initial velocity of 6,9 is the best you can do, causing the probe to reach a maximum y position of 45. (Any higher initial y velocity causes the probe to overshoot the target area entirely.)\n",
    "\n",
    "Find the initial velocity that causes the probe to reach the highest y position and still eventually be within the target area after any step. **What is the highest y position it reaches on this trajectory?**"
   ]
  },
  {
   "cell_type": "code",
   "execution_count": 1,
   "id": "2bc6150a",
   "metadata": {},
   "outputs": [],
   "source": [
    "# Python imports\n",
    "from pathlib import Path\n",
    "from typing import Callable, Dict, Generator, Iterable, List, Set, Tuple\n",
    "\n",
    "import numpy as np\n",
    "\n",
    "# Paths to data\n",
    "testpath = Path(\"day17_test.txt\")\n",
    "datapath = Path(\"day17_data.txt\")"
   ]
  },
  {
   "cell_type": "code",
   "execution_count": 2,
   "id": "08027edd",
   "metadata": {},
   "outputs": [],
   "source": [
    "def load_input(fpath: Path) -> Tuple:\n",
    "    \"\"\"Return target area bounds as tuple (xmin, xmax, ymin, ymax)\n",
    "    \n",
    "    :param fpath:  Path to data file\n",
    "    \"\"\"\n",
    "    with fpath.open(\"r\") as ifh:\n",
    "        xdata, ydata = ifh.read().split(\"area: \")[-1].strip().split(\", \")\n",
    "        xvals, yvals = [int(_) for _ in xdata[2:].split(\"..\")], [int(_) for _ in ydata[2:].split(\"..\")]\n",
    "    \n",
    "    return tuple(xvals + yvals)"
   ]
  },
  {
   "cell_type": "markdown",
   "id": "7f077e64",
   "metadata": {},
   "source": [
    "The first thing to note is the symmetry of the probe's path on the y-axis. The probe starts from y=0 with velocity y0, and passes through the line y=0 again on the way back down. As it passes through y=0 it has velocity -y0, so on the next step it has velocity -(y0 + 1). So, for a target region with coordinates (xmin, xmax, ymin, ymax), if -(y0 + 1) < ymin <=> y0 > ymin + 1 the probe will miss the target.\n",
    "\n",
    "We would also guarantee that the probe would miss the target if its initial y velociy were -(y0 + 1). So we have bounds on y0 of [ymin, -(ymin + 1)]."
   ]
  },
  {
   "cell_type": "code",
   "execution_count": 3,
   "id": "0510e0ef",
   "metadata": {},
   "outputs": [],
   "source": [
    "def get_y0_bounds(ymin: int, ymax: int) -> Tuple[int, int]:\n",
    "    \"\"\"Returns the largest and smallest values of y0 that hit target\"\"\"\n",
    "    return (ymin, -(ymin+1))\n",
    "\n",
    "def get_max_y0(ymin: int, ymax: int) -> int:\n",
    "    \"\"\"Returns largest value of y0 that hits target\"\"\"\n",
    "    return max(get_y0_bounds(ymin, ymax))\n",
    "\n",
    "def get_y_max_height(y0: int) -> int:\n",
    "    \"\"\"Returns maximum height reached with given y0\"\"\"\n",
    "    yvel, ypos = y0, 0\n",
    "    \n",
    "    # y0 never gets higher than start\n",
    "    if y0 <= 0:\n",
    "        return 0\n",
    "    \n",
    "    # y0 means the probe moves upwards and reaches a maximum height\n",
    "    while yvel > 0:\n",
    "        ypos += yvel\n",
    "        yvel -= 1\n",
    "        \n",
    "    return ypos"
   ]
  },
  {
   "cell_type": "markdown",
   "id": "fdb2a521",
   "metadata": {},
   "source": [
    "We try this on the test data:"
   ]
  },
  {
   "cell_type": "code",
   "execution_count": 4,
   "id": "7273ac70",
   "metadata": {},
   "outputs": [
    {
     "name": "stdout",
     "output_type": "stream",
     "text": [
      "45\n"
     ]
    }
   ],
   "source": [
    "xmin, xmax, ymin, ymax = load_input(testpath)\n",
    "y0 = get_max_y0(ymin, ymax)\n",
    "print(f\"{get_y_max_height(y0)}\")"
   ]
  },
  {
   "cell_type": "markdown",
   "id": "3f7fd890",
   "metadata": {},
   "source": [
    "And on the puzzle data:"
   ]
  },
  {
   "cell_type": "code",
   "execution_count": 5,
   "id": "76b5236c",
   "metadata": {},
   "outputs": [
    {
     "name": "stdout",
     "output_type": "stream",
     "text": [
      "10011\n"
     ]
    }
   ],
   "source": [
    "xmin, xmax, ymin, ymax = load_input(datapath)\n",
    "y0 = get_max_y0(ymin, ymax)\n",
    "print(f\"{get_y_max_height(y0)}\")"
   ]
  },
  {
   "cell_type": "markdown",
   "id": "a227608b",
   "metadata": {},
   "source": [
    "## Puzzle 2\n",
    "\n",
    "Maybe a fancy trick shot isn't the best idea; after all, you only have one probe, so you had better not miss.\n",
    "\n",
    "To get the best idea of what your options are for launching the probe, you need to find every initial velocity that causes the probe to eventually be within the target area after any step.\n",
    "\n",
    "In the above example, there are 112 different initial velocity values that meet these criteria:\n",
    "\n",
    "```text\n",
    "23,-10  25,-9   27,-5   29,-6   22,-6   21,-7   9,0     27,-7   24,-5\n",
    "25,-7   26,-6   25,-5   6,8     11,-2   20,-5   29,-10  6,3     28,-7\n",
    "8,0     30,-6   29,-8   20,-10  6,7     6,4     6,1     14,-4   21,-6\n",
    "26,-10  7,-1    7,7     8,-1    21,-9   6,2     20,-7   30,-10  14,-3\n",
    "20,-8   13,-2   7,3     28,-8   29,-9   15,-3   22,-5   26,-8   25,-8\n",
    "25,-6   15,-4   9,-2    15,-2   12,-2   28,-9   12,-3   24,-6   23,-7\n",
    "25,-10  7,8     11,-3   26,-7   7,1     23,-9   6,0     22,-10  27,-6\n",
    "8,1     22,-8   13,-4   7,6     28,-6   11,-4   12,-4   26,-9   7,4\n",
    "24,-10  23,-8   30,-8   7,0     9,-1    10,-1   26,-5   22,-9   6,5\n",
    "7,5     23,-6   28,-10  10,-2   11,-1   20,-9   14,-2   29,-7   13,-3\n",
    "23,-5   24,-8   27,-9   30,-7   28,-5   21,-10  7,9     6,6     21,-5\n",
    "27,-10  7,2     30,-9   21,-8   22,-7   24,-9   20,-6   6,9     29,-5\n",
    "8,-2    27,-8   30,-5   24,-7\n",
    "```\n",
    "\n",
    "**How many distinct initial velocity values cause the probe to be within the target area after any step?**"
   ]
  },
  {
   "cell_type": "markdown",
   "id": "6504889c",
   "metadata": {},
   "source": [
    "We can set lower and upper bounds on x0, as there are values for which the probe _cannot ever_ enter the target area. If the probe is too slow in the x direction, it will stop before reaching the target area. If it is too fast, it will overshoot the target area immediately. For a target with x co-ordinates xmin, xmax:\n",
    "\n",
    "- maximum x velocity: 1 + xmax\n",
    "- minimum x velocity: calculated with a recurrence relation for the position at each step. We're looking for the convergence point where the step size is zero, after (x0 + 1) steps:\n",
    "\n",
    "```text\n",
    "pos0 = 0\n",
    "pos1 = pos0 + x0 = x0\n",
    "pos2 = pos1 + (x0 - 1) = x0 + x0 - 1 = 2 * x0 - 1\n",
    "pos3 = pos2 + (x0 - 2) = 2 * x0 - 1 + x0 - 2 = 3 * x0 - 3\n",
    "\n",
    "pos4 = pos3 + (x0 - 3) = 3 * x0 - 3 + x0 - 3 = 4 * x0 - 6\n",
    "pos5 = pos4 + (x0 - 4) = 4 * x0 - 6 + x0 - 4 = 5 * x0 - 10\n",
    "...\n",
    "pos(N-1) = pos(N-2) + x0 - (x0 - 1) = pos(N-2) + 1\n",
    "posN = pos(N) + (x0 - x0) = pos(N-1); note - N = x0\n",
    "```\n",
    "\n",
    "The final position is obtained at step N, and is (N) * x0 plus the N-1th triangular number, where N = x0. The Kth triangular number can be calculated as k(k+1)/2. So this is:\n",
    "\n",
    "```text\n",
    "x0^2 - x0 * (x0 - 1) / 2\n",
    "```"
   ]
  },
  {
   "cell_type": "code",
   "execution_count": 6,
   "id": "4b364879",
   "metadata": {},
   "outputs": [],
   "source": [
    "def get_x_max_dist(x0: int) -> int:\n",
    "    \"\"\"Returns final x co-ordinate reached by x0\"\"\"\n",
    "    return int(x0 * x0 - 0.5 * x0 * (x0 - 1))\n",
    "\n",
    "def get_x0_bounds(xmin: int, xmax: int) -> Tuple[int, int]:\n",
    "    \"\"\"Returns the largest and smallest values of x0 that hit target\"\"\"\n",
    "    x0min = 0\n",
    "    \n",
    "    # Iterate up from x0 = 0 until we find an x0 that hits target\n",
    "    while get_x_max_dist(x0min) < xmin:\n",
    "        x0min += 1\n",
    "        \n",
    "    return (x0min, xmax)"
   ]
  },
  {
   "cell_type": "markdown",
   "id": "fe3cfe89",
   "metadata": {},
   "source": [
    "By counting steps since launch, we an generate a number of steps for which each of the x0 and y0 values are within the target bounds. Our valid launch speeds can be found with the intersection of these steps."
   ]
  },
  {
   "cell_type": "code",
   "execution_count": 7,
   "id": "af9f62bd",
   "metadata": {},
   "outputs": [],
   "source": [
    "def get_x0_steps(x0: int, xmin: int, xmax: int) -> Set[int]:\n",
    "    \"\"\"Returns set of steps for which the passed value of x0 hits the target\"\"\"\n",
    "    steps = set()\n",
    "    \n",
    "    # if probe is at stop_pos, then it is falling vertically through\n",
    "    # the target window. To indicate this \"infinite\" value we'll put\n",
    "    # -1 into the set of steps we return\n",
    "    pos = 0\n",
    "    step = 0\n",
    "    lastpos = None\n",
    "    \n",
    "    # Iterate over y positions hit by probe and store those in the set    \n",
    "    while pos <= xmax:\n",
    "        if pos >= xmin:\n",
    "            steps.add(step)\n",
    "        if pos == lastpos:\n",
    "            if len(steps):\n",
    "                steps.add(-1)  # marks a vertical drop/infinite value\n",
    "            break\n",
    "        step += 1\n",
    "        lastpos = pos\n",
    "        pos = int(step * x0 - 0.5 * step * (step - 1))\n",
    "    \n",
    "    return steps\n",
    "\n",
    "def get_y0_steps(y0: int, ymin: int, ymax: int) -> Set[int]:\n",
    "    \"\"\"Returns set of steps for which the passed value of y0 hits the target\"\"\"\n",
    "    steps = set()\n",
    "    \n",
    "    pos = 0\n",
    "    step = 0\n",
    "    yvel = y0\n",
    "\n",
    "    # Iterate over y positions hit by probe and store those in the set\n",
    "    while pos >= ymin:\n",
    "        if pos <= ymax:\n",
    "            steps.add(step)\n",
    "        pos = pos + yvel\n",
    "        step += 1\n",
    "        yvel -= 1\n",
    "        \n",
    "    return steps"
   ]
  },
  {
   "cell_type": "markdown",
   "id": "323a4f55",
   "metadata": {},
   "source": [
    "To identify (x0, y0) pairs that will hit the target, we obtain the sets of steps where the target is hit for all valid values of x0 and y0"
   ]
  },
  {
   "cell_type": "code",
   "execution_count": 8,
   "id": "a9032fb6",
   "metadata": {},
   "outputs": [],
   "source": [
    "def get_x0_y0_steps(xmin: int, xmax: int, ymin: int, ymax: int) -> Tuple[Dict[int, Set], Dict[int, Set]]:\n",
    "    \"\"\"Returns dictionaries keyed by x0, y0 values, containing steps where target is hit\"\"\"\n",
    "    x0min, x0max = get_x0_bounds(xmin, xmax)\n",
    "    y0min, y0max = get_y0_bounds(ymin, ymax)\n",
    "\n",
    "    x0_steps = {x0: get_x0_steps(x0, xmin, xmax) for x0 in range(x0min, x0max + 1)}\n",
    "    y0_steps = {y0: get_y0_steps(y0, ymin, ymax) for y0 in range(y0min, y0max + 1)}\n",
    "    \n",
    "    return(x0_steps, y0_steps)\n",
    "    \n",
    "def get_solutions(xmin: int, xmax: int, ymin: int, ymax: int) -> Set[Tuple[int, int]]:\n",
    "    \"\"\"Returns combinations of (x0, y0) values where the probe hits the target\"\"\"\n",
    "    solutions = set()\n",
    "    \n",
    "    x0_steps, y0_steps = get_x0_y0_steps(xmin, xmax, ymin, ymax)\n",
    "    \n",
    "    for x0, xsteps in x0_steps.items():\n",
    "        for y0, ysteps in y0_steps.items():\n",
    "            if len(xsteps.intersection(ysteps)):\n",
    "                solutions.add((x0, y0))\n",
    "            # probe is dropping vertically\n",
    "            if -1 in xsteps and len(ysteps):\n",
    "                if max(ysteps) >= max(xsteps):\n",
    "                    solutions.add((x0, y0))\n",
    "                    \n",
    "    return solutions"
   ]
  },
  {
   "cell_type": "markdown",
   "id": "8daabc99",
   "metadata": {},
   "source": [
    "Applying this to the test data:"
   ]
  },
  {
   "cell_type": "code",
   "execution_count": 9,
   "id": "03a25cd1",
   "metadata": {},
   "outputs": [
    {
     "data": {
      "text/plain": [
       "112"
      ]
     },
     "execution_count": 9,
     "metadata": {},
     "output_type": "execute_result"
    }
   ],
   "source": [
    "xmin, xmax, ymin, ymax = load_input(testpath)\n",
    "len(get_solutions(xmin, xmax, ymin, ymax))"
   ]
  },
  {
   "cell_type": "markdown",
   "id": "372e2fd8",
   "metadata": {},
   "source": [
    "And to the puzzle data:"
   ]
  },
  {
   "cell_type": "code",
   "execution_count": 10,
   "id": "179be416",
   "metadata": {},
   "outputs": [
    {
     "data": {
      "text/plain": [
       "2994"
      ]
     },
     "execution_count": 10,
     "metadata": {},
     "output_type": "execute_result"
    }
   ],
   "source": [
    "xmin, xmax, ymin, ymax = load_input(datapath)\n",
    "len(get_solutions(xmin, xmax, ymin, ymax))"
   ]
  },
  {
   "cell_type": "code",
   "execution_count": null,
   "id": "1f0ea71c",
   "metadata": {},
   "outputs": [],
   "source": []
  }
 ],
 "metadata": {
  "kernelspec": {
   "display_name": "Python 3 (ipykernel)",
   "language": "python",
   "name": "python3"
  },
  "language_info": {
   "codemirror_mode": {
    "name": "ipython",
    "version": 3
   },
   "file_extension": ".py",
   "mimetype": "text/x-python",
   "name": "python",
   "nbconvert_exporter": "python",
   "pygments_lexer": "ipython3",
   "version": "3.10.0"
  }
 },
 "nbformat": 4,
 "nbformat_minor": 5
}
