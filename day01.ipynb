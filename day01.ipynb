{
 "cells": [
  {
   "cell_type": "markdown",
   "id": "1c529ea2",
   "metadata": {},
   "source": [
    "# Day 01: Sonar Sweep\n",
    "\n",
    "You're minding your own business on a ship at sea when the overboard alarm goes off! You rush to see if you can help. Apparently, one of the Elves tripped and accidentally sent the sleigh keys flying into the ocean!\n",
    "\n",
    "Before you know it, you're inside a submarine the Elves keep ready for situations like this. It's covered in Christmas lights (because of course it is), and it even has an experimental antenna that should be able to track the keys if you can boost its signal strength high enough; there's a little meter that indicates the antenna's signal strength by displaying 0-50 stars.\n",
    "\n",
    "Your instincts tell you that in order to save Christmas, you'll need to get all fifty stars by December 25th.\n",
    "\n",
    "Collect stars by solving puzzles. Two puzzles will be made available on each day in the Advent calendar; the second puzzle is unlocked when you complete the first. Each puzzle grants one star. Good luck!\n",
    "\n",
    "## Puzzle 1\n",
    "\n",
    "As the submarine drops below the surface of the ocean, it automatically performs a sonar sweep of the nearby sea floor. On a small screen, the sonar sweep report (your puzzle input) appears: each line is a measurement of the sea floor depth as the sweep looks further and further away from the submarine.\n",
    "\n",
    "For example, suppose you had the following report:\n",
    "\n",
    "```text\n",
    "199\n",
    "200\n",
    "208\n",
    "210\n",
    "200\n",
    "207\n",
    "240\n",
    "269\n",
    "260\n",
    "263\n",
    "```\n",
    "\n",
    "This report indicates that, scanning outward from the submarine, the sonar sweep found depths of 199, 200, 208, 210, and so on.\n",
    "\n",
    "The first order of business is to figure out how quickly the depth increases, just so you know what you're dealing with - you never know if the keys will get carried into deeper water by an ocean current or a fish or something.\n",
    "\n",
    "To do this, count the number of times a depth measurement increases from the previous measurement. (There is no measurement before the first measurement.) In the example above, the changes are as follows:\n",
    "\n",
    "```\n",
    "199 (N/A - no previous measurement)\n",
    "200 (increased)\n",
    "208 (increased)\n",
    "210 (increased)\n",
    "200 (decreased)\n",
    "207 (increased)\n",
    "240 (increased)\n",
    "269 (increased)\n",
    "260 (decreased)\n",
    "263 (increased)\n",
    "```\n",
    "\n",
    "In this example, there are 7 measurements that are larger than the previous measurement.\n",
    "\n",
    "**How many measurements are larger than the previous measurement?**"
   ]
  },
  {
   "cell_type": "code",
   "execution_count": 1,
   "id": "39cc1e43",
   "metadata": {},
   "outputs": [],
   "source": [
    "# Python imports\n",
    "from pathlib import Path\n",
    "from typing import List\n",
    "\n",
    "# Paths to data\n",
    "testpath = Path(\"day01_test.txt\")\n",
    "datapath = Path(\"day01_data.txt\")"
   ]
  },
  {
   "cell_type": "code",
   "execution_count": 2,
   "id": "1490e8d3",
   "metadata": {},
   "outputs": [],
   "source": [
    "def load_input(fpath: Path):\n",
    "    \"\"\"Return puzzle data as list of ints\n",
    "    \n",
    "    :param fpath:  Path to data file\n",
    "    \"\"\"\n",
    "    with fpath.open(\"r\") as ifh:\n",
    "        return [int(_) for _ in ifh]"
   ]
  },
  {
   "cell_type": "markdown",
   "id": "0a6cdcb3",
   "metadata": {},
   "source": [
    "One way to solve this is to pop the last value off the end of the input list, and compare that value to the new value at the end of the list, incrementing a count if the popped value is greater. We keep doing this until there are no more values to pop."
   ]
  },
  {
   "cell_type": "code",
   "execution_count": 3,
   "id": "ca6021f6",
   "metadata": {},
   "outputs": [],
   "source": [
    "def count_increase(data: List[int]):\n",
    "    \"\"\"Return count of list elements that are greater than preceding element\n",
    "    \n",
    "    :param data:  list of ints\n",
    "    \"\"\"\n",
    "    count = 0             # elements greater than preceding element\n",
    "    newval = data.pop()   # beginning end value in list\n",
    "    \n",
    "    # While there are still elements in the list, compare the\n",
    "    # popped value to the last value in the list; if the popped\n",
    "    # value is greater, increment the count by 1\n",
    "    while len(data):\n",
    "        if newval > data[-1]:\n",
    "            count += 1\n",
    "        newval = data.pop()\n",
    "            \n",
    "    return count"
   ]
  },
  {
   "cell_type": "code",
   "execution_count": 4,
   "id": "69f18b16",
   "metadata": {},
   "outputs": [
    {
     "data": {
      "text/plain": [
       "7"
      ]
     },
     "execution_count": 4,
     "metadata": {},
     "output_type": "execute_result"
    }
   ],
   "source": [
    "count_increase(load_input(testpath))"
   ]
  },
  {
   "cell_type": "code",
   "execution_count": 5,
   "id": "db0bfe62",
   "metadata": {},
   "outputs": [
    {
     "data": {
      "text/plain": [
       "1766"
      ]
     },
     "execution_count": 5,
     "metadata": {},
     "output_type": "execute_result"
    }
   ],
   "source": [
    "count_increase(load_input(datapath))"
   ]
  },
  {
   "cell_type": "markdown",
   "id": "10bd08ca",
   "metadata": {},
   "source": [
    "## Puzzle 2\n",
    "\n",
    "Considering every single measurement isn't as useful as you expected: there's just too much noise in the data.\n",
    "\n",
    "Instead, consider sums of a three-measurement sliding window. Again considering the above example:\n",
    "\n",
    "```text\n",
    "199  A      \n",
    "200  A B    \n",
    "208  A B C  \n",
    "210    B C D\n",
    "200  E   C D\n",
    "207  E F   D\n",
    "240  E F G  \n",
    "269    F G H\n",
    "260      G H\n",
    "263        H\n",
    "```\n",
    "\n",
    "Start by comparing the first and second three-measurement windows. The measurements in the first window are marked A (199, 200, 208); their sum is 199 + 200 + 208 = 607. The second window is marked B (200, 208, 210); its sum is 618. The sum of measurements in the second window is larger than the sum of the first, so this first comparison increased.\n",
    "\n",
    "Your goal now is to count the number of times the sum of measurements in this sliding window increases from the previous sum. So, compare A with B, then compare B with C, then C with D, and so on. Stop when there aren't enough measurements left to create a new three-measurement sum.\n",
    "\n",
    "In the above example, the sum of each three-measurement window is as follows:\n",
    "\n",
    "```text\n",
    "A: 607 (N/A - no previous sum)\n",
    "B: 618 (increased)\n",
    "C: 618 (no change)\n",
    "D: 617 (decreased)\n",
    "E: 647 (increased)\n",
    "F: 716 (increased)\n",
    "G: 769 (increased)\n",
    "H: 792 (increased)\n",
    "```\n",
    "\n",
    "In this example, there are 5 sums that are larger than the previous sum.\n",
    "\n",
    "Consider sums of a three-measurement sliding window. How many sums are larger than the previous sum?"
   ]
  },
  {
   "cell_type": "code",
   "execution_count": 6,
   "id": "d2771209",
   "metadata": {},
   "outputs": [],
   "source": [
    "def count_window_increase(data: List[int], winsize: int=3):\n",
    "    \"\"\"Return count of list window sums that are greater than the preceding window sum\n",
    "    \n",
    "    :param data:  list of ints\n",
    "    :param winsize:  size of window\n",
    "    \n",
    "    Iterate over the first len(data) - winsize elements in the data,\n",
    "    identifying windows, and calculating their sums as a list. Then\n",
    "    use the solution to Puzzle 1 to count the number of window sums\n",
    "    that increase wrt the previous sum.\n",
    "    \"\"\"\n",
    "    windows = [sum(data[idx:idx + winsize]) for idx in range(len(data) - winsize + 1)]\n",
    "    return count_increase(windows)\n"
   ]
  },
  {
   "cell_type": "code",
   "execution_count": 7,
   "id": "c8b9a1c0",
   "metadata": {},
   "outputs": [
    {
     "data": {
      "text/plain": [
       "5"
      ]
     },
     "execution_count": 7,
     "metadata": {},
     "output_type": "execute_result"
    }
   ],
   "source": [
    "count_window_increase(load_input(testpath))"
   ]
  },
  {
   "cell_type": "code",
   "execution_count": 8,
   "id": "3f44401a",
   "metadata": {},
   "outputs": [
    {
     "data": {
      "text/plain": [
       "1797"
      ]
     },
     "execution_count": 8,
     "metadata": {},
     "output_type": "execute_result"
    }
   ],
   "source": [
    "count_window_increase(load_input(datapath))"
   ]
  }
 ],
 "metadata": {
  "kernelspec": {
   "display_name": "Python 3 (ipykernel)",
   "language": "python",
   "name": "python3"
  },
  "language_info": {
   "codemirror_mode": {
    "name": "ipython",
    "version": 3
   },
   "file_extension": ".py",
   "mimetype": "text/x-python",
   "name": "python",
   "nbconvert_exporter": "python",
   "pygments_lexer": "ipython3",
   "version": "3.10.0"
  }
 },
 "nbformat": 4,
 "nbformat_minor": 5
}
