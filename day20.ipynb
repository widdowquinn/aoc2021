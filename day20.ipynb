{
 "cells": [
  {
   "cell_type": "markdown",
   "id": "68e38aad",
   "metadata": {},
   "source": [
    "# Day 20: Trench Map\n",
    "\n",
    "With the scanners fully deployed, you turn their attention to mapping the floor of the ocean trench.\n",
    "\n",
    "When you get back the image from the scanners, it seems to just be random noise. Perhaps you can combine an image enhancement algorithm and the input image (your puzzle input) to clean it up a little.\n",
    "\n",
    "For example:\n",
    "\n",
    "```text\n",
    "..#.#..#####.#.#.#.###.##.....###.##.#..###.####..#####..#....#..#..##..##\n",
    "#..######.###...####..#..#####..##..#.#####...##.#.#..#.##..#.#......#.###\n",
    ".######.###.####...#.##.##..#..#..#####.....#.#....###..#.##......#.....#.\n",
    ".#..#..##..#...##.######.####.####.#.#...#.......#..#.#.#...####.##.#.....\n",
    ".#..#...##.#.##..#...##.#.##..###.#......#.#.......#.#.#.####.###.##...#..\n",
    "...####.#..#..#.##.#....##..#.####....##...##..#...#......#.#.......#.....\n",
    "..##..####..#...#.#.#...##..#.#..###..#####........#..####......#..#\n",
    "\n",
    "#..#.\n",
    "#....\n",
    "##..#\n",
    "..#..\n",
    "..###\n",
    "```\n",
    "\n",
    "The first section is the image enhancement algorithm. It is normally given on a single line, but it has been wrapped to multiple lines in this example for legibility. The second section is the input image, a two-dimensional grid of light pixels (`#`) and dark pixels (`.`).\n",
    "\n",
    "The image enhancement algorithm describes how to enhance an image by simultaneously converting all pixels in the input image into an output image. Each pixel of the output image is determined by looking at a 3x3 square of pixels centered on the corresponding input image pixel. So, to determine the value of the pixel at (5,10) in the output image, nine pixels from the input image need to be considered: (4,9), (4,10), (4,11), (5,9), (5,10), (5,11), (6,9), (6,10), and (6,11). These nine input pixels are combined into a single binary number that is used as an index in the image enhancement algorithm string.\n",
    "\n",
    "For example, to determine the output pixel that corresponds to the very middle pixel of the input image, the nine pixels marked by [...] would need to be considered:\n",
    "\n",
    "```text\n",
    "# . . # .\n",
    "#[. . .].\n",
    "#[# . .]#\n",
    ".[. # .].\n",
    ". . # # #\n",
    "```\n",
    "\n",
    "Starting from the top-left and reading across each row, these pixels are `...`, then `#..`, then `.#.`; combining these forms `...#...#..` By turning dark pixels (`.`) into `0` and light pixels (`#`) into `1`, the binary number `000100010` can be formed, which is 34 in decimal.\n",
    "\n",
    "The image enhancement algorithm string is exactly 512 characters long, enough to match every possible 9-bit binary number. The first few characters of the string (numbered starting from zero) are as follows:\n",
    "\n",
    "```text\n",
    "0         10        20        30  34    40        50        60        70\n",
    "|         |         |         |   |     |         |         |         |\n",
    "..#.#..#####.#.#.#.###.##.....###.##.#..###.####..#####..#....#..#..##..##\n",
    "```\n",
    "\n",
    "In the middle of this first group of characters, the character at index 34 can be found: `#`. So, the output pixel in the center of the output image should be `#`, a light pixel.\n",
    "\n",
    "This process can then be repeated to calculate every pixel of the output image.\n",
    "\n",
    "Through advances in imaging technology, the images being operated on here are infinite in size. Every pixel of the infinite output image needs to be calculated exactly based on the relevant pixels of the input image. The small input image you have is only a small region of the actual infinite input image; the rest of the input image consists of dark pixels (`.`). For the purposes of the example, to save on space, only a portion of the infinite-sized input and output images will be shown.\n",
    "\n",
    "The starting input image, therefore, looks something like this, with more dark pixels (`.`) extending forever in every direction not shown here:\n",
    "\n",
    "```text\n",
    "...............\n",
    "...............\n",
    "...............\n",
    "...............\n",
    "...............\n",
    ".....#..#......\n",
    ".....#.........\n",
    ".....##..#.....\n",
    ".......#.......\n",
    ".......###.....\n",
    "...............\n",
    "...............\n",
    "...............\n",
    "...............\n",
    "...............\n",
    "```\n",
    "\n",
    "By applying the image enhancement algorithm to every pixel simultaneously, the following output image can be obtained:\n",
    "\n",
    "```text\n",
    "...............\n",
    "...............\n",
    "...............\n",
    "...............\n",
    ".....##.##.....\n",
    "....#..#.#.....\n",
    "....##.#..#....\n",
    "....####..#....\n",
    ".....#..##.....\n",
    "......##..#....\n",
    ".......#.#.....\n",
    "...............\n",
    "...............\n",
    "...............\n",
    "...............\n",
    "```\n",
    "\n",
    "Through further advances in imaging technology, the above output image can also be used as an input image! This allows it to be enhanced a second time:\n",
    "\n",
    "```text\n",
    "...............\n",
    "...............\n",
    "...............\n",
    "..........#....\n",
    "....#..#.#.....\n",
    "...#.#...###...\n",
    "...#...##.#....\n",
    "...#.....#.#...\n",
    "....#.#####....\n",
    ".....#.#####...\n",
    "......##.##....\n",
    ".......###.....\n",
    "...............\n",
    "...............\n",
    "...............\n",
    "```\n",
    "\n",
    "Truly incredible - now the small details are really starting to come through. After enhancing the original input image twice, 35 pixels are lit.\n",
    "\n",
    "Start with the original input image and apply the image enhancement algorithm twice, being careful to account for the infinite size of the images. **How many pixels are lit in the resulting image?**"
   ]
  },
  {
   "cell_type": "code",
   "execution_count": 1,
   "id": "2ae3372a",
   "metadata": {},
   "outputs": [],
   "source": [
    "# Python imports\n",
    "from itertools import combinations\n",
    "from pathlib import Path\n",
    "from typing import Callable, Dict, Generator, Iterable, List, Optional, Set, Tuple\n",
    "\n",
    "import numpy as np\n",
    "\n",
    "# Paths to data\n",
    "testpath = Path(\"day20_test.txt\")\n",
    "datapath = Path(\"day20_data.txt\")"
   ]
  },
  {
   "cell_type": "markdown",
   "id": "f0435864",
   "metadata": {},
   "source": [
    "We parse the algorithm instructions into a dictionary, keyed by the value of the window in decimal, having values that are the output of the algorithm as 0 and 1 instead of `.` and `#` (this makes things easier to deal with, later).\n",
    "\n",
    "The image data is parsed into a `numpy` array of 1 and 0 ints, rather than `.` and `#`, for the same reason."
   ]
  },
  {
   "cell_type": "code",
   "execution_count": 2,
   "id": "de80c236",
   "metadata": {},
   "outputs": [],
   "source": [
    "def parse_imgdata(imgdata: List[str]) -> np.array:\n",
    "    \"\"\"Returns array of lit/unlit locations in image\n",
    "    \n",
    "    :param imgdata:  list of strings representing image data\n",
    "    \"\"\"\n",
    "    # Convert ./# to 0/1\n",
    "    newimg = []\n",
    "    for row in imgdata:\n",
    "        newimg.append([0 if _ == \".\" else 1 for _ in row])\n",
    "    return np.array(newimg)\n",
    "\n",
    "def parse_algo(algostr: str) -> Dict[int,int]:\n",
    "    \"\"\"Returns dictionary of image enhancement algorithm\n",
    "    \n",
    "    :param algostr:  string defining image enhancement algorithm\n",
    "    \"\"\"\n",
    "    return {idx: 0 if output == \".\" else 1 for idx, output in enumerate(list(algostr))}\n",
    "        \n",
    "\n",
    "def load_input(fpath: Path) -> Tuple[Dict[int,int], np.array]:\n",
    "    \"\"\"Return the enhancement algorithm and start image\n",
    "    \n",
    "    :param fpath:  Path to data file\n",
    "    \"\"\"\n",
    "    with fpath.open(\"r\") as ifh:\n",
    "        data = [_.strip() for _ in ifh.readlines()]\n",
    "        \n",
    "        # Convert image enhancement algorithm string to dictionary\n",
    "        algodict = parse_algo(data[0])\n",
    "        \n",
    "        # Convert initial image to set of lit locations\n",
    "        imgdata = parse_imgdata(data[2:])\n",
    "                \n",
    "    return algodict, imgdata"
   ]
  },
  {
   "cell_type": "markdown",
   "id": "7ec5ff94",
   "metadata": {},
   "source": [
    "Image update has a complication: the infinite field. If the algorithm sends windows of value 0 to 0 (as in the test example), then the infinite field remains `0`. However, if the algorithm sends windows of value 0 to **1** (as the real example does!) then the infinite field _flips_ from 0 to 1 each time the image is updated - which is presumably why we're given even numbers of updates to try.\n",
    "\n",
    "To accommodate this, in a single update we pad the image array with the current value of the infinite field (inferred from the iteration number in `update_image_n()`. One row and column in each direction beyond the current image can be affected by the pixels in the current image, so we pad three rows and columns with the current value of the infinite field, update pixels for the area at least two pixels in from each edge, then trim the rows/columns corresponding to the infinite field."
   ]
  },
  {
   "cell_type": "code",
   "execution_count": 3,
   "id": "ccbe06b6",
   "metadata": {},
   "outputs": [],
   "source": [
    "def update_image(imgdata: np.array, algodict: Dict[int,int], fieldval: int=0) -> np.array:\n",
    "    \"\"\"Update the image with the algorithm\n",
    "        \n",
    "    NOTE: the update is made, given an infinite field\n",
    "    with passed value. The image itself is padded with\n",
    "    3 rows/columns, before updating, and then the image\n",
    "    has two rows/columns unpadded after the update.\n",
    "    \"\"\"\n",
    "    # Pad image\n",
    "    padded = np.pad(imgdata, (3,3), \"constant\", constant_values=(fieldval,fieldval))\n",
    "    \n",
    "    # Update image\n",
    "    updated = np.copy(padded)\n",
    "    rows, cols = updated.shape\n",
    "    for row in range(2, rows-2):\n",
    "        for col in range(2, cols-2):\n",
    "            window = padded[row-1:row+2, col-1:col+2].flatten()\n",
    "            val = int(\"\".join([str(_) for _ in window]), 2)\n",
    "            enhanced = algodict[val]\n",
    "            updated[row, col] = enhanced\n",
    "    \n",
    "    # Unpad image and return\n",
    "    unpadded = updated[2:-2, 2:-2]\n",
    "    return (unpadded)"
   ]
  },
  {
   "cell_type": "markdown",
   "id": "39eb14e6",
   "metadata": {},
   "source": [
    "For multiple updates, we keep track of the update number, and pass the appropriate infinite field value (0 for \"even\", 1 for \"odd\" iterations)."
   ]
  },
  {
   "cell_type": "code",
   "execution_count": 4,
   "id": "f017a7be",
   "metadata": {},
   "outputs": [],
   "source": [
    "def update_image_n(imgdata: np.array, algodict: Dict[int,int], iterations: int=1) -> np.array:\n",
    "    \"\"\"Returns result of updating the image with the algorithm\"\"\"\n",
    "    updated = np.copy(imgdata)\n",
    "    for itern in range(iterations):\n",
    "        fieldval = 0  # default infinite field is zero\n",
    "        if itern % 2 and algodict[0] == 1:\n",
    "            # If the algorithm sends 0 -> 1, then on the \"odd\"\n",
    "            # itern values, the infinite field has value 1\n",
    "            fieldval = 1\n",
    "        updated = update_image(updated, algodict, fieldval)\n",
    "    return updated"
   ]
  },
  {
   "cell_type": "markdown",
   "id": "6af4e8cb",
   "metadata": {},
   "source": [
    "Now we can try this on the test data:"
   ]
  },
  {
   "cell_type": "code",
   "execution_count": 5,
   "id": "430f9e5a",
   "metadata": {
    "scrolled": true
   },
   "outputs": [
    {
     "name": "stdout",
     "output_type": "stream",
     "text": [
      "updated.sum()=35\n"
     ]
    }
   ],
   "source": [
    "algodict, imgdata = load_input(testpath)\n",
    "updated = update_image_n(imgdata, algodict, 2)\n",
    "# print(f\"{algodict=}\\n{updated=}\")\n",
    "print(f\"{updated.sum()=}\")"
   ]
  },
  {
   "cell_type": "markdown",
   "id": "08470489",
   "metadata": {},
   "source": [
    "And the puzzle data:"
   ]
  },
  {
   "cell_type": "code",
   "execution_count": 6,
   "id": "3293c8ca",
   "metadata": {},
   "outputs": [
    {
     "name": "stdout",
     "output_type": "stream",
     "text": [
      "updated.sum()=5225\n"
     ]
    }
   ],
   "source": [
    "algodict, imgdata = load_input(datapath)\n",
    "updated = update_image_n(imgdata, algodict, 2)\n",
    "# print(f\"{algodict=}\\n{updated=}\")\n",
    "print(f\"{updated.sum()=}\")"
   ]
  },
  {
   "cell_type": "markdown",
   "id": "3f9253ce",
   "metadata": {},
   "source": [
    "## Puzzle 2:\n",
    "\n",
    "You still can't quite make out the details in the image. Maybe you just didn't enhance it enough.\n",
    "\n",
    "If you enhance the starting input image in the above example a total of 50 times, 3351 pixels are lit in the final output image.\n",
    "\n",
    "Start again with the original input image and apply the image enhancement algorithm 50 times. **How many pixels are lit in the resulting image?**"
   ]
  },
  {
   "cell_type": "markdown",
   "id": "20b62a59",
   "metadata": {},
   "source": [
    "Our solution might be a bit slow over 50 iterations, but we can try it on the test data:"
   ]
  },
  {
   "cell_type": "code",
   "execution_count": 7,
   "id": "c69cad2f",
   "metadata": {},
   "outputs": [
    {
     "name": "stdout",
     "output_type": "stream",
     "text": [
      "updated.sum()=3351\n"
     ]
    }
   ],
   "source": [
    "algodict, imgdata = load_input(testpath)\n",
    "updated = update_image_n(imgdata, algodict, 50)\n",
    "# print(f\"{algodict=}\\n{updated=}\")\n",
    "print(f\"{updated.sum()=}\")"
   ]
  },
  {
   "cell_type": "markdown",
   "id": "7fc84c80",
   "metadata": {},
   "source": [
    "And the puzzle data:"
   ]
  },
  {
   "cell_type": "code",
   "execution_count": 8,
   "id": "1c101c71",
   "metadata": {},
   "outputs": [
    {
     "name": "stdout",
     "output_type": "stream",
     "text": [
      "updated.sum()=18131\n"
     ]
    }
   ],
   "source": [
    "algodict, imgdata = load_input(datapath)\n",
    "updated = update_image_n(imgdata, algodict, 50)\n",
    "# print(f\"{algodict=}\\n{updated=}\")\n",
    "print(f\"{updated.sum()=}\")"
   ]
  },
  {
   "cell_type": "code",
   "execution_count": null,
   "id": "dd39be40",
   "metadata": {},
   "outputs": [],
   "source": []
  }
 ],
 "metadata": {
  "kernelspec": {
   "display_name": "Python 3 (ipykernel)",
   "language": "python",
   "name": "python3"
  },
  "language_info": {
   "codemirror_mode": {
    "name": "ipython",
    "version": 3
   },
   "file_extension": ".py",
   "mimetype": "text/x-python",
   "name": "python",
   "nbconvert_exporter": "python",
   "pygments_lexer": "ipython3",
   "version": "3.9.9"
  }
 },
 "nbformat": 4,
 "nbformat_minor": 5
}
