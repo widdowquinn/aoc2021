{
 "cells": [
  {
   "cell_type": "markdown",
   "id": "46aed9ac",
   "metadata": {},
   "source": [
    "# Day 09: Smoke Basin\n",
    "\n",
    "These caves seem to be lava tubes. Parts are even still volcanically active; small hydrothermal vents release smoke into the caves that slowly settles like rain.\n",
    "\n",
    "If you can model how the smoke flows through the caves, you might be able to avoid it and be that much safer. The submarine generates a heightmap of the floor of the nearby caves for you (your puzzle input).\n",
    "\n",
    "Smoke flows to the lowest point of the area it's in. For example, consider the following heightmap:\n",
    "\n",
    "```text\n",
    "2199943210\n",
    "3987894921\n",
    "9856789892\n",
    "8767896789\n",
    "9899965678\n",
    "```\n",
    "\n",
    "Each number corresponds to the height of a particular location, where 9 is the highest and 0 is the lowest a location can be.\n",
    "\n",
    "Your first goal is to find the low points - the locations that are lower than any of its adjacent locations. Most locations have four adjacent locations (up, down, left, and right); locations on the edge or corner of the map have three or two adjacent locations, respectively. (Diagonal locations do not count as adjacent.)\n",
    "\n",
    "In the above example, there are four low points, all highlighted: two are in the first row (a 1 and a 0), one is in the third row (a 5), and one is in the bottom row (also a 5). All other locations on the heightmap have some lower adjacent location, and so are not low points.\n",
    "\n",
    "The risk level of a low point is 1 plus its height. In the above example, the risk levels of the low points are 2, 1, 6, and 6. The sum of the risk levels of all low points in the heightmap is therefore 15.\n",
    "\n",
    "Find all of the low points on your heightmap. **What is the sum of the risk levels of all low points on your heightmap?**"
   ]
  },
  {
   "cell_type": "code",
   "execution_count": 1,
   "id": "cc02ae39",
   "metadata": {},
   "outputs": [],
   "source": [
    "# Python imports\n",
    "from pathlib import Path\n",
    "from typing import Callable, Dict, Generator, Iterable, List, Tuple\n",
    "\n",
    "import numpy as np\n",
    "\n",
    "# Paths to data\n",
    "testpath = Path(\"day09_test.txt\")\n",
    "datapath = Path(\"day09_data.txt\")"
   ]
  },
  {
   "cell_type": "code",
   "execution_count": 2,
   "id": "21050dc3",
   "metadata": {},
   "outputs": [],
   "source": [
    "def load_input(fpath: Path) -> np.array:\n",
    "    \"\"\"Return heightmap as numpy array\n",
    "    \n",
    "    :param fpath:  Path to data file\n",
    "    \"\"\"\n",
    "    data = []\n",
    "    \n",
    "    with fpath.open(\"r\") as ifh:\n",
    "        for line in [_.strip() for _ in ifh.readlines() if len(_.strip())]:\n",
    "            data.append([int(_) for _ in list(line)])\n",
    "    \n",
    "    return np.array(data)"
   ]
  },
  {
   "cell_type": "markdown",
   "id": "0eb128fa",
   "metadata": {},
   "source": [
    "We approach this in an obvious way: check each position in the array to see if it's a minimum with respect to its neighbours.\n",
    "\n",
    "We choose to produce a Boolean mask, with True values when an element in the array is a minimum. Then we can use this to identify minimum locations, minimum values, and so on."
   ]
  },
  {
   "cell_type": "code",
   "execution_count": 3,
   "id": "9db39252",
   "metadata": {},
   "outputs": [],
   "source": [
    "def get_neighbours(arr: np.array, pos: Tuple[int, int]) -> Generator:\n",
    "    \"\"\"Returns generator of neighbour positions in array\n",
    "    \n",
    "    :param arr:  heightmap array\n",
    "    :param pos:  (y, x) co-ordinate in array\n",
    "    \"\"\"\n",
    "    posy, posx = pos\n",
    "    ymax, xmax = arr.shape\n",
    "    \n",
    "    return ((y, x) for (y, x) in\n",
    "            [(posy + 1, posx), (posy - 1, posx),\n",
    "             (posy, posx - 1), (posy, posx + 1)]\n",
    "            if (ymax > y >= 0 and xmax > x >= 0))\n",
    "    \n",
    "def get_neighbourvals(arr: np.array, pos: Tuple[int, int]) -> Generator:\n",
    "    \"\"\"Returns generator of neighbouring values to position in array\n",
    "    \n",
    "    :param arr:  heightmap array\n",
    "    :param pos:  (y, x) co-ordinate in array    \n",
    "    \"\"\"\n",
    "    return (arr[posy, posx] for (posy, posx) in get_neighbours(arr, pos))\n",
    "\n",
    "def is_min(arr: np.array, pos: Tuple[int, int]) -> bool:\n",
    "    \"\"\"Returns True if position is a minimum value wrt neighbours\n",
    "    \n",
    "    :param arr:  heightmap array\n",
    "    :param pos:  (y, x) co-ordinate in array    \n",
    "    \"\"\"\n",
    "    return arr[pos[0], pos[1]] < min(get_neighbourvals(arr, pos))\n",
    "\n",
    "def get_min_mask(arr: np.array) -> np.array:\n",
    "    \"\"\"Returns a Boolean mask of minimum values in array\n",
    "    \n",
    "    :param arr:  heightmap array\n",
    "    \n",
    "    Values are true where the element is a minimum\n",
    "    \"\"\"\n",
    "    mask = []\n",
    "    for posy in range(arr.shape[0]):\n",
    "        row = []\n",
    "        for posx in range(arr.shape[1]):\n",
    "            pos = (posy, posx)\n",
    "            row.append(is_min(arr, pos))\n",
    "        mask.append(row)\n",
    "    return np.array(mask)"
   ]
  },
  {
   "cell_type": "markdown",
   "id": "fb5f7b38",
   "metadata": {},
   "source": [
    "With the test data:"
   ]
  },
  {
   "cell_type": "code",
   "execution_count": 4,
   "id": "7eb96fa0",
   "metadata": {},
   "outputs": [
    {
     "data": {
      "text/plain": [
       "15"
      ]
     },
     "execution_count": 4,
     "metadata": {},
     "output_type": "execute_result"
    }
   ],
   "source": [
    "data = load_input(testpath)\n",
    "mask = get_min_mask(data)\n",
    "sum(data[mask] + 1)  # Sum (value + 1) for each True location in the mask"
   ]
  },
  {
   "cell_type": "markdown",
   "id": "6cdfea86",
   "metadata": {},
   "source": [
    "And with the puzzle data:"
   ]
  },
  {
   "cell_type": "code",
   "execution_count": 5,
   "id": "45e10596",
   "metadata": {},
   "outputs": [
    {
     "data": {
      "text/plain": [
       "558"
      ]
     },
     "execution_count": 5,
     "metadata": {},
     "output_type": "execute_result"
    }
   ],
   "source": [
    "data = load_input(datapath)\n",
    "mask = get_min_mask(data)\n",
    "sum(data[mask] + 1)  # Sum (value + 1) for each True location in the mask"
   ]
  },
  {
   "cell_type": "markdown",
   "id": "42b66407",
   "metadata": {},
   "source": [
    "## Puzzle 2:\n",
    "\n",
    "Next, you need to find the largest basins so you know what areas are most important to avoid.\n",
    "\n",
    "A basin is all locations that eventually flow downward to a single low point. Therefore, every low point has a basin, although some basins are very small. Locations of height 9 do not count as being in any basin, and all other locations will always be part of exactly one basin.\n",
    "\n",
    "The size of a basin is the number of locations within the basin, including the low point. The example above has four basins.\n",
    "\n",
    "The top-left basin, size 3:\n",
    "\n",
    "```text\n",
    "2199943210\n",
    "3987894921\n",
    "9856789892\n",
    "8767896789\n",
    "9899965678\n",
    "```\n",
    "\n",
    "The top-right basin, size 9:\n",
    "\n",
    "```text\n",
    "2199943210\n",
    "3987894921\n",
    "9856789892\n",
    "8767896789\n",
    "9899965678\n",
    "```\n",
    "\n",
    "The middle basin, size 14:\n",
    "\n",
    "```text\n",
    "2199943210\n",
    "3987894921\n",
    "9856789892\n",
    "8767896789\n",
    "9899965678\n",
    "```\n",
    "\n",
    "The bottom-right basin, size 9:\n",
    "\n",
    "```text\n",
    "2199943210\n",
    "3987894921\n",
    "9856789892\n",
    "8767896789\n",
    "9899965678\n",
    "```\n",
    "\n",
    "Find the three largest basins and multiply their sizes together. In the above example, this is 9 * 14 * 9 = 1134.\n",
    "\n",
    "**What do you get if you multiply together the sizes of the three largest basins?**"
   ]
  },
  {
   "cell_type": "markdown",
   "id": "43c0f8ab",
   "metadata": {},
   "source": [
    "Here, we need to identify members of a basin, and then count the number of elements in that basin.\n",
    "\n",
    "First, we calculate each basin by starting at the minimum points we found above, and finding its neighbours. These will either be bounds (with a value of 9), or basin elements (everything else). We hold the basin elements in a stack, popping them off one at a time to check their neighbours; we don't check neighbours we know to be in the candidate stack, already in the basin, or in the known bounds. The stack runs out when we've exhausted all possible basin members and their bounds."
   ]
  },
  {
   "cell_type": "code",
   "execution_count": 6,
   "id": "f280d9fb",
   "metadata": {},
   "outputs": [],
   "source": [
    "def get_basin(arr: np.array, pos: Tuple[int, int]) -> List[Tuple[int, int]]:\n",
    "    \"\"\"Returns list of positions in the basin containing the position\n",
    "\n",
    "    :param arr:  heightmap array\n",
    "    :param pos:  (y, x) co-ordinate in array\n",
    "    \"\"\"\n",
    "    basin = []  # basin positions we've seen\n",
    "    bounds = []  # boundary positions we've seen\n",
    "    candidates = [pos]  # basin positions whose neighbours we need to check\n",
    "    \n",
    "    # When we've exhausted the candidate list, we've seen\n",
    "    # all possible basin elements (and their boundaries)\n",
    "    while len(candidates):\n",
    "        cnd = candidates.pop()  # test next basin element\n",
    "        nbrs = get_neighbours(arr, cnd)\n",
    "        \n",
    "        for nbr in nbrs:\n",
    "            if arr[nbr[0], nbr[1]] == 9:  # is boundary\n",
    "                if nbr not in bounds:  # not already seen\n",
    "                    bounds.append(nbr)  # add to bounds\n",
    "            elif nbr not in basin:  # is unchecked basin element\n",
    "                if nbr not in candidates:  # is not in wait list\n",
    "                    candidates.append(nbr)  # add to wait list\n",
    "        basin.append(cnd)  # add current basin element to checked list\n",
    "\n",
    "    return basin\n",
    "        \n",
    "def get_basin_sizes(arr: np.array) -> List[int]:\n",
    "    \"\"\"Returns sorted list of basin sizes in passed array\n",
    "    \n",
    "    :param arr:  numpy heightmap\n",
    "    \"\"\"\n",
    "    mask = get_min_mask(data)  # mask of minimum heights\n",
    "    \n",
    "    basinvals = []  # holds basin sizes\n",
    "    \n",
    "    # Get the basin elements for each minimum point in the mask,\n",
    "    # count the number of elements, and add that to the list\n",
    "    for (ypos, xpos) in np.transpose(mask.nonzero()):\n",
    "        basinvals.append(len(get_basin(arr, (ypos, xpos))))\n",
    "\n",
    "    return sorted(basinvals, reverse=True)"
   ]
  },
  {
   "cell_type": "markdown",
   "id": "278db3e7",
   "metadata": {},
   "source": [
    "With the test data:"
   ]
  },
  {
   "cell_type": "code",
   "execution_count": 7,
   "id": "4f2e5daa",
   "metadata": {},
   "outputs": [
    {
     "data": {
      "text/plain": [
       "1134"
      ]
     },
     "execution_count": 7,
     "metadata": {},
     "output_type": "execute_result"
    }
   ],
   "source": [
    "data = load_input(testpath)\n",
    "np.prod(get_basin_sizes(data)[:3])  # product of three largest basin sizes"
   ]
  },
  {
   "cell_type": "markdown",
   "id": "5178b3b6",
   "metadata": {},
   "source": [
    "And with the puzzle data:"
   ]
  },
  {
   "cell_type": "code",
   "execution_count": 8,
   "id": "c4c03c90",
   "metadata": {},
   "outputs": [
    {
     "data": {
      "text/plain": [
       "882942"
      ]
     },
     "execution_count": 8,
     "metadata": {},
     "output_type": "execute_result"
    }
   ],
   "source": [
    "data = load_input(datapath)\n",
    "np.prod(get_basin_sizes(data)[:3])  # product of three largest basin sizes"
   ]
  },
  {
   "cell_type": "code",
   "execution_count": null,
   "id": "903d9094",
   "metadata": {},
   "outputs": [],
   "source": []
  }
 ],
 "metadata": {
  "kernelspec": {
   "display_name": "Python 3 (ipykernel)",
   "language": "python",
   "name": "python3"
  },
  "language_info": {
   "codemirror_mode": {
    "name": "ipython",
    "version": 3
   },
   "file_extension": ".py",
   "mimetype": "text/x-python",
   "name": "python",
   "nbconvert_exporter": "python",
   "pygments_lexer": "ipython3",
   "version": "3.10.0"
  }
 },
 "nbformat": 4,
 "nbformat_minor": 5
}
