{
 "cells": [
  {
   "cell_type": "markdown",
   "id": "394261d8",
   "metadata": {},
   "source": [
    "# Day 03: Binary Diagnostic\n",
    "\n",
    "The submarine has been making some odd creaking noises, so you ask it to produce a diagnostic report just in case.\n",
    "\n",
    "The diagnostic report (your puzzle input) consists of a list of binary numbers which, when decoded properly, can tell you many useful things about the conditions of the submarine. The first parameter to check is the power consumption.\n",
    "\n",
    "You need to use the binary numbers in the diagnostic report to generate two new binary numbers (called the gamma rate and the epsilon rate). The power consumption can then be found by multiplying the gamma rate by the epsilon rate.\n",
    "\n",
    "Each bit in the gamma rate can be determined by finding the most common bit in the corresponding position of all numbers in the diagnostic report. For example, given the following diagnostic report:\n",
    "\n",
    "```text\n",
    "00100\n",
    "11110\n",
    "10110\n",
    "10111\n",
    "10101\n",
    "01111\n",
    "00111\n",
    "11100\n",
    "10000\n",
    "11001\n",
    "00010\n",
    "01010\n",
    "```\n",
    "\n",
    "Considering only the first bit of each number, there are five 0 bits and seven 1 bits. Since the most common bit is 1, the first bit of the gamma rate is 1.\n",
    "\n",
    "The most common second bit of the numbers in the diagnostic report is 0, so the second bit of the gamma rate is 0.\n",
    "\n",
    "The most common value of the third, fourth, and fifth bits are 1, 1, and 0, respectively, and so the final three bits of the gamma rate are 110.\n",
    "\n",
    "So, the gamma rate is the binary number `10110`, or 22 in decimal.\n",
    "\n",
    "The epsilon rate is calculated in a similar way; rather than use the most common bit, the least common bit from each position is used. So, the epsilon rate is `01001`, or 9 in decimal. Multiplying the gamma rate (22) by the epsilon rate (9) produces the power consumption, 198.\n",
    "\n",
    "Use the binary numbers in your diagnostic report to calculate the gamma rate and epsilon rate, then multiply them together. **What is the power consumption of the submarine? (Be sure to represent your answer in decimal, not binary.)**"
   ]
  },
  {
   "cell_type": "markdown",
   "id": "944f32f8",
   "metadata": {},
   "source": [
    "For these kinds of problems, which start from an array of numbers, it can be useful to take advantage of `numpy`'s features."
   ]
  },
  {
   "cell_type": "code",
   "execution_count": 1,
   "id": "f2bc2841",
   "metadata": {},
   "outputs": [],
   "source": [
    "# Python imports\n",
    "from pathlib import Path\n",
    "\n",
    "import numpy as np\n",
    "\n",
    "# Paths to data\n",
    "testpath = Path(\"day03_test.txt\")\n",
    "datapath = Path(\"day03_data.txt\")"
   ]
  },
  {
   "cell_type": "markdown",
   "id": "f9da17ee",
   "metadata": {},
   "source": [
    "So, for our input-loading function, we parse the data into a `numpy` array with one 0/1 value per cell."
   ]
  },
  {
   "cell_type": "code",
   "execution_count": 2,
   "id": "47c175e5",
   "metadata": {},
   "outputs": [],
   "source": [
    "def load_input(fpath: Path):\n",
    "    \"\"\"Return puzzle data as numpy array with one 0/1 value per cell\n",
    "    \n",
    "    :param fpath:  Path to data file\n",
    "    \"\"\"\n",
    "    arr = []\n",
    "    \n",
    "    with fpath.open(\"r\") as ifh:\n",
    "        for line in [_.strip() for _ in ifh.readlines() if len(_.strip())]:\n",
    "            arr.append([int(_) for _ in list(line)])\n",
    "    \n",
    "    return np.array(arr)"
   ]
  },
  {
   "cell_type": "markdown",
   "id": "c45cd426",
   "metadata": {},
   "source": [
    "For convenience, we wrap finding gamma and epsilon values as functions, and do the same for power function"
   ]
  },
  {
   "cell_type": "code",
   "execution_count": 3,
   "id": "e193571d",
   "metadata": {},
   "outputs": [],
   "source": [
    "def gamma(data: np.array) -> int:\n",
    "    \"\"\"Return gamma value\n",
    "    \n",
    "    :param data:  numpy array\n",
    "    \n",
    "    Gamma here is the integer representation of the binary digit\n",
    "    formed by taking the most common value in each column.\n",
    "    \"\"\"\n",
    "    nrows, ncols = data.shape\n",
    "    counts = sum(data)\n",
    "\n",
    "    return int(''.join([\"1\" if (_ > nrows/2) else \"0\" for _ in counts]), 2)\n",
    "\n",
    "def epsilon(data: np.array) -> int:\n",
    "    \"\"\"Return epsilon value\n",
    "    \n",
    "    :param data:  numpy array\n",
    "    \n",
    "    Epsilon here is the integer representation of the binary digit\n",
    "    formed by taking the least common value in each column.\n",
    "    \"\"\"\n",
    "    nrows, ncols = data.shape\n",
    "    counts = sum(data)\n",
    "    \n",
    "    return int(''.join([\"0\" if (_ > nrows/2) else \"1\" for _ in counts]), 2)\n",
    "\n",
    "def power_function(data: np.array) -> int:\n",
    "    \"\"\"Return power function\n",
    "    \n",
    "    :param data:  numpy array\n",
    "    \n",
    "    The power function is the product of gamma and epsilon values\n",
    "    for the passed data\n",
    "    \"\"\"\n",
    "    return gamma(data) * epsilon(data)"
   ]
  },
  {
   "cell_type": "markdown",
   "id": "dfd4a42c",
   "metadata": {},
   "source": [
    "Solving for the test data:"
   ]
  },
  {
   "cell_type": "code",
   "execution_count": 4,
   "id": "0a17fa12",
   "metadata": {},
   "outputs": [
    {
     "data": {
      "text/plain": [
       "198"
      ]
     },
     "execution_count": 4,
     "metadata": {},
     "output_type": "execute_result"
    }
   ],
   "source": [
    "power_function(load_input(testpath))"
   ]
  },
  {
   "cell_type": "code",
   "execution_count": 5,
   "id": "c6cae3a9",
   "metadata": {},
   "outputs": [
    {
     "data": {
      "text/plain": [
       "2250414"
      ]
     },
     "execution_count": 5,
     "metadata": {},
     "output_type": "execute_result"
    }
   ],
   "source": [
    "power_function(load_input(datapath))"
   ]
  },
  {
   "cell_type": "markdown",
   "id": "891c4952",
   "metadata": {},
   "source": [
    "## Puzzle 2:\n",
    "\n",
    "Next, you should verify the life support rating, which can be determined by multiplying the oxygen generator rating by the CO2 scrubber rating.\n",
    "\n",
    "Both the oxygen generator rating and the CO2 scrubber rating are values that can be found in your diagnostic report - finding them is the tricky part. Both values are located using a similar process that involves filtering out values until only one remains. Before searching for either rating value, start with the full list of binary numbers from your diagnostic report and consider just the first bit of those numbers. Then:\n",
    "\n",
    "- Keep only numbers selected by the bit criteria for the type of rating value for which you are searching. Discard numbers which do not match the bit criteria.\n",
    "- If you only have one number left, stop; this is the rating value for which you are searching.\n",
    "    Otherwise, repeat the process, considering the next bit to the right.\n",
    "\n",
    "The bit criteria depends on which type of rating value you want to find:\n",
    "\n",
    "- To find oxygen generator rating, determine the most common value (0 or 1) in the current bit position, and keep only numbers with that bit in that position. If 0 and 1 are equally common, keep values with a 1 in the position being considered.\n",
    "- To find CO2 scrubber rating, determine the least common value (0 or 1) in the current bit position, and keep only numbers with that bit in that position. If 0 and 1 are equally common, keep values with a 0 in the position being considered.\n",
    "\n",
    "For example, to determine the oxygen generator rating value using the same example diagnostic report from above:\n",
    "\n",
    "- Start with all 12 numbers and consider only the first bit of each number. There are more 1 bits (7) than 0 bits (5), so keep only the 7 numbers with a 1 in the first position: 11110, 10110, 10111, 10101, 11100, 10000, and 11001.\n",
    "- Then, consider the second bit of the 7 remaining numbers: there are more 0 bits (4) than 1 bits (3), so keep only the 4 numbers with a 0 in the second position: 10110, 10111, 10101, and 10000.\n",
    "- In the third position, three of the four numbers have a 1, so keep those three: 10110, 10111, and 10101.\n",
    "- In the fourth position, two of the three numbers have a 1, so keep those two: 10110 and 10111.\n",
    "- In the fifth position, there are an equal number of 0 bits and 1 bits (one each). So, to find the oxygen generator rating, keep the number with a 1 in that position: 10111.\n",
    "- As there is only one number left, stop; the oxygen generator rating is 10111, or 23 in decimal.\n",
    "\n",
    "Then, to determine the CO2 scrubber rating value from the same example above:\n",
    "\n",
    "- Start again with all 12 numbers and consider only the first bit of each number. There are fewer 0 bits (5) than 1 bits (7), so keep only the 5 numbers with a 0 in the first position: 00100, 01111, 00111, 00010, and 01010.\n",
    "- Then, consider the second bit of the 5 remaining numbers: there are fewer 1 bits (2) than 0 bits (3), so keep only the 2 numbers with a 1 in the second position: 01111 and 01010.\n",
    "- In the third position, there are an equal number of 0 bits and 1 bits (one each). So, to find the CO2 scrubber rating, keep the number with a 0 in that position: 01010.\n",
    "- As there is only one number left, stop; the CO2 scrubber rating is 01010, or 10 in decimal.\n",
    "\n",
    "Finally, to find the life support rating, multiply the oxygen generator rating (23) by the CO2 scrubber rating (10) to get 230.\n",
    "\n",
    "Use the binary numbers in your diagnostic report to calculate the oxygen generator rating and CO2 scrubber rating, then multiply them together. **What is the life support rating of the submarine? (Be sure to represent your answer in decimal, not binary.)**"
   ]
  },
  {
   "cell_type": "markdown",
   "id": "d6f42920",
   "metadata": {},
   "source": [
    "As before, we write functions to calculate each of the oxygen and CO2 scrubber values, and their combined life support rating."
   ]
  },
  {
   "cell_type": "code",
   "execution_count": 6,
   "id": "399a68cd",
   "metadata": {},
   "outputs": [],
   "source": [
    "def oxygen(data: np.array) -> int:\n",
    "    \"\"\"Return oxygen generator rating for data\n",
    "    \n",
    "    :param data:  numpy array\n",
    "    \n",
    "    The returned rating is the last filtered row of the array, after\n",
    "    excluding rows with the least common value for their column,\n",
    "    in order.\n",
    "    \"\"\"\n",
    "    nrows, ncols = data.shape\n",
    "    \n",
    "    for idx in range(ncols):  # iterate over columns in the array\n",
    "        col = data[:, idx]\n",
    "\n",
    "        # find most common value in current column\n",
    "        if sum(col) >= len(col) / 2:\n",
    "            mcv = 1\n",
    "        else:\n",
    "            mcv = 0\n",
    "\n",
    "        # Exclude from the array all rows where the current\n",
    "        # column contains the least common value\n",
    "        newarray = np.delete(data, np.where(data[:, idx] != mcv)[0], axis=0)\n",
    "        \n",
    "        # Either update the array or, if there would not be\n",
    "        # any rows, break out of the loop\n",
    "        if len(newarray):\n",
    "            data = newarray\n",
    "        else:\n",
    "            break\n",
    "    \n",
    "    # Return the binary representation of the remaining row\n",
    "    # as an integer\n",
    "    return int(''.join([str(_) for _ in data[0].tolist()]), 2)\n",
    "\n",
    "def co2(data: np.array) -> int:\n",
    "    \"\"\"Return CO2 scrubber rating for data\n",
    "    \n",
    "    :param data:  numpy array\n",
    "    \n",
    "    The returned rating is the last filtered row of the array, after\n",
    "    excluding rows with the most common value for their column,\n",
    "    in order.\n",
    "    \"\"\"\n",
    "    nrows, ncols = data.shape\n",
    "    \n",
    "    for idx in range(ncols):  # iterate over columns in the array\n",
    "        col = data[:, idx]\n",
    "\n",
    "        # find least common value in current column\n",
    "        if sum(col) < len(col) / 2:\n",
    "            lcv = 1\n",
    "        else:\n",
    "            lcv = 0\n",
    "\n",
    "        # Exclude from the array all rows where the current\n",
    "        # column contains the most common value\n",
    "        newarray = np.delete(data, np.where(data[:, idx] != lcv)[0], axis=0)\n",
    "        \n",
    "        # Either update the array or, if there would not be\n",
    "        # any rows, break out of the loop\n",
    "        if len(newarray):\n",
    "            data = newarray\n",
    "        else:\n",
    "            break\n",
    "    \n",
    "    # Return the binary representation of the remaining row\n",
    "    # as an integer\n",
    "    return int(''.join([str(_) for _ in data[0].tolist()]), 2)\n",
    "\n",
    "def life_support(data: np.array) -> int:\n",
    "    \"\"\"Return life support function\n",
    "    \n",
    "    :param data:  numpy array\n",
    "    \n",
    "    The life support function is the product of oxygen and CO2\n",
    "    scrubber ratings for the passed data\n",
    "    \"\"\"\n",
    "    return oxygen(data) * co2(data)"
   ]
  },
  {
   "cell_type": "markdown",
   "id": "4a138e73",
   "metadata": {},
   "source": [
    "Solving for the test data:"
   ]
  },
  {
   "cell_type": "code",
   "execution_count": 7,
   "id": "199f09af",
   "metadata": {},
   "outputs": [
    {
     "data": {
      "text/plain": [
       "230"
      ]
     },
     "execution_count": 7,
     "metadata": {},
     "output_type": "execute_result"
    }
   ],
   "source": [
    "life_support(load_input(testpath))"
   ]
  },
  {
   "cell_type": "markdown",
   "id": "725fbdcf",
   "metadata": {},
   "source": [
    "And for the puzzle data:"
   ]
  },
  {
   "cell_type": "code",
   "execution_count": 8,
   "id": "f01aef86",
   "metadata": {},
   "outputs": [
    {
     "data": {
      "text/plain": [
       "6085575"
      ]
     },
     "execution_count": 8,
     "metadata": {},
     "output_type": "execute_result"
    }
   ],
   "source": [
    "life_support(load_input(datapath))"
   ]
  },
  {
   "cell_type": "code",
   "execution_count": null,
   "id": "adbdff7a",
   "metadata": {},
   "outputs": [],
   "source": []
  }
 ],
 "metadata": {
  "kernelspec": {
   "display_name": "Python 3 (ipykernel)",
   "language": "python",
   "name": "python3"
  },
  "language_info": {
   "codemirror_mode": {
    "name": "ipython",
    "version": 3
   },
   "file_extension": ".py",
   "mimetype": "text/x-python",
   "name": "python",
   "nbconvert_exporter": "python",
   "pygments_lexer": "ipython3",
   "version": "3.10.0"
  }
 },
 "nbformat": 4,
 "nbformat_minor": 5
}
