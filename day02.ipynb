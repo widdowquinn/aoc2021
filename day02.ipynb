{
 "cells": [
  {
   "cell_type": "markdown",
   "id": "6a6575e5",
   "metadata": {},
   "source": [
    "# Day 02: Dive!\n",
    "\n",
    "Now, you need to figure out how to pilot this thing.\n",
    "\n",
    "It seems like the submarine can take a series of commands like forward 1, down 2, or up 3:\n",
    "\n",
    "    forward X increases the horizontal position by X units.\n",
    "    down X increases the depth by X units.\n",
    "    up X decreases the depth by X units.\n",
    "\n",
    "Note that since you're on a submarine, down and up affect your depth, and so they have the opposite result of what you might expect.\n",
    "\n",
    "The submarine seems to already have a planned course (your puzzle input). You should probably figure out where it's going. For example:\n",
    "\n",
    "```text\n",
    "forward 5\n",
    "down 5\n",
    "forward 8\n",
    "up 3\n",
    "down 8\n",
    "forward 2\n",
    "```\n",
    "\n",
    "Your horizontal position and depth both start at 0. The steps above would then modify them as follows:\n",
    "\n",
    "    forward 5 adds 5 to your horizontal position, a total of 5.\n",
    "    down 5 adds 5 to your depth, resulting in a value of 5.\n",
    "    forward 8 adds 8 to your horizontal position, a total of 13.\n",
    "    up 3 decreases your depth by 3, resulting in a value of 2.\n",
    "    down 8 adds 8 to your depth, resulting in a value of 10.\n",
    "    forward 2 adds 2 to your horizontal position, a total of 15.\n",
    "\n",
    "After following these instructions, you would have a horizontal position of 15 and a depth of 10. (Multiplying these together produces 150.)\n",
    "\n",
    "Calculate the horizontal position and depth you would have after following the planned course. **What do you get if you multiply your final horizontal position by your final depth?**"
   ]
  },
  {
   "cell_type": "code",
   "execution_count": 1,
   "id": "276ababf",
   "metadata": {},
   "outputs": [],
   "source": [
    "# Python imports\n",
    "from pathlib import Path\n",
    "from typing import Iterable, List\n",
    "\n",
    "# Paths to data\n",
    "testpath = Path(\"day02_test.txt\")\n",
    "datapath = Path(\"day02_data.txt\")"
   ]
  },
  {
   "cell_type": "code",
   "execution_count": 2,
   "id": "d88cd2ac",
   "metadata": {},
   "outputs": [],
   "source": [
    "def load_input(fpath: Path) -> List[str]:\n",
    "    \"\"\"Return puzzle data as list of strings\n",
    "    \n",
    "    :param fpath:  Path to data file\n",
    "    \"\"\"\n",
    "    with fpath.open(\"r\") as ifh:\n",
    "        return ifh.readlines()"
   ]
  },
  {
   "cell_type": "markdown",
   "id": "be53fc39",
   "metadata": {},
   "source": [
    "As in previous years, we take an object-oriented approach to the puzzle, creating a class that represents the submarine, having `depth` and `position` attributes, and being able to move when instructed."
   ]
  },
  {
   "cell_type": "code",
   "execution_count": 3,
   "id": "ea6a729e",
   "metadata": {},
   "outputs": [],
   "source": [
    "class Submarine1:\n",
    "    \n",
    "    \"\"\"Represents a submarine for AOC2021 day 2, puzzle 1\"\"\"\n",
    "    \n",
    "    depth:int = 0\n",
    "    pos:int = 0\n",
    "    \n",
    "    def __init__(self, depth:int=0, pos:int=0) -> None:\n",
    "        \"\"\"Instantiate submarine with initial depth and position\n",
    "        \n",
    "        :param depth:  submarine depth\n",
    "        :param pos: submarine position\n",
    "        \"\"\"\n",
    "        \n",
    "        self.depth = depth\n",
    "        self.pos = pos\n",
    "        \n",
    "    def move(self, instr:str) -> None:\n",
    "        \"\"\"Given an instruction string, move the submarine\n",
    "        \n",
    "        :param instr:  movement instruction\n",
    "        \"\"\"\n",
    "        drn, val = instr.strip().split()\n",
    "        if drn == \"forward\":\n",
    "            self.pos += int(val)\n",
    "        elif drn == \"up\":\n",
    "            self.depth -= int(val)\n",
    "        elif drn == \"down\":\n",
    "            self.depth += int(val)\n",
    "            \n",
    "    def parse(self, instrs: Iterable[str]) -> None:\n",
    "        \"\"\"Given a list of instruction strings, move the submarine\n",
    "        \n",
    "        :param instrs:  iterable of instruction strings\n",
    "        \"\"\"\n",
    "        for line in (_ for _ in instrs if len(_)):\n",
    "            self.move(line)\n",
    "        \n",
    "    @property\n",
    "    def location(self) -> int:\n",
    "        \"\"\"Return location of submarine for puzzle solution\"\"\"\n",
    "        return sub.pos * sub.depth"
   ]
  },
  {
   "cell_type": "markdown",
   "id": "b3c842fb",
   "metadata": {},
   "source": [
    "Solving the test puzzle."
   ]
  },
  {
   "cell_type": "code",
   "execution_count": 4,
   "id": "463a5e66",
   "metadata": {},
   "outputs": [
    {
     "name": "stdout",
     "output_type": "stream",
     "text": [
      "150\n"
     ]
    }
   ],
   "source": [
    "# load data\n",
    "data = load_input(Path(\"day02_test.txt\"))\n",
    "\n",
    "# move submarine\n",
    "sub = Submarine1()\n",
    "sub.parse(data)\n",
    "\n",
    "# report location\n",
    "print(sub.location)"
   ]
  },
  {
   "cell_type": "markdown",
   "id": "20f3fdfc",
   "metadata": {},
   "source": [
    "And the full puzzle."
   ]
  },
  {
   "cell_type": "code",
   "execution_count": 5,
   "id": "0145db85",
   "metadata": {},
   "outputs": [
    {
     "name": "stdout",
     "output_type": "stream",
     "text": [
      "1670340\n"
     ]
    }
   ],
   "source": [
    "# load data\n",
    "data = load_input(Path(\"day02_data.txt\"))\n",
    "\n",
    "# move submarine\n",
    "sub = Submarine1()\n",
    "sub.parse(data)\n",
    "\n",
    "# report location\n",
    "print(sub.location)"
   ]
  },
  {
   "cell_type": "markdown",
   "id": "e64c51c0",
   "metadata": {},
   "source": [
    "## Puzzle 2\n",
    "\n",
    "Based on your calculations, the planned course doesn't seem to make any sense. You find the submarine manual and discover that the process is actually slightly more complicated.\n",
    "\n",
    "In addition to horizontal position and depth, you'll also need to track a third value, aim, which also starts at 0. The commands also mean something entirely different than you first thought:\n",
    "\n",
    "    down X increases your aim by X units.\n",
    "    up X decreases your aim by X units.\n",
    "    forward X does two things:\n",
    "        It increases your horizontal position by X units.\n",
    "        It increases your depth by your aim multiplied by X.\n",
    "\n",
    "Again note that since you're on a submarine, down and up do the opposite of what you might expect: \"down\" means aiming in the positive direction.\n",
    "\n",
    "Now, the above example does something different:\n",
    "\n",
    "    forward 5 adds 5 to your horizontal position, a total of 5. Because your aim is 0, your depth does not change.\n",
    "    down 5 adds 5 to your aim, resulting in a value of 5.\n",
    "    forward 8 adds 8 to your horizontal position, a total of 13. Because your aim is 5, your depth increases by 8*5=40.\n",
    "    up 3 decreases your aim by 3, resulting in a value of 2.\n",
    "    down 8 adds 8 to your aim, resulting in a value of 10.\n",
    "    forward 2 adds 2 to your horizontal position, a total of 15. Because your aim is 10, your depth increases by 2*10=20 to a total of 60.\n",
    "\n",
    "After following these new instructions, you would have a horizontal position of 15 and a depth of 60. (Multiplying these produces 900.)\n",
    "\n",
    "Using this new interpretation of the commands, calculate the horizontal position and depth you would have after following the planned course. **What do you get if you multiply your final horizontal position by your final depth?**"
   ]
  },
  {
   "cell_type": "markdown",
   "id": "2335e037",
   "metadata": {},
   "source": [
    "As is often the case, we need to make a critical change to our solution class - for convenience we create a new class."
   ]
  },
  {
   "cell_type": "code",
   "execution_count": 6,
   "id": "b0c50612",
   "metadata": {},
   "outputs": [],
   "source": [
    "class Submarine2:\n",
    "    \n",
    "    \"\"\"Represents a submarine for AOC2021 day 2, puzzle 2\"\"\"\n",
    "    \n",
    "    depth:int = 0\n",
    "    pos:int = 0\n",
    "    aim:int = 0\n",
    "    \n",
    "    def __init__(self, depth:int=0, pos:int=0, aim:int=0) -> None:\n",
    "        \"\"\"Instantiate submarine with initial depth and position\n",
    "        \n",
    "        :param depth:  submarine depth\n",
    "        :param pos: submarine position\n",
    "        :param aim: submarine aim\n",
    "        \"\"\"\n",
    "        \n",
    "        self.depth = depth\n",
    "        self.pos = pos\n",
    "        self.aim = aim\n",
    "        \n",
    "    def move(self, instr:str) -> None:\n",
    "        \"\"\"Given an instruction string, move the submarine\n",
    "        \n",
    "        :param instr:  movement instruction\n",
    "        \"\"\"\n",
    "        drn, val = instr.strip().split()\n",
    "        if drn == \"forward\":\n",
    "            self.pos += int(val)\n",
    "            self.depth += self.aim * int(val)\n",
    "        elif drn == \"up\":\n",
    "            self.aim -= int(val)\n",
    "        elif drn == \"down\":\n",
    "            self.aim += int(val)\n",
    "            \n",
    "    def parse(self, instrs: Iterable[str]) -> None:\n",
    "        \"\"\"Given a list of instruction strings, move the submarine\n",
    "        \n",
    "        :param instrs:  iterable of instruction strings\n",
    "        \"\"\"\n",
    "        for line in (_ for _ in instrs if len(_)):\n",
    "            self.move(line)\n",
    "        \n",
    "    @property\n",
    "    def location(self) -> int:\n",
    "        \"\"\"Return location of submarine for puzzle solution\"\"\"\n",
    "        return sub.pos * sub.depth"
   ]
  },
  {
   "cell_type": "markdown",
   "id": "a197a8ce",
   "metadata": {},
   "source": [
    "With the test data."
   ]
  },
  {
   "cell_type": "code",
   "execution_count": 7,
   "id": "708bd7a7",
   "metadata": {},
   "outputs": [
    {
     "name": "stdout",
     "output_type": "stream",
     "text": [
      "900\n"
     ]
    }
   ],
   "source": [
    "# load data\n",
    "data = load_input(Path(\"day02_test.txt\"))\n",
    "\n",
    "# move submarine\n",
    "sub = Submarine2()\n",
    "sub.parse(data)\n",
    "\n",
    "# report location\n",
    "print(sub.location)"
   ]
  },
  {
   "cell_type": "markdown",
   "id": "ed547dfe",
   "metadata": {},
   "source": [
    "And with the full data."
   ]
  },
  {
   "cell_type": "code",
   "execution_count": 8,
   "id": "8ef6c6ab",
   "metadata": {},
   "outputs": [
    {
     "name": "stdout",
     "output_type": "stream",
     "text": [
      "1954293920\n"
     ]
    }
   ],
   "source": [
    "# load data\n",
    "data = load_input(Path(\"day02_data.txt\"))\n",
    "\n",
    "# move submarine\n",
    "sub = Submarine2()\n",
    "sub.parse(data)\n",
    "\n",
    "# report location\n",
    "print(sub.location)"
   ]
  },
  {
   "cell_type": "code",
   "execution_count": null,
   "id": "58fcf998",
   "metadata": {},
   "outputs": [],
   "source": []
  }
 ],
 "metadata": {
  "kernelspec": {
   "display_name": "Python 3 (ipykernel)",
   "language": "python",
   "name": "python3"
  },
  "language_info": {
   "codemirror_mode": {
    "name": "ipython",
    "version": 3
   },
   "file_extension": ".py",
   "mimetype": "text/x-python",
   "name": "python",
   "nbconvert_exporter": "python",
   "pygments_lexer": "ipython3",
   "version": "3.10.0"
  }
 },
 "nbformat": 4,
 "nbformat_minor": 5
}
