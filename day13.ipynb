{
 "cells": [
  {
   "cell_type": "markdown",
   "id": "86df39d7",
   "metadata": {},
   "source": [
    "# Day 13: Transparent Origami\n",
    "\n",
    "You reach another volcanically active part of the cave. It would be nice if you could do some kind of thermal imaging so you could tell ahead of time which caves are too hot to safely enter.\n",
    "\n",
    "Fortunately, the submarine seems to be equipped with a thermal camera! When you activate it, you are greeted with:\n",
    "\n",
    "Congratulations on your purchase! To activate this infrared thermal imaging\n",
    "camera system, please enter the code found on page 1 of the manual.\n",
    "\n",
    "Apparently, the Elves have never used this feature. To your surprise, you manage to find the manual; as you go to open it, page 1 falls out. It's a large sheet of transparent paper! The transparent paper is marked with random dots and includes instructions on how to fold it up (your puzzle input). For example:\n",
    "\n",
    "```text\n",
    "6,10\n",
    "0,14\n",
    "9,10\n",
    "0,3\n",
    "10,4\n",
    "4,11\n",
    "6,0\n",
    "6,12\n",
    "4,1\n",
    "0,13\n",
    "10,12\n",
    "3,4\n",
    "3,0\n",
    "8,4\n",
    "1,10\n",
    "2,14\n",
    "8,10\n",
    "9,0\n",
    "\n",
    "fold along y=7\n",
    "fold along x=5\n",
    "```\n",
    "\n",
    "The first section is a list of dots on the transparent paper. `0,0` represents the top-left coordinate. The first value, `x`, increases to the right. The second value, `y`, increases downward. So, the coordinate `3,0` is to the right of `0,0`, and the coordinate `0,7` is below `0,0`. The coordinates in this example form the following pattern, where # is a dot on the paper and . is an empty, unmarked position:\n",
    "\n",
    "```text\n",
    "...#..#..#.\n",
    "....#......\n",
    "...........\n",
    "#..........\n",
    "...#....#.#\n",
    "...........\n",
    "...........\n",
    "...........\n",
    "...........\n",
    "...........\n",
    ".#....#.##.\n",
    "....#......\n",
    "......#...#\n",
    "#..........\n",
    "#.#........\n",
    "```\n",
    "\n",
    "Then, there is a list of fold instructions. Each instruction indicates a line on the transparent paper and wants you to fold the paper up (for horizontal y=... lines) or left (for vertical x=... lines). In this example, the first fold instruction is fold along `y=7`, which designates the line formed by all of the positions where `y` is 7 (marked here with -):\n",
    "\n",
    "```text\n",
    "...#..#..#.\n",
    "....#......\n",
    "...........\n",
    "#..........\n",
    "...#....#.#\n",
    "...........\n",
    "...........\n",
    "-----------\n",
    "...........\n",
    "...........\n",
    ".#....#.##.\n",
    "....#......\n",
    "......#...#\n",
    "#..........\n",
    "#.#........\n",
    "```\n",
    "\n",
    "Because this is a horizontal line, fold the bottom half up. Some of the dots might end up overlapping after the fold is complete, but dots will never appear exactly on a fold line. The result of doing this fold looks like this:\n",
    "\n",
    "```text\n",
    "#.##..#..#.\n",
    "#...#......\n",
    "......#...#\n",
    "#...#......\n",
    ".#.#..#.###\n",
    "...........\n",
    "...........\n",
    "```\n",
    "\n",
    "Now, only 17 dots are visible.\n",
    "\n",
    "Notice, for example, the two dots in the bottom left corner before the transparent paper is folded; after the fold is complete, those dots appear in the top left corner (at 0,0 and 0,1). Because the paper is transparent, the dot just below them in the result (at 0,3) remains visible, as it can be seen through the transparent paper.\n",
    "\n",
    "Also notice that some dots can end up overlapping; in this case, the dots merge together and become a single dot.\n",
    "\n",
    "The second fold instruction is fold along x=5, which indicates this line:\n",
    "\n",
    "```text\n",
    "#.##.|#..#.\n",
    "#...#|.....\n",
    ".....|#...#\n",
    "#...#|.....\n",
    ".#.#.|#.###\n",
    ".....|.....\n",
    ".....|.....\n",
    "```\n",
    "\n",
    "Because this is a vertical line, fold left:\n",
    "\n",
    "\n",
    "```text\n",
    "#####\n",
    "#...#\n",
    "#...#\n",
    "#...#\n",
    "#####\n",
    ".....\n",
    ".....\n",
    "```\n",
    "\n",
    "The instructions made a square!\n",
    "\n",
    "The transparent paper is pretty big, so for now, focus on just completing the first fold. After the first fold in the example above, 17 dots are visible - dots that end up overlapping after the fold is completed count as a single dot.\n",
    "\n",
    "**How many dots are visible after completing just the first fold instruction on your transparent paper?**"
   ]
  },
  {
   "cell_type": "code",
   "execution_count": 1,
   "id": "71afe628",
   "metadata": {},
   "outputs": [],
   "source": [
    "# Python imports\n",
    "from collections import defaultdict\n",
    "from copy import copy\n",
    "from pathlib import Path\n",
    "from typing import Callable, Dict, Generator, Iterable, List, Set, Tuple\n",
    "\n",
    "import numpy as np\n",
    "\n",
    "# Paths to data\n",
    "testpath = Path(\"day13_test.txt\")\n",
    "datapath = Path(\"day13_data.txt\")"
   ]
  },
  {
   "cell_type": "markdown",
   "id": "5049d751",
   "metadata": {},
   "source": [
    "We need to parse dot locations and fold instructions. As this looks like a natural fit for numpy, we also get the required size of an array that would represent the paper."
   ]
  },
  {
   "cell_type": "code",
   "execution_count": 2,
   "id": "be58111b",
   "metadata": {},
   "outputs": [],
   "source": [
    "def load_input(fpath: Path) -> Tuple[List, List, Tuple]:\n",
    "    \"\"\"Return data as lists of (col, row) values, and fold instructions\n",
    "    \n",
    "    :param fpath:  Path to data file\n",
    "    \"\"\"\n",
    "    with fpath.open(\"r\") as ifh:\n",
    "        dots = []   # dot locations\n",
    "        folds = []  # fold instructions\n",
    "        xmax, ymax = 0, 0\n",
    "        \n",
    "        state = \"dots\"  # switch later from parsing dots to folds \n",
    "        for line in [_.strip() for _ in ifh.readlines()]:\n",
    "            if len(line) == 0:  # switch from parsing dots to folds on a blank line\n",
    "                state = \"folds\"\n",
    "            elif state == \"dots\":  # parse a dot location\n",
    "                pos = tuple([int(_) for _ in line.split(\",\")])\n",
    "                xmax, ymax = max(pos[0], xmax), max(pos[1], ymax)\n",
    "                dots.append(pos)\n",
    "            elif state == \"folds\":  # parse a fold instruction\n",
    "                drn, val = tuple(line.split()[-1].split(\"=\"))\n",
    "                folds.append((drn, int(val)))\n",
    "                \n",
    "        return dots, folds, (xmax + 1, ymax + 1)"
   ]
  },
  {
   "cell_type": "markdown",
   "id": "01e6a58a",
   "metadata": {},
   "source": [
    "As a literal approach to the problem, we can use a `Paper` class that wraps a Boolean numpy array. Then we can use numpy operations on the array, for convenience."
   ]
  },
  {
   "cell_type": "code",
   "execution_count": 3,
   "id": "73ad9848",
   "metadata": {},
   "outputs": [],
   "source": [
    "class Paper():\n",
    "    \n",
    "    def __init__(self, dots: List[Tuple[int, int]], size: Tuple[int, int]) -> None:\n",
    "        \"\"\"Initialise paper with dots\n",
    "        \n",
    "        :param dots:  list of dot locations\n",
    "        :param size:  paper size (x, y coords)\n",
    "        \"\"\"\n",
    "        self._paper = np.zeros(size).astype(bool)  # blank sheet of paper\n",
    "        self.__add_dots(dots)\n",
    "        \n",
    "    def __add_dots(self, dots: List[Tuple[int, int]]) -> None:\n",
    "        \"\"\"Add dots to the paper\n",
    "        \n",
    "        :param dots:  list of dot locations\n",
    "        \"\"\"\n",
    "        # numpy indexes the other way round, so this is the\n",
    "        # transpose of the co-ordinates on paper\n",
    "        for xpos, ypos in dots:\n",
    "            self._paper[xpos, ypos] = True\n",
    "            \n",
    "    def fold(self, fold: Tuple[str, int]) -> None:\n",
    "        \"\"\"Folds the paper in the named direction along the specified row/col:\n",
    "        \n",
    "        :param fold:  fold instruction - (direction, row/col) tuple\n",
    "        \"\"\"\n",
    "        drn, val = fold  # the tuple describes direction (axis) and row/col\n",
    "        \n",
    "        # numpy indexes the other way round, so this is the\n",
    "        # transpose of the co-ordinates on paper\n",
    "        if drn == \"x\":  # horizontal fold (vertical in numpy)\n",
    "            newarray = np.flipud(self._paper[val+1:, :])\n",
    "            self._paper[val - newarray.shape[0]:val, :] += newarray\n",
    "            self._paper = self._paper[:val, :]\n",
    "        else:  # vertical fold (horizontal in numpy)\n",
    "            newarray = np.fliplr(self._paper[:, val+1:])\n",
    "            self._paper[:, val - newarray.shape[1]:val] += newarray\n",
    "            self._paper = self._paper[:, :val]\n",
    "\n",
    "    def __str__(self):\n",
    "        \"\"\"Return paper with dots, as a string\"\"\"\n",
    "        outstr = []\n",
    "        for row in self._paper.T:  # transpose for correct paper orientation\n",
    "            outstr.append(\" \".join([\".\" if not _ else \"#\" for _ in row]))\n",
    "        return \"\\n\".join(outstr) + \"\\n\"\n",
    "    \n",
    "    @property\n",
    "    def shape(self) -> Tuple[int, int]:\n",
    "        \"\"\"Returns size of paper as (rows, cols) of numpy array\n",
    "        \n",
    "        NOTE: this is transposed from x,y in the sense of the puzzle\n",
    "        \"\"\"\n",
    "        return self._paper.shape\n",
    "    \n",
    "    @property\n",
    "    def dotcount(self) -> int:\n",
    "        \"\"\"Returns count of dots on paper\"\"\"\n",
    "        return self._paper.sum()"
   ]
  },
  {
   "cell_type": "markdown",
   "id": "28106ca9",
   "metadata": {},
   "source": [
    "Trying this out on the test data:"
   ]
  },
  {
   "cell_type": "code",
   "execution_count": 4,
   "id": "5ef8190f",
   "metadata": {},
   "outputs": [
    {
     "name": "stdout",
     "output_type": "stream",
     "text": [
      ". . . # . . # . . # .\n",
      ". . . . # . . . . . .\n",
      ". . . . . . . . . . .\n",
      "# . . . . . . . . . .\n",
      ". . . # . . . . # . #\n",
      ". . . . . . . . . . .\n",
      ". . . . . . . . . . .\n",
      ". . . . . . . . . . .\n",
      ". . . . . . . . . . .\n",
      ". . . . . . . . . . .\n",
      ". # . . . . # . # # .\n",
      ". . . . # . . . . . .\n",
      ". . . . . . # . . . #\n",
      "# . . . . . . . . . .\n",
      "# . # . . . . . . . .\n",
      "\n",
      "# # # # #\n",
      "# . . . #\n",
      "# . . . #\n",
      "# . . . #\n",
      "# # # # #\n",
      ". . . . .\n",
      ". . . . .\n",
      " 16\n"
     ]
    }
   ],
   "source": [
    "dots, folds, size = load_input(testpath)\n",
    "paper = Paper(dots, size)\n",
    "print(paper)\n",
    "for fold in folds:\n",
    "    paper.fold(fold)\n",
    "print(paper, paper.dotcount)"
   ]
  },
  {
   "cell_type": "markdown",
   "id": "de782381",
   "metadata": {},
   "source": [
    "Then applying to the puzzle data:"
   ]
  },
  {
   "cell_type": "code",
   "execution_count": 5,
   "id": "abd74d8d",
   "metadata": {},
   "outputs": [
    {
     "data": {
      "text/plain": [
       "706"
      ]
     },
     "execution_count": 5,
     "metadata": {},
     "output_type": "execute_result"
    }
   ],
   "source": [
    "dots, folds, size = load_input(datapath)\n",
    "paper = Paper(dots, size)\n",
    "paper.fold(folds[0])\n",
    "paper.dotcount"
   ]
  },
  {
   "cell_type": "markdown",
   "id": "1bd90511",
   "metadata": {},
   "source": [
    "## Puzzle 2:\n",
    "\n",
    "Finish folding the transparent paper according to the instructions. The manual says the code is always eight capital letters.\n",
    "\n",
    "**What code do you use to activate the infrared thermal imaging camera system?**"
   ]
  },
  {
   "cell_type": "markdown",
   "id": "67ec5dc5",
   "metadata": {},
   "source": [
    "Luckily, the `__str__()` method already answers this for us."
   ]
  },
  {
   "cell_type": "code",
   "execution_count": 6,
   "id": "dccabc40",
   "metadata": {},
   "outputs": [
    {
     "name": "stdout",
     "output_type": "stream",
     "text": [
      "# . . . . # # # . . # # # # . . . # # . # # # . . . . # # . # # # # . # . . # .\n",
      "# . . . . # . . # . # . . . . . . . # . # . . # . . . . # . # . . . . # . . # .\n",
      "# . . . . # . . # . # # # . . . . . # . # # # . . . . . # . # # # . . # # # # .\n",
      "# . . . . # # # . . # . . . . . . . # . # . . # . . . . # . # . . . . # . . # .\n",
      "# . . . . # . # . . # . . . . # . . # . # . . # . # . . # . # . . . . # . . # .\n",
      "# # # # . # . . # . # . . . . . # # . . # # # . . . # # . . # # # # . # . . # .\n",
      "\n"
     ]
    }
   ],
   "source": [
    "dots, folds, size = load_input(datapath)\n",
    "paper = Paper(dots, size)\n",
    "for fold in folds:\n",
    "    paper.fold(fold)\n",
    "print(paper)"
   ]
  },
  {
   "cell_type": "code",
   "execution_count": 7,
   "id": "d80b029c",
   "metadata": {},
   "outputs": [
    {
     "name": "stdout",
     "output_type": "stream",
     "text": [
      "3.91 ms ± 269 µs per loop (mean ± std. dev. of 7 runs, 100 loops each)\n"
     ]
    }
   ],
   "source": [
    "%%timeit\n",
    "dots, folds, size = load_input(datapath)\n",
    "paper = Paper(dots, size)\n",
    "for fold in folds:\n",
    "    paper.fold(fold)"
   ]
  },
  {
   "cell_type": "markdown",
   "id": "1259de34",
   "metadata": {},
   "source": [
    "and the code is `LRFJBJEH`"
   ]
  },
  {
   "cell_type": "markdown",
   "id": "6fd00d23",
   "metadata": {},
   "source": [
    "## Alternative approach\n",
    "\n",
    "The `numpy` array is fine, and intuitive enough, but we don't need an array if we recognise that this is essentially a mapping problem for individual points.\n",
    "\n",
    "We can load the dots into a set, and then modify the x/y values of set members as necessary. This may be faster than the `numpy` solution."
   ]
  },
  {
   "cell_type": "code",
   "execution_count": 8,
   "id": "6ac93200",
   "metadata": {},
   "outputs": [],
   "source": [
    "def fold(dots: Set[Tuple[int, int]], fold: Tuple[str, int]) -> Set[Tuple[int, int]]:\n",
    "    \"\"\"Returns the set of dot positions, after folding\n",
    "    \n",
    "    :param dots:  set of dots on paper\n",
    "    :param fold:  fold instructions (direction/axis and row/col)\n",
    "    \"\"\"\n",
    "    drn, val = fold\n",
    "    newdots = set()  # dot positions after folding\n",
    "\n",
    "    if drn == \"x\":  # fold in x direction\n",
    "        for dot in dots:  # map dots to new locations\n",
    "            if dot[0] < val:\n",
    "                newdots.add(dot)\n",
    "            elif dot[0] > val:\n",
    "                newdots.add((val - (dot[0] - val), dot[1]))\n",
    "    else:  # fold in y direction\n",
    "        for dot in dots:  # map dots to new locations\n",
    "            if dot[1] < val:\n",
    "                newdots.add(dot)\n",
    "            elif dot[1] > val:\n",
    "                newdots.add((dot[0], val - (dot[1] - val)))\n",
    "                \n",
    "    return newdots"
   ]
  },
  {
   "cell_type": "markdown",
   "id": "c5278be0",
   "metadata": {},
   "source": [
    "Check on the test data:"
   ]
  },
  {
   "cell_type": "code",
   "execution_count": 9,
   "id": "29a50a2c",
   "metadata": {},
   "outputs": [
    {
     "name": "stdout",
     "output_type": "stream",
     "text": [
      "16\n"
     ]
    }
   ],
   "source": [
    "dots, folds, size = load_input(testpath)\n",
    "dots = set(dots)\n",
    "for _ in folds:\n",
    "    dots = fold(dots, _)\n",
    "print(len(dots))"
   ]
  },
  {
   "cell_type": "markdown",
   "id": "509bc978",
   "metadata": {},
   "source": [
    "Apply to the puzzle data:"
   ]
  },
  {
   "cell_type": "code",
   "execution_count": 10,
   "id": "c804ee9a",
   "metadata": {},
   "outputs": [
    {
     "name": "stdout",
     "output_type": "stream",
     "text": [
      "706\n"
     ]
    }
   ],
   "source": [
    "dots, folds, size = load_input(datapath)\n",
    "dots = set(dots)\n",
    "dots = fold(dots, folds[0])\n",
    "print(len(dots))"
   ]
  },
  {
   "cell_type": "markdown",
   "id": "21355fe8",
   "metadata": {},
   "source": [
    "To get an answer to puzzle 2, we need to visualise the dot set."
   ]
  },
  {
   "cell_type": "code",
   "execution_count": 11,
   "id": "f7c42501",
   "metadata": {},
   "outputs": [],
   "source": [
    "def dotvis(dots: Set[Tuple[int, int]]) -> str:\n",
    "    \"\"\"Return a visualisation of dots on paper as a string\n",
    "    \n",
    "    :param dots:  set of dots on the page\n",
    "    \"\"\"\n",
    "    # Calculate page size\n",
    "    xmax, ymax = 0, 0\n",
    "    for dot in dots:\n",
    "        xmax, ymax = max(dot[0], xmax), max(dot[1], ymax)\n",
    "        \n",
    "    # Set up the \"blank page\"\n",
    "    image = []\n",
    "    for col in range(ymax + 1):\n",
    "        image.append([\".\"] * (xmax + 1))\n",
    "\n",
    "    # Add the dots to the page\n",
    "    for dot in dots:\n",
    "        image[dot[1]][dot[0]] = \"#\"\n",
    "    \n",
    "    return \"\\n\".join([\"\".join(_) for _ in image])"
   ]
  },
  {
   "cell_type": "markdown",
   "id": "361665d0",
   "metadata": {},
   "source": [
    "Test with the test data"
   ]
  },
  {
   "cell_type": "code",
   "execution_count": 12,
   "id": "c6113c71",
   "metadata": {},
   "outputs": [
    {
     "name": "stdout",
     "output_type": "stream",
     "text": [
      "#####\n",
      "#...#\n",
      "#...#\n",
      "#...#\n",
      "#####\n"
     ]
    }
   ],
   "source": [
    "dots, folds, size = load_input(testpath)\n",
    "dots = set(dots)\n",
    "for _ in folds:\n",
    "    dots = fold(dots, _)\n",
    "print(dotvis(dots))"
   ]
  },
  {
   "cell_type": "markdown",
   "id": "afecff2a",
   "metadata": {},
   "source": [
    "And apply to the puzzle data"
   ]
  },
  {
   "cell_type": "code",
   "execution_count": 13,
   "id": "e71be76d",
   "metadata": {},
   "outputs": [
    {
     "name": "stdout",
     "output_type": "stream",
     "text": [
      "#....###..####...##.###....##.####.#..#\n",
      "#....#..#.#.......#.#..#....#.#....#..#\n",
      "#....#..#.###.....#.###.....#.###..####\n",
      "#....###..#.......#.#..#....#.#....#..#\n",
      "#....#.#..#....#..#.#..#.#..#.#....#..#\n",
      "####.#..#.#.....##..###...##..####.#..#\n"
     ]
    }
   ],
   "source": [
    "dots, folds, size = load_input(datapath)\n",
    "dots = set(dots)\n",
    "for _ in folds:\n",
    "    dots = fold(dots, _)\n",
    "print(dotvis(dots))"
   ]
  },
  {
   "cell_type": "code",
   "execution_count": 14,
   "id": "96be8063",
   "metadata": {},
   "outputs": [
    {
     "name": "stdout",
     "output_type": "stream",
     "text": [
      "2.73 ms ± 159 µs per loop (mean ± std. dev. of 7 runs, 100 loops each)\n"
     ]
    }
   ],
   "source": [
    "%%timeit\n",
    "dots, folds, size = load_input(datapath)\n",
    "dots = set(dots)\n",
    "for _ in folds:\n",
    "    dots = fold(dots, _)"
   ]
  },
  {
   "cell_type": "markdown",
   "id": "1ec7a5d6",
   "metadata": {},
   "source": [
    "Turns out it's only about 25% faster than using `numpy`, and a class - which surprised me.\n",
    "\n",
    "What if we take parsing out of it?"
   ]
  },
  {
   "cell_type": "code",
   "execution_count": 15,
   "id": "7634ac65",
   "metadata": {},
   "outputs": [],
   "source": [
    "dots, folds, size = load_input(datapath)"
   ]
  },
  {
   "cell_type": "code",
   "execution_count": 16,
   "id": "0d2319bf",
   "metadata": {},
   "outputs": [
    {
     "name": "stdout",
     "output_type": "stream",
     "text": [
      "2.38 ms ± 208 µs per loop (mean ± std. dev. of 7 runs, 100 loops each)\n"
     ]
    }
   ],
   "source": [
    "%%timeit\n",
    "paper = Paper(dots, size)\n",
    "for fold in folds:\n",
    "    paper.fold(fold)"
   ]
  },
  {
   "cell_type": "code",
   "execution_count": 17,
   "id": "e68a49d9",
   "metadata": {},
   "outputs": [],
   "source": [
    "dots, folds, size = load_input(datapath)"
   ]
  },
  {
   "cell_type": "code",
   "execution_count": 18,
   "id": "ee8deaeb",
   "metadata": {},
   "outputs": [
    {
     "name": "stdout",
     "output_type": "stream",
     "text": [
      "1.22 ms ± 65.8 µs per loop (mean ± std. dev. of 7 runs, 1000 loops each)\n"
     ]
    }
   ],
   "source": [
    "%%timeit\n",
    "mydots = set(dots[:])\n",
    "for fld in folds:\n",
    "    mydots = fold(mydots, fld)"
   ]
  },
  {
   "cell_type": "markdown",
   "id": "c65c6d72",
   "metadata": {},
   "source": [
    "The alternative solution is about twice as fast (taking into account the need to copy the dots list, each time for `%%timeit`)."
   ]
  },
  {
   "cell_type": "code",
   "execution_count": null,
   "id": "ca3788f5",
   "metadata": {},
   "outputs": [],
   "source": []
  }
 ],
 "metadata": {
  "kernelspec": {
   "display_name": "Python 3 (ipykernel)",
   "language": "python",
   "name": "python3"
  },
  "language_info": {
   "codemirror_mode": {
    "name": "ipython",
    "version": 3
   },
   "file_extension": ".py",
   "mimetype": "text/x-python",
   "name": "python",
   "nbconvert_exporter": "python",
   "pygments_lexer": "ipython3",
   "version": "3.10.0"
  }
 },
 "nbformat": 4,
 "nbformat_minor": 5
}
