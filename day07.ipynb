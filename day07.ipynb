{
 "cells": [
  {
   "cell_type": "markdown",
   "id": "92eecc7d",
   "metadata": {},
   "source": [
    "# Day 07: The Treachery of Whales\n",
    "\n",
    "A giant whale has decided your submarine is its next meal, and it's much faster than you are. There's nowhere to run!\n",
    "\n",
    "Suddenly, a swarm of crabs (each in its own tiny submarine - it's too deep for them otherwise) zooms in to rescue you! They seem to be preparing to blast a hole in the ocean floor; sensors indicate a massive underground cave system just beyond where they're aiming!\n",
    "\n",
    "The crab submarines all need to be aligned before they'll have enough power to blast a large enough hole for your submarine to get through. However, it doesn't look like they'll be aligned before the whale catches you! Maybe you can help?\n",
    "\n",
    "There's one major catch - crab submarines can only move horizontally.\n",
    "\n",
    "You quickly make a list of the horizontal position of each crab (your puzzle input). Crab submarines have limited fuel, so you need to find a way to make all of their horizontal positions match while requiring them to spend as little fuel as possible.\n",
    "\n",
    "For example, consider the following horizontal positions:\n",
    "\n",
    "```text\n",
    "16,1,2,0,4,2,7,1,2,14\n",
    "```\n",
    "\n",
    "This means there's a crab with horizontal position 16, a crab with horizontal position 1, and so on.\n",
    "\n",
    "Each change of 1 step in horizontal position of a single crab costs 1 fuel. You could choose any horizontal position to align them all on, but the one that costs the least fuel is horizontal position 2:\n",
    "\n",
    "    Move from 16 to 2: 14 fuel\n",
    "    Move from 1 to 2: 1 fuel\n",
    "    Move from 2 to 2: 0 fuel\n",
    "    Move from 0 to 2: 2 fuel\n",
    "    Move from 4 to 2: 2 fuel\n",
    "    Move from 2 to 2: 0 fuel\n",
    "    Move from 7 to 2: 5 fuel\n",
    "    Move from 1 to 2: 1 fuel\n",
    "    Move from 2 to 2: 0 fuel\n",
    "    Move from 14 to 2: 12 fuel\n",
    "\n",
    "This costs a total of 37 fuel. This is the cheapest possible outcome; more expensive outcomes include aligning at position 1 (41 fuel), position 3 (39 fuel), or position 10 (71 fuel).\n",
    "\n",
    "Determine the horizontal position that the crabs can align to using the least fuel possible. **How much fuel must they spend to align to that position?**"
   ]
  },
  {
   "cell_type": "code",
   "execution_count": 1,
   "id": "f89feec0",
   "metadata": {},
   "outputs": [],
   "source": [
    "# Python imports\n",
    "from pathlib import Path\n",
    "from typing import Callable, Dict, Iterable, List, Tuple\n",
    "\n",
    "import numpy as np\n",
    "\n",
    "# Paths to data\n",
    "testpath = Path(\"day07_test.txt\")\n",
    "datapath = Path(\"day07_data.txt\")"
   ]
  },
  {
   "cell_type": "markdown",
   "id": "4db101e4",
   "metadata": {},
   "source": [
    "We can load the input, like yesterday, as a list/array of integers."
   ]
  },
  {
   "cell_type": "code",
   "execution_count": 2,
   "id": "1042a47e",
   "metadata": {},
   "outputs": [],
   "source": [
    "def load_input(fpath: Path) -> np.array:\n",
    "    \"\"\"Return list of crab horizontal positions\n",
    "    \n",
    "    :param fpath:  Path to data file\n",
    "    \"\"\"\n",
    "    with fpath.open(\"r\") as ifh:\n",
    "        return np.array([int(_) for _ in ifh.read().strip().split(\",\")])"
   ]
  },
  {
   "cell_type": "markdown",
   "id": "e5c28706",
   "metadata": {},
   "source": [
    "This is an optimisation problem, and we assume that the cost function is smooth and well-behaved with a single global minimum.\n",
    "\n",
    "Typically, the Advent of Code optimisation problems start small in part one so that any implementation is quick enough. But, in part two, a complication is introduced that makes the \"obvious\" solution inefficient. We start with a slightly better than brute-force optimisation, using a step size that halves with each iteration until a minimum is found.\n",
    "\n",
    "First, we define a cost function."
   ]
  },
  {
   "cell_type": "code",
   "execution_count": 3,
   "id": "0bd1da33",
   "metadata": {},
   "outputs": [],
   "source": [
    "def simplecost(crabpos: np.array, testpos: int) -> int:\n",
    "    \"\"\"Returns cost function for simple crab movements\n",
    "    \n",
    "    :param crabpos:  array of initial crab positions\n",
    "    :param testpos:  position for cost calculation    \n",
    "    \"\"\"\n",
    "    return sum(abs(crabpos - testpos))"
   ]
  },
  {
   "cell_type": "markdown",
   "id": "8bb02af7",
   "metadata": {},
   "source": [
    "Then we define the optimisation algorithm, taking the cost function as an argument. Splitting the functions in this way may simplify the second part, in case we only need to apply a different cost function."
   ]
  },
  {
   "cell_type": "code",
   "execution_count": 4,
   "id": "d4262fef",
   "metadata": {},
   "outputs": [],
   "source": [
    "def optpos(crabpos: np.array, func: Callable) -> Tuple[int, int]:\n",
    "    \"\"\"Returns best position and fuel cost\n",
    "    \n",
    "    :param crabpos:  array of initial crab positions\n",
    "    \"\"\"\n",
    "    \n",
    "    # Initialise starting position (central), cost at\n",
    "    # that position, and the stepsize (half the distance\n",
    "    # from best position to crab position bounds)\n",
    "    best_pos = int(0.5 * (crabpos.max() + crabpos.min()))\n",
    "    mincost = func(crabpos, best_pos)\n",
    "    stepsize = max([crabpos.max() - best_pos, best_pos - crabpos.min()])\n",
    "    \n",
    "    # At each iteration we establish a test position at\n",
    "    # the point stepsize away above and below the current\n",
    "    # best position.\n",
    "    # If the cost at either test position is lower than\n",
    "    # that at the best position, we move the best position\n",
    "    # to that position.\n",
    "    # If not, we reduce the stepsize by half.\n",
    "    # We will halt when the stepsize falls below 1 - at\n",
    "    # that point we have the minimum value\n",
    "    while stepsize:\n",
    "        # Establish test positions\n",
    "        testpos_up, testpos_dn = (min(crabpos.max(), best_pos + stepsize),\n",
    "                                  max(0, best_pos - stepsize))\n",
    "        # Cost at test positions\n",
    "        cost_up, cost_dn = (func(crabpos, testpos_up),\n",
    "                            func(crabpos, testpos_dn))\n",
    "\n",
    "        \n",
    "        # We move if the cost at either position is lower\n",
    "        if cost_up < mincost:\n",
    "            best_pos = testpos_up\n",
    "            mincost = cost_up\n",
    "        elif cost_dn < mincost:\n",
    "            best_pos = testpos_dn\n",
    "            mincost = cost_dn\n",
    "        else:  # else we halve the stepsize\n",
    "            stepsize = int(0.5 * stepsize)\n",
    "\n",
    "    # Return the optimal position and the cost at that position\n",
    "    return best_pos, mincost"
   ]
  },
  {
   "cell_type": "markdown",
   "id": "34884c2b",
   "metadata": {},
   "source": [
    "Solving the test problem."
   ]
  },
  {
   "cell_type": "code",
   "execution_count": 5,
   "id": "bb2a48ad",
   "metadata": {},
   "outputs": [
    {
     "data": {
      "text/plain": [
       "(2, 37)"
      ]
     },
     "execution_count": 5,
     "metadata": {},
     "output_type": "execute_result"
    }
   ],
   "source": [
    "crabpos = load_input(testpath)\n",
    "optpos(crabpos, simplecost)"
   ]
  },
  {
   "cell_type": "markdown",
   "id": "d3b31c4b",
   "metadata": {},
   "source": [
    "And then the puzzle data."
   ]
  },
  {
   "cell_type": "code",
   "execution_count": 6,
   "id": "24eb3ce6",
   "metadata": {},
   "outputs": [
    {
     "data": {
      "text/plain": [
       "(342, 351901)"
      ]
     },
     "execution_count": 6,
     "metadata": {},
     "output_type": "execute_result"
    }
   ],
   "source": [
    "crabpos = load_input(datapath)\n",
    "optpos(crabpos, simplecost)"
   ]
  },
  {
   "cell_type": "markdown",
   "id": "b0bbce18",
   "metadata": {},
   "source": [
    "## Puzzle 2\n",
    "\n",
    "The crabs don't seem interested in your proposed solution. Perhaps you misunderstand crab engineering?\n",
    "\n",
    "As it turns out, crab submarine engines don't burn fuel at a constant rate. Instead, each change of 1 step in horizontal position costs 1 more unit of fuel than the last: the first step costs 1, the second step costs 2, the third step costs 3, and so on.\n",
    "\n",
    "As each crab moves, moving further becomes more expensive. This changes the best horizontal position to align them all on; in the example above, this becomes 5:\n",
    "\n",
    "    Move from 16 to 5: 66 fuel\n",
    "    Move from 1 to 5: 10 fuel\n",
    "    Move from 2 to 5: 6 fuel\n",
    "    Move from 0 to 5: 15 fuel\n",
    "    Move from 4 to 5: 1 fuel\n",
    "    Move from 2 to 5: 6 fuel\n",
    "    Move from 7 to 5: 3 fuel\n",
    "    Move from 1 to 5: 10 fuel\n",
    "    Move from 2 to 5: 6 fuel\n",
    "    Move from 14 to 5: 45 fuel\n",
    "\n",
    "This costs a total of 168 fuel. This is the new cheapest possible outcome; the old alignment position (2) now costs 206 fuel instead.\n",
    "\n",
    "Determine the horizontal position that the crabs can align to using the least fuel possible so they can make you an escape route! **How much fuel must they spend to align to that position?**"
   ]
  },
  {
   "cell_type": "markdown",
   "id": "b4204c64",
   "metadata": {},
   "source": [
    "The difference in puzzle two is that the cost function involves more complex calculation, which would make a more naive optimisation inefficient.\n",
    "\n",
    "Even though the optimisation function is probably fast enough (solutions to Advent of Code should usually finish in less than a second), we can make a useful improvement.\n",
    "\n",
    "Each time we calculate the cost function, for each value in the array of crab positions $p_i$ we need to calculate the sum of values $1, 2, \\ldots, p_i$. To speed things up, we can calculate this for the first time we see each $p_i$ and then cache it in a global dictionary `CACHE`, keyed by $p_i$.\n",
    "\n",
    "In addition, we can vectorise the calculation for application along a `numpy` array.\n",
    "\n",
    "We implement a new cost function, incorporating this."
   ]
  },
  {
   "cell_type": "code",
   "execution_count": 13,
   "id": "40f5515d",
   "metadata": {},
   "outputs": [],
   "source": [
    "# global cache of sums of 1 + 2 + ... + p_i,\n",
    "# keyed by p_i\n",
    "CACHE = {}\n",
    "\n",
    "def movecost(dist: int) -> int:\n",
    "    \"\"\"Returns sum of 1+2+...+dist\n",
    "    \n",
    "    :param dist:  distance a crab has to travel\n",
    "    \n",
    "    Uses the global cache to get a value for\n",
    "    dist, or calculates and updates the cache if\n",
    "    not present.\n",
    "    \"\"\"\n",
    "    if dist not in CACHE:\n",
    "        # sum of first n integers is n * (n+1) / 2\n",
    "        CACHE[dist] = int(0.5 * dist * (dist + 1))\n",
    "    \n",
    "    return CACHE[dist]\n",
    "\n",
    "# Vectorise the movecost() function\n",
    "movecost_v = np.vectorize(movecost)\n",
    "\n",
    "def diffcost(crabpos: np.array, testpos: int) -> int:\n",
    "    \"\"\"Returns cost of crab movement\n",
    "    \n",
    "    :param crabpos:  array of initial crab positions\n",
    "    :param testpos:  position for cost calculation\n",
    "    \n",
    "    Cost of movement is sum of 1+2+...+p_i for each p_i\n",
    "    in the crab positions.\n",
    "    \"\"\"\n",
    "    return sum(movecost_v(abs(crabpos - testpos)))"
   ]
  },
  {
   "cell_type": "code",
   "execution_count": 14,
   "id": "42244056",
   "metadata": {},
   "outputs": [
    {
     "data": {
      "text/plain": [
       "(5, 168)"
      ]
     },
     "execution_count": 14,
     "metadata": {},
     "output_type": "execute_result"
    }
   ],
   "source": [
    "crabpos = load_input(testpath)\n",
    "optpos(crabpos, diffcost)"
   ]
  },
  {
   "cell_type": "code",
   "execution_count": 15,
   "id": "8097eb9a",
   "metadata": {},
   "outputs": [
    {
     "data": {
      "text/plain": [
       "(478, 101079875)"
      ]
     },
     "execution_count": 15,
     "metadata": {},
     "output_type": "execute_result"
    }
   ],
   "source": [
    "crabpos = load_input(datapath)\n",
    "optpos(crabpos, diffcost)"
   ]
  },
  {
   "cell_type": "code",
   "execution_count": null,
   "id": "97e804ca",
   "metadata": {},
   "outputs": [],
   "source": []
  }
 ],
 "metadata": {
  "kernelspec": {
   "display_name": "Python 3 (ipykernel)",
   "language": "python",
   "name": "python3"
  },
  "language_info": {
   "codemirror_mode": {
    "name": "ipython",
    "version": 3
   },
   "file_extension": ".py",
   "mimetype": "text/x-python",
   "name": "python",
   "nbconvert_exporter": "python",
   "pygments_lexer": "ipython3",
   "version": "3.10.0"
  }
 },
 "nbformat": 4,
 "nbformat_minor": 5
}
