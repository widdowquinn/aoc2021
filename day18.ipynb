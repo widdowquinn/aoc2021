{
 "cells": [
  {
   "cell_type": "markdown",
   "id": "9cbc1ee2",
   "metadata": {},
   "source": [
    "# Day 18: Snailfish\n",
    "\n",
    "You descend into the ocean trench and encounter some snailfish. They say they saw the sleigh keys! They'll even tell you which direction the keys went if you help one of the smaller snailfish with his math homework.\n",
    "\n",
    "Snailfish numbers aren't like regular numbers. Instead, every snailfish number is a pair - an ordered list of two elements. Each element of the pair can be either a regular number or another pair.\n",
    "\n",
    "Pairs are written as `[x,y]`, where x and y are the elements within the pair. Here are some example snailfish numbers, one snailfish number per line:\n",
    "\n",
    "```text\n",
    "[1,2]\n",
    "[[1,2],3]\n",
    "[9,[8,7]]\n",
    "[[1,9],[8,5]]\n",
    "[[[[1,2],[3,4]],[[5,6],[7,8]]],9]\n",
    "[[[9,[3,8]],[[0,9],6]],[[[3,7],[4,9]],3]]\n",
    "[[[[1,3],[5,3]],[[1,3],[8,7]]],[[[4,9],[6,9]],[[8,2],[7,3]]]]\n",
    "```\n",
    "\n",
    "This snailfish homework is about addition. To add two snailfish numbers, form a pair from the left and right parameters of the addition operator. For example, `[1,2] + [[3,4],5]` becomes `[[1,2],[[3,4],5]]`.\n",
    "\n",
    "There's only one problem: snailfish numbers must always be reduced, and the process of adding two snailfish numbers can result in snailfish numbers that need to be reduced.\n",
    "\n",
    "To reduce a snailfish number, you must repeatedly do the first action in this list that applies to the snailfish number:\n",
    "\n",
    "    If any pair is nested inside four pairs, the leftmost such pair explodes.\n",
    "    If any regular number is 10 or greater, the leftmost such regular number splits.\n",
    "\n",
    "Once no action in the above list applies, the snailfish number is reduced.\n",
    "\n",
    "During reduction, at most one action applies, after which the process returns to the top of the list of actions. For example, if split produces a pair that meets the explode criteria, that pair explodes before other splits occur.\n",
    "\n",
    "To explode a pair, the pair's left value is added to the first regular number to the left of the exploding pair (if any), and the pair's right value is added to the first regular number to the right of the exploding pair (if any). Exploding pairs will always consist of two regular numbers. Then, the entire exploding pair is replaced with the regular number `0`.\n",
    "\n",
    "Here are some examples of a single explode action:\n",
    "\n",
    "    [[[[[9,8],1],2],3],4] becomes [[[[0,9],2],3],4] (the 9 has no regular number to its left, so it is not added to any regular number).\n",
    "    [7,[6,[5,[4,[3,2]]]]] becomes [7,[6,[5,[7,0]]]] (the 2 has no regular number to its right, and so it is not added to any regular number).\n",
    "    [[6,[5,[4,[3,2]]]],1] becomes [[6,[5,[7,0]]],3].\n",
    "    [[3,[2,[1,[7,3]]]],[6,[5,[4,[3,2]]]]] becomes [[3,[2,[8,0]]],[9,[5,[4,[3,2]]]]] (the pair [3,2] is unaffected because the pair [7,3] is further to the left; [3,2] would explode on the next action).\n",
    "    [[3,[2,[8,0]]],[9,[5,[4,[3,2]]]]] becomes [[3,[2,[8,0]]],[9,[5,[7,0]]]].\n",
    "\n",
    "To split a regular number, replace it with a pair; the left element of the pair should be the regular number divided by two and rounded down, while the right element of the pair should be the regular number divided by two and rounded up. For example, `10` becomes `[5,5]`, `11` becomes `[5,6]`, `12` becomes `[6,6]`, and so on.\n",
    "\n",
    "Here is the process of finding the reduced result of `[[[[4,3],4],4],[7,[[8,4],9]]] + [1,1]`:\n",
    "\n",
    "```text\n",
    "after addition: [[[[[4,3],4],4],[7,[[8,4],9]]],[1,1]]\n",
    "after explode:  [[[[0,7],4],[7,[[8,4],9]]],[1,1]]\n",
    "after explode:  [[[[0,7],4],[15,[0,13]]],[1,1]]\n",
    "after split:    [[[[0,7],4],[[7,8],[0,13]]],[1,1]]\n",
    "after split:    [[[[0,7],4],[[7,8],[0,[6,7]]]],[1,1]]\n",
    "after explode:  [[[[0,7],4],[[7,8],[6,0]]],[8,1]]\n",
    "```\n",
    "\n",
    "Once no reduce actions apply, the snailfish number that remains is the actual result of the addition operation: `[[[[0,7],4],[[7,8],[6,0]]],[8,1]]`.\n",
    "\n",
    "The homework assignment involves adding up a list of snailfish numbers (your puzzle input). The snailfish numbers are each listed on a separate line. Add the first snailfish number and the second, then add that result and the third, then add that result and the fourth, and so on until all numbers in the list have been used once.\n",
    "\n",
    "For example, the final sum of this list is `[[[[1,1],[2,2]],[3,3]],[4,4]]`:\n",
    "\n",
    "```text\n",
    "[1,1]\n",
    "[2,2]\n",
    "[3,3]\n",
    "[4,4]\n",
    "```\n",
    "\n",
    "The final sum of this list is `[[[[3,0],[5,3]],[4,4]],[5,5]]`:\n",
    "\n",
    "```text\n",
    "[1,1]\n",
    "[2,2]\n",
    "[3,3]\n",
    "[4,4]\n",
    "[5,5]\n",
    "```\n",
    "\n",
    "The final sum of this list is `[[[[5,0],[7,4]],[5,5]],[6,6]]`:\n",
    "\n",
    "```text\n",
    "[1,1]\n",
    "[2,2]\n",
    "[3,3]\n",
    "[4,4]\n",
    "[5,5]\n",
    "[6,6]\n",
    "```\n",
    "\n",
    "Here's a slightly larger example:\n",
    "\n",
    "```text\n",
    "[[[0,[4,5]],[0,0]],[[[4,5],[2,6]],[9,5]]]\n",
    "[7,[[[3,7],[4,3]],[[6,3],[8,8]]]]\n",
    "[[2,[[0,8],[3,4]]],[[[6,7],1],[7,[1,6]]]]\n",
    "[[[[2,4],7],[6,[0,5]]],[[[6,8],[2,8]],[[2,1],[4,5]]]]\n",
    "[7,[5,[[3,8],[1,4]]]]\n",
    "[[2,[2,2]],[8,[8,1]]]\n",
    "[2,9]\n",
    "[1,[[[9,3],9],[[9,0],[0,7]]]]\n",
    "[[[5,[7,4]],7],1]\n",
    "[[[[4,2],2],6],[8,7]]\n",
    "```\n",
    "\n",
    "The final sum `[[[[8,7],[7,7]],[[8,6],[7,7]]],[[[0,7],[6,6]],[8,7]]]` is found after adding up the above snailfish numbers:\n",
    "\n",
    "```text\n",
    "  [[[0,[4,5]],[0,0]],[[[4,5],[2,6]],[9,5]]]\n",
    "+ [7,[[[3,7],[4,3]],[[6,3],[8,8]]]]\n",
    "= [[[[4,0],[5,4]],[[7,7],[6,0]]],[[8,[7,7]],[[7,9],[5,0]]]]\n",
    "\n",
    "  [[[[4,0],[5,4]],[[7,7],[6,0]]],[[8,[7,7]],[[7,9],[5,0]]]]\n",
    "+ [[2,[[0,8],[3,4]]],[[[6,7],1],[7,[1,6]]]]\n",
    "= [[[[6,7],[6,7]],[[7,7],[0,7]]],[[[8,7],[7,7]],[[8,8],[8,0]]]]\n",
    "\n",
    "  [[[[6,7],[6,7]],[[7,7],[0,7]]],[[[8,7],[7,7]],[[8,8],[8,0]]]]\n",
    "+ [[[[2,4],7],[6,[0,5]]],[[[6,8],[2,8]],[[2,1],[4,5]]]]\n",
    "= [[[[7,0],[7,7]],[[7,7],[7,8]]],[[[7,7],[8,8]],[[7,7],[8,7]]]]\n",
    "\n",
    "  [[[[7,0],[7,7]],[[7,7],[7,8]]],[[[7,7],[8,8]],[[7,7],[8,7]]]]\n",
    "+ [7,[5,[[3,8],[1,4]]]]\n",
    "= [[[[7,7],[7,8]],[[9,5],[8,7]]],[[[6,8],[0,8]],[[9,9],[9,0]]]]\n",
    "\n",
    "  [[[[7,7],[7,8]],[[9,5],[8,7]]],[[[6,8],[0,8]],[[9,9],[9,0]]]]\n",
    "+ [[2,[2,2]],[8,[8,1]]]\n",
    "= [[[[6,6],[6,6]],[[6,0],[6,7]]],[[[7,7],[8,9]],[8,[8,1]]]]\n",
    "\n",
    "  [[[[6,6],[6,6]],[[6,0],[6,7]]],[[[7,7],[8,9]],[8,[8,1]]]]\n",
    "+ [2,9]\n",
    "= [[[[6,6],[7,7]],[[0,7],[7,7]]],[[[5,5],[5,6]],9]]\n",
    "\n",
    "  [[[[6,6],[7,7]],[[0,7],[7,7]]],[[[5,5],[5,6]],9]]\n",
    "+ [1,[[[9,3],9],[[9,0],[0,7]]]]\n",
    "= [[[[7,8],[6,7]],[[6,8],[0,8]]],[[[7,7],[5,0]],[[5,5],[5,6]]]]\n",
    "\n",
    "  [[[[7,8],[6,7]],[[6,8],[0,8]]],[[[7,7],[5,0]],[[5,5],[5,6]]]]\n",
    "+ [[[5,[7,4]],7],1]\n",
    "= [[[[7,7],[7,7]],[[8,7],[8,7]]],[[[7,0],[7,7]],9]]\n",
    "\n",
    "  [[[[7,7],[7,7]],[[8,7],[8,7]]],[[[7,0],[7,7]],9]]\n",
    "+ [[[[4,2],2],6],[8,7]]\n",
    "= [[[[8,7],[7,7]],[[8,6],[7,7]]],[[[0,7],[6,6]],[8,7]]]\n",
    "```\n",
    "\n",
    "To check whether it's the right answer, the snailfish teacher only checks the magnitude of the final sum. The magnitude of a pair is 3 times the magnitude of its left element plus 2 times the magnitude of its right element. The magnitude of a regular number is just that number.\n",
    "\n",
    "For example, the magnitude of `[9,1`] is `3*9 + 2*1 = 29`; the magnitude of `[1,9]` is `3*1 + 2*9 = 21`. Magnitude calculations are recursive: the magnitude of `[[9,1],[1,9]]` is `3*29 + 2*21 = 129`.\n",
    "\n",
    "Here are a few more magnitude examples:\n",
    "\n",
    "    [[1,2],[[3,4],5]] becomes 143.\n",
    "    [[[[0,7],4],[[7,8],[6,0]]],[8,1]] becomes 1384.\n",
    "    [[[[1,1],[2,2]],[3,3]],[4,4]] becomes 445.\n",
    "    [[[[3,0],[5,3]],[4,4]],[5,5]] becomes 791.\n",
    "    [[[[5,0],[7,4]],[5,5]],[6,6]] becomes 1137.\n",
    "    [[[[8,7],[7,7]],[[8,6],[7,7]]],[[[0,7],[6,6]],[8,7]]] becomes 3488.\n",
    "\n",
    "So, given this example homework assignment:\n",
    "\n",
    "```text\n",
    "[[[0,[5,8]],[[1,7],[9,6]]],[[4,[1,2]],[[1,4],2]]]\n",
    "[[[5,[2,8]],4],[5,[[9,9],0]]]\n",
    "[6,[[[6,2],[5,6]],[[7,6],[4,7]]]]\n",
    "[[[6,[0,7]],[0,9]],[4,[9,[9,0]]]]\n",
    "[[[7,[6,4]],[3,[1,3]]],[[[5,5],1],9]]\n",
    "[[6,[[7,3],[3,2]]],[[[3,8],[5,7]],4]]\n",
    "[[[[5,4],[7,7]],8],[[8,3],8]]\n",
    "[[9,3],[[9,9],[6,[4,9]]]]\n",
    "[[2,[[7,7],7]],[[5,8],[[9,3],[0,2]]]]\n",
    "[[[[5,2],5],[8,[3,7]]],[[5,[7,5]],[4,4]]]\n",
    "```\n",
    "\n",
    "The final sum is:\n",
    "\n",
    "```text\n",
    "[[[[6,6],[7,6]],[[7,7],[7,0]]],[[[7,7],[7,7]],[[7,8],[9,9]]]]\n",
    "```\n",
    "\n",
    "The magnitude of this final sum is `4140`.\n",
    "\n",
    "Add up all of the snailfish numbers from the homework assignment in the order they appear. **What is the magnitude of the final sum?**"
   ]
  },
  {
   "cell_type": "markdown",
   "id": "ffb58d7f",
   "metadata": {},
   "source": [
    "**I hated this puzzle.** I found the instructions hard to follow, and key details of implementation were only clear once I realised that test cases failed, I thought the written instructions were either unclear or ambiguous. It took me ages to solve.\n",
    "\n",
    "As usual, we start with Python imports."
   ]
  },
  {
   "cell_type": "code",
   "execution_count": 1,
   "id": "3867dff8",
   "metadata": {},
   "outputs": [],
   "source": [
    "# Python imports\n",
    "from itertools import combinations, permutations\n",
    "from pathlib import Path\n",
    "from typing import Callable, Dict, Generator, Iterable, List, Optional, Set, Tuple\n",
    "\n",
    "import numpy as np\n",
    "\n",
    "# Paths to data\n",
    "testpath1 = Path(\"day18_test1.txt\")\n",
    "testpath2 = Path(\"day18_test2.txt\")\n",
    "testpath3 = Path(\"day18_test3.txt\")\n",
    "testpath4 = Path(\"day18_test4.txt\")\n",
    "testpath5 = Path(\"day18_test5.txt\")\n",
    "testpath6 = Path(\"day18_test6.txt\")\n",
    "testpath7 = Path(\"day18_test7.txt\")\n",
    "testpath8 = Path(\"day18_test8.txt\")\n",
    "testpath9 = Path(\"day18_test9.txt\")\n",
    "datapath = Path(\"day18_data.txt\")"
   ]
  },
  {
   "cell_type": "markdown",
   "id": "bae1a07d",
   "metadata": {},
   "source": [
    "The snailfish numbers look like binary trees, with recursive operations. It made sense then to use an approach where `SnailfishNumber`s were nodes in a tree.\n",
    "\n",
    "From the instructions, these would either be \"regular values\" (integers at the leaves) or nodes that might be \"pairs\" (both children are \"regular values\") or not \"pairs\". These will be treated differently, so we have to differentiate them."
   ]
  },
  {
   "cell_type": "code",
   "execution_count": 2,
   "id": "09a9f65a",
   "metadata": {},
   "outputs": [],
   "source": [
    "class SnailfishNumber:\n",
    "    \n",
    "    \"\"\"A node in a binary tree.\n",
    "    \n",
    "    There are two children (.left and .right). The SmallfishNumber might be\n",
    "    a regular value (an integer), in which case both children are None and\n",
    "    .value has the number's value. If it is not a regular value, .value is\n",
    "    None, and .left/.right are SnailfishNumbers.\n",
    "    \n",
    "    We record the .depth of the node as an integer, as this is required to\n",
    "    identify SnailfishNumbers that need to explode.\n",
    "    \"\"\"\n",
    "    \n",
    "    def __init__(self, numstr: str, parent: Optional=None, depth: int=0) -> None:\n",
    "        \"\"\"Instantiate SnailfishNumber\n",
    "        \n",
    "        :param numstr:  string defining this SnailfishNumber\n",
    "        :param parent:  parent SnailfishNumber for this instance\n",
    "        :param depth:  depth of this instance in the tree\n",
    "        \"\"\"\n",
    "        self.left: Optional = None\n",
    "        self.right: Optional = None\n",
    "        self.value: Optional[int] = None\n",
    "        self.parent: Optional = parent\n",
    "        self.depth: int = depth\n",
    "        \n",
    "        self.__parse(numstr)\n",
    "        \n",
    "    def __add_rhs(self, numstr: str):\n",
    "        \"\"\"Add a SnailfishNumber to the RHS child\n",
    "        \n",
    "        :param numstr:  string defining a SnailfishNumber        \n",
    "        \"\"\"\n",
    "        self.right = SnailfishNumber(numstr, self, self.depth + 1)\n",
    "        \n",
    "    def __parse(self, numstr: str):\n",
    "        \"\"\"Parse the passed SnailfishNumber\n",
    "        \n",
    "        :param numstr:  string defining a SnailfishNumber        \n",
    "        \"\"\"        \n",
    "        numlist = list(numstr)  # stack of symbols in passed snailfish number\n",
    "        numstack = []  # holds numeric characters for processing\n",
    "        \n",
    "        # Are there any characters left in the numlist?\n",
    "        try:\n",
    "            sym = numlist.pop(0)\n",
    "        except IndexError:\n",
    "            return\n",
    "        \n",
    "        # Is the first set of symbols a number? If so, populate the\n",
    "        # numstack, get the value and either pass back to the parent\n",
    "        # for the RHS, or tell the parent to move on\n",
    "        while sym in \"0123456789\":\n",
    "            numstack.append(sym)\n",
    "            try:\n",
    "                sym = numlist.pop(0)\n",
    "            except IndexError:\n",
    "                if len(numstack):\n",
    "                    self.value = int(\"\".join(numstack))\n",
    "                return\n",
    "            \n",
    "        # Number exits with either comma (meaning it was LHS) or ]\n",
    "        # (meaning it was RHS)\n",
    "        if sym == \",\":  # next, populate parent RHS\n",
    "            if len(numstack):\n",
    "                self.value = int(\"\".join(numstack))\n",
    "            self.parent.__add_rhs(\"\".join(numlist))\n",
    "        elif sym == \"]\":  # propagate current string back to parent\n",
    "            if len(numstack):\n",
    "                self.value = int(\"\".join(numstack))\n",
    "            self.parent.__parse(\"\".join(numlist))\n",
    "        # If there wasn't a number then an alternative is the [, which\n",
    "        # means we need to descend another level on LHS\n",
    "        elif sym == \"[\":\n",
    "            self.left = SnailfishNumber(\"\".join(numlist), self, self.depth + 1)\n",
    "\n",
    "    def __repr__(self):\n",
    "        if self.is_number:\n",
    "            return f\"<{str(self)}, {self.depth=} >\"\n",
    "        else:\n",
    "            return f\"[{self.left.__repr__()},{self.right.__repr__()}]\"\n",
    "            \n",
    "    def __str__(self):\n",
    "        if self.is_number:\n",
    "            return str(self.value)\n",
    "        else:\n",
    "            return f\"[{self.left},{self.right}]\"\n",
    "\n",
    "    @property\n",
    "    def is_number(self):\n",
    "        \"\"\"Returns True if SnailfishNumber is a regular number\"\"\"\n",
    "        return isinstance(self.value, int)\n",
    "        \n",
    "    @property\n",
    "    def is_pair(self):\n",
    "        \"\"\"Returns True if both left and right values are regular numbers\"\"\"\n",
    "        if self.left is not None and self.right is not None:\n",
    "            if self.left.is_number and self.right.is_number:\n",
    "                return True\n",
    "        return False\n",
    "    \n",
    "    @property\n",
    "    def magnitude(self):\n",
    "        \"\"\"Returns magnitude of number\n",
    "        \n",
    "        If this is a regular number, return the value; if it's not,\n",
    "        return 3 * LHS + 2 * RHS.\n",
    "        \"\"\"\n",
    "        if self.is_number:\n",
    "            return self.value\n",
    "        else:\n",
    "            return 3 * self.left.magnitude + 2 * self.right.magnitude"
   ]
  },
  {
   "cell_type": "code",
   "execution_count": 3,
   "id": "b2e851fe",
   "metadata": {},
   "outputs": [],
   "source": [
    "def load_input(fpath: Path) -> List:\n",
    "    \"\"\"Return snailfish numbers as a list of strings\n",
    "    \n",
    "    :param fpath:  Path to data file\n",
    "    \"\"\"\n",
    "    with fpath.open(\"r\") as ifh:\n",
    "        return [SnailfishNumber(_.strip()) for _ in ifh.readlines()]"
   ]
  },
  {
   "cell_type": "code",
   "execution_count": 4,
   "id": "92be1ba6",
   "metadata": {},
   "outputs": [],
   "source": [
    "def get_event_stack(num: SnailfishNumber, stack: Optional[List]=None) -> List:\n",
    "    \"\"\"Recursively construct a stack of events in the SnailfishNumber list\n",
    "    \n",
    "    :param num:  SnailfishNumber to convert to stack\n",
    "    :param stack:  Stack to add current number to\n",
    "    \"\"\"\n",
    "    # Use a depth-first-search to identify snailfish tree nodes and status\n",
    "    curnum = num\n",
    "    if stack is None:\n",
    "        stack = []\n",
    "\n",
    "    # Regular numbers get added as \"split\" events if large, or \"regnum\"\n",
    "    # if small\n",
    "    if curnum.is_number:\n",
    "        if curnum.value > 9:\n",
    "            stack.append((curnum, str(curnum), \"split\"))\n",
    "        else:            \n",
    "            stack.append((curnum, str(curnum), \"regnum\"))\n",
    "    \n",
    "    # If a number is a pair and has depth greater than 4, it's an\n",
    "    # \"explode\" - don't descend into the tree\n",
    "    if curnum.is_pair and curnum.depth >= 4:\n",
    "        stack.append((curnum, str(curnum), \"explode\"))\n",
    "        return\n",
    "    \n",
    "    # Recurse as part of DFS\n",
    "    if curnum.left is not None:\n",
    "        get_event_stack(curnum.left, stack)\n",
    "    if curnum.right is not None:\n",
    "        get_event_stack(curnum.right, stack)\n",
    "        \n",
    "    # Return the stack\n",
    "    return stack\n",
    "\n",
    "def reduce_stack(num: SnailfishNumber) -> SnailfishNumber:\n",
    "    \"\"\"Reduce the passed SnailfishNumber once\n",
    "    \n",
    "    :param num:  SnailfishNumber to reduce\n",
    "    \n",
    "    Apply the first action in this list that applies to the snailfish number:\n",
    "\n",
    "    - If any pair is nested inside four pairs, the leftmost such pair explodes.\n",
    "    - If any regular number is 10 or greater, the leftmost such regular number splits.\n",
    "\n",
    "    During reduction, at most one action applies, after which the process returns\n",
    "    to the top of the list of actions. For example, if split produces a pair that\n",
    "    meets the explode criteria, that pair explodes before other splits occur. To\n",
    "    implement this, we only make the first action, update the number, then return it.\n",
    "    \"\"\"\n",
    "    # Turn number into a list of (pair, event) tuples\n",
    "    stack = get_event_stack(num)\n",
    "    \n",
    "    # Set up temp variables\n",
    "    lastregnum = None  # host last seen regular number (None if none seen)\n",
    "    exploded = None  # pair we're currently exploding (None if not exploding)\n",
    "    \n",
    "    # If there are any explosions in the stack, we do not split\n",
    "    splitting = \"explode\" not in [_[2] for _ in stack]\n",
    "    \n",
    "    # Identify the first event and process is\n",
    "    while len(stack):\n",
    "        curnum, numstr, event = stack.pop(0)\n",
    "        if event == \"regnum\":\n",
    "            # Just a regular number - possibly use this if we're exploding\n",
    "            # otherwise just continue\n",
    "            if exploded is None:\n",
    "                lastregnum = curnum\n",
    "            else:\n",
    "                curnum.value += exploded.right.value\n",
    "                exploded.value = 0\n",
    "                exploded.left, exploded.right = None, None\n",
    "                return num  # return result of explosion\n",
    "        elif event == \"split\":\n",
    "            # If we're not already exploding, split the number\n",
    "            if splitting:\n",
    "                curnum.left = SnailfishNumber(f\"{int(np.floor(curnum.value / 2))}\", depth=curnum.depth+1)\n",
    "                curnum.right = SnailfishNumber(f\"{int(np.ceil(curnum.value / 2))}\", depth=curnum.depth+1)\n",
    "                curnum.value = None\n",
    "                return num\n",
    "            else:  \n",
    "                if exploded: # If we're already exploding, treat it as a regular number\n",
    "                    curnum.value += exploded.right.value\n",
    "                    exploded.value = 0\n",
    "                    exploded.left, exploded.right = None, None\n",
    "                    return num\n",
    "                else:  # If we're not exploding, treat it as the last regular number\n",
    "                    lastregnum = curnum\n",
    "        elif event == \"explode\":\n",
    "            if exploded is None:\n",
    "                # Explode the current number\n",
    "                exploded = curnum\n",
    "                if lastregnum is not None:\n",
    "                    lastregnum.value += curnum.left.value\n",
    "            else:  # If exploding, treat as pair of regular numbers\n",
    "                curnum.left.value += exploded.right.value\n",
    "                exploded.value = 0\n",
    "                exploded.left, exploded.right = None, None\n",
    "                return num\n",
    "                    \n",
    "    # There was no regular number following the explosion\n",
    "    if exploded is not None:\n",
    "        exploded.value = 0\n",
    "        exploded.left, exploded.right = None, None\n",
    "        return num\n",
    "\n",
    "    # No events, or no right-hand number\n",
    "    return num\n",
    "\n",
    "\n",
    "def reduce(num: SnailfishNumber) -> SnailfishNumber:\n",
    "    \"\"\"Iteratively reduce the passed SnailfishNumber\n",
    "    \n",
    "    :param num:  SnailfishNumber to reduce\n",
    "    \"\"\"\n",
    "    start = str(num)\n",
    "    reduce_stack(num)\n",
    "    while str(num) != start:\n",
    "        start = str(num)\n",
    "        reduce_stack(num)\n",
    "    return num"
   ]
  },
  {
   "cell_type": "code",
   "execution_count": 5,
   "id": "6261f89a",
   "metadata": {},
   "outputs": [],
   "source": [
    "def add_sfnums(left: SnailfishNumber, right: SnailfishNumber) -> SnailfishNumber:\n",
    "    \"\"\"Add a pair of SnailfishNumbers\n",
    "    \n",
    "    :param left:  SnailfishNumber\n",
    "    :param right:  SnailfishNumber\n",
    "    \"\"\"\n",
    "    return SnailfishNumber(f\"[{str(left)},{str(right)}]\")\n",
    "        \n",
    "def sum_reduce_sfnums(numlist: List) -> SnailfishNumber:\n",
    "    \"\"\"Iteratively sum SnailfishNumbers from LHS and reduce at each step\n",
    "    \n",
    "    :param numlist:  list of SnailfishNumbers\n",
    "    \"\"\"\n",
    "    left = numlist.pop(0)\n",
    "    while len(numlist):\n",
    "        left = add_sfnums(left, numlist.pop(0))\n",
    "        left = reduce(left)\n",
    "    return left"
   ]
  },
  {
   "cell_type": "markdown",
   "id": "ac0c75f1",
   "metadata": {},
   "source": [
    "Now we test this out on the many examples in the puzzle.\n",
    "\n",
    "I found I needed to use the failing examples to understand what the wording of the original puzzle meant. This was a _long_ process."
   ]
  },
  {
   "cell_type": "code",
   "execution_count": 6,
   "id": "8bad9d5c",
   "metadata": {},
   "outputs": [
    {
     "name": "stdout",
     "output_type": "stream",
     "text": [
      "['[1,2]', '[[3,4],5]']\n",
      "[True, False]\n"
     ]
    },
    {
     "data": {
      "text/plain": [
       "[[<1, self.depth=1 >,<2, self.depth=1 >],\n",
       " [[<3, self.depth=2 >,<4, self.depth=2 >],<5, self.depth=1 >]]"
      ]
     },
     "execution_count": 6,
     "metadata": {},
     "output_type": "execute_result"
    }
   ],
   "source": [
    "numbers = load_input(testpath1)\n",
    "print([str(_) for _ in numbers])\n",
    "print([_.is_pair for _ in numbers])\n",
    "numbers"
   ]
  },
  {
   "cell_type": "code",
   "execution_count": 7,
   "id": "ebdebe0b",
   "metadata": {},
   "outputs": [
    {
     "name": "stdout",
     "output_type": "stream",
     "text": [
      "['[[[[[9,8],1],2],3],4]', '[7,[6,[5,[4,[3,2]]]]]', '[[6,[5,[4,[3,2]]]],1]', '[[3,[2,[1,[7,3]]]],[6,[5,[4,[3,2]]]]]', '[[3,[2,[8,0]]],[9,[5,[4,[3,2]]]]]']\n",
      "[False, False, False, False, False]\n"
     ]
    },
    {
     "data": {
      "text/plain": [
       "[[<3, self.depth=2 >,[<2, self.depth=3 >,[<8, self.depth=4 >,<0, self.depth=4 >]]],[<9, self.depth=2 >,[<5, self.depth=3 >,[<7, self.depth=4 >,<0, self.depth=4 >]]]]"
      ]
     },
     "execution_count": 7,
     "metadata": {},
     "output_type": "execute_result"
    }
   ],
   "source": [
    "numbers = load_input(testpath2)\n",
    "print([str(_) for _ in numbers])\n",
    "print([_.is_pair for _ in numbers])\n",
    "\n",
    "for num in numbers[:4]:\n",
    "    reduced = reduce(num)\n",
    "#     start = str(num)\n",
    "#     reduce(num)\n",
    "#     while str(num) != start:\n",
    "#         start = str(num)\n",
    "#         reduce(num)\n",
    "\n",
    "num"
   ]
  },
  {
   "cell_type": "code",
   "execution_count": 8,
   "id": "0e3e4b01",
   "metadata": {},
   "outputs": [
    {
     "name": "stdout",
     "output_type": "stream",
     "text": [
      "['10', '11', '12']\n",
      "[False, False, False]\n",
      "Before: str(num)='10'\n",
      "After: str(reduced)='[5,5]'\n",
      "[<5, self.depth=1 >,<5, self.depth=1 >]\n",
      "Before: str(num)='11'\n",
      "After: str(reduced)='[5,6]'\n",
      "[<5, self.depth=1 >,<6, self.depth=1 >]\n",
      "Before: str(num)='12'\n",
      "After: str(reduced)='[6,6]'\n",
      "[<6, self.depth=1 >,<6, self.depth=1 >]\n"
     ]
    }
   ],
   "source": [
    "numbers = load_input(testpath3)\n",
    "print([str(_) for _ in numbers])\n",
    "print([_.is_pair for _ in numbers])\n",
    "\n",
    "for num in numbers[:4]:\n",
    "    print(f\"Before: {str(num)=}\")\n",
    "    reduced = reduce(num)\n",
    "#     start = str(num)\n",
    "#     reduce(num)\n",
    "#     while str(num) != start:\n",
    "#         start = str(num)\n",
    "#         reduce(num)\n",
    "    print(f\"After: {str(reduced)=}\")\n",
    "    print(reduced.__repr__())"
   ]
  },
  {
   "cell_type": "code",
   "execution_count": 9,
   "id": "9d98b521",
   "metadata": {},
   "outputs": [
    {
     "name": "stdout",
     "output_type": "stream",
     "text": [
      "['[[[[4,3],4],4],[7,[[8,4],9]]]', '[1,1]']\n",
      "[False, True]\n",
      "[[[[[4,3],4],4],[7,[[8,4],9]]],[1,1]]\n",
      "[[[[0,7],4],[[7,8],[6,0]]],[8,1]]\n"
     ]
    },
    {
     "data": {
      "text/plain": [
       "[[[[<0, self.depth=4 >,<7, self.depth=4 >],<4, self.depth=3 >],[[<7, self.depth=4 >,<8, self.depth=4 >],[<6, self.depth=4 >,<0, self.depth=4 >]]],[<8, self.depth=2 >,<1, self.depth=2 >]]"
      ]
     },
     "execution_count": 9,
     "metadata": {},
     "output_type": "execute_result"
    }
   ],
   "source": [
    "numbers = load_input(testpath4)\n",
    "print([str(_) for _ in numbers])\n",
    "print([_.is_pair for _ in numbers])\n",
    "sfsum = add_sfnums(numbers[0], numbers[1])\n",
    "print(sfsum)\n",
    "print(str(reduce(sfsum)))\n",
    "reduce(sfsum)"
   ]
  },
  {
   "cell_type": "code",
   "execution_count": 10,
   "id": "d0f9dac0",
   "metadata": {},
   "outputs": [
    {
     "name": "stdout",
     "output_type": "stream",
     "text": [
      "['[1,1]', '[2,2]', '[3,3]', '[4,4]']\n",
      "[True, True, True, True]\n",
      "[[[[1,1],[2,2]],[3,3]],[4,4]]\n"
     ]
    },
    {
     "data": {
      "text/plain": [
       "[[[[<1, self.depth=4 >,<1, self.depth=4 >],[<2, self.depth=4 >,<2, self.depth=4 >]],[<3, self.depth=3 >,<3, self.depth=3 >]],[<4, self.depth=2 >,<4, self.depth=2 >]]"
      ]
     },
     "execution_count": 10,
     "metadata": {},
     "output_type": "execute_result"
    }
   ],
   "source": [
    "numbers = load_input(testpath5)\n",
    "print([str(_) for _ in numbers])\n",
    "print([_.is_pair for _ in numbers])\n",
    "output = sum_reduce_sfnums(numbers)\n",
    "print(output)\n",
    "output"
   ]
  },
  {
   "cell_type": "code",
   "execution_count": 11,
   "id": "15838769",
   "metadata": {},
   "outputs": [
    {
     "name": "stdout",
     "output_type": "stream",
     "text": [
      "['[1,1]', '[2,2]', '[3,3]', '[4,4]', '[5,5]']\n",
      "[True, True, True, True, True]\n",
      "[[[[3,0],[5,3]],[4,4]],[5,5]]\n"
     ]
    },
    {
     "data": {
      "text/plain": [
       "[[[[<3, self.depth=4 >,<0, self.depth=4 >],[<5, self.depth=4 >,<3, self.depth=4 >]],[<4, self.depth=3 >,<4, self.depth=3 >]],[<5, self.depth=2 >,<5, self.depth=2 >]]"
      ]
     },
     "execution_count": 11,
     "metadata": {},
     "output_type": "execute_result"
    }
   ],
   "source": [
    "numbers = load_input(testpath6)\n",
    "print([str(_) for _ in numbers])\n",
    "print([_.is_pair for _ in numbers])\n",
    "output = sum_reduce_sfnums(numbers)\n",
    "print(output)\n",
    "output"
   ]
  },
  {
   "cell_type": "code",
   "execution_count": 12,
   "id": "88cb6b16",
   "metadata": {},
   "outputs": [
    {
     "name": "stdout",
     "output_type": "stream",
     "text": [
      "['[1,1]', '[2,2]', '[3,3]', '[4,4]', '[5,5]', '[6,6]']\n",
      "[True, True, True, True, True, True]\n",
      "[[[[5,0],[7,4]],[5,5]],[6,6]]\n"
     ]
    },
    {
     "data": {
      "text/plain": [
       "[[[[<5, self.depth=4 >,<0, self.depth=4 >],[<7, self.depth=4 >,<4, self.depth=4 >]],[<5, self.depth=3 >,<5, self.depth=3 >]],[<6, self.depth=2 >,<6, self.depth=2 >]]"
      ]
     },
     "execution_count": 12,
     "metadata": {},
     "output_type": "execute_result"
    }
   ],
   "source": [
    "numbers = load_input(testpath7)\n",
    "print([str(_) for _ in numbers])\n",
    "print([_.is_pair for _ in numbers])\n",
    "output = sum_reduce_sfnums(numbers)\n",
    "print(output)\n",
    "output"
   ]
  },
  {
   "cell_type": "code",
   "execution_count": 13,
   "id": "bc7141ab",
   "metadata": {
    "scrolled": true
   },
   "outputs": [
    {
     "name": "stdout",
     "output_type": "stream",
     "text": [
      "['[[[0,[4,5]],[0,0]],[[[4,5],[2,6]],[9,5]]]', '[7,[[[3,7],[4,3]],[[6,3],[8,8]]]]', '[[2,[[0,8],[3,4]]],[[[6,7],1],[7,[1,6]]]]', '[[[[2,4],7],[6,[0,5]]],[[[6,8],[2,8]],[[2,1],[4,5]]]]', '[7,[5,[[3,8],[1,4]]]]', '[[2,[2,2]],[8,[8,1]]]', '[2,9]', '[1,[[[9,3],9],[[9,0],[0,7]]]]', '[[[5,[7,4]],7],1]', '[[[[4,2],2],6],[8,7]]']\n",
      "[False, False, False, False, False, False, True, False, False, False]\n",
      "[[[[8,7],[7,7]],[[8,6],[7,7]]],[[[0,7],[6,6]],[8,7]]]\n"
     ]
    }
   ],
   "source": [
    "numbers = load_input(testpath8)\n",
    "print([str(_) for _ in numbers])\n",
    "print([_.is_pair for _ in numbers])\n",
    "print(sum_reduce_sfnums(numbers))\n",
    "# [[[[8,7],[7,7]],[[8,6],[7,7]]],[[[0,7],[6,6]],[8,7]]]"
   ]
  },
  {
   "cell_type": "code",
   "execution_count": 14,
   "id": "64af418d",
   "metadata": {},
   "outputs": [
    {
     "name": "stdout",
     "output_type": "stream",
     "text": [
      "[[[[6,7],[6,7]],[[7,7],[0,7]]],[[[8,7],[7,7]],[[8,8],[8,0]]]]\n"
     ]
    }
   ],
   "source": [
    "numbers = [SnailfishNumber(\"[[[[4,0],[5,4]],[[7,7],[6,0]]],[[8,[7,7]],[[7,9],[5,0]]]]\"),\n",
    "           SnailfishNumber(\"[[2,[[0,8],[3,4]]],[[[6,7],1],[7,[1,6]]]]\")]\n",
    "print(sum_reduce_sfnums(numbers))"
   ]
  },
  {
   "cell_type": "code",
   "execution_count": 15,
   "id": "dbf6f281",
   "metadata": {},
   "outputs": [
    {
     "data": {
      "text/plain": [
       "29"
      ]
     },
     "execution_count": 15,
     "metadata": {},
     "output_type": "execute_result"
    }
   ],
   "source": [
    "num = SnailfishNumber(\"[9,1]\")\n",
    "num.magnitude"
   ]
  },
  {
   "cell_type": "code",
   "execution_count": 16,
   "id": "403cedf5",
   "metadata": {},
   "outputs": [
    {
     "data": {
      "text/plain": [
       "129"
      ]
     },
     "execution_count": 16,
     "metadata": {},
     "output_type": "execute_result"
    }
   ],
   "source": [
    "num = SnailfishNumber(\"[[9,1],[1,9]]\")\n",
    "num.magnitude"
   ]
  },
  {
   "cell_type": "code",
   "execution_count": 17,
   "id": "ad2633d8",
   "metadata": {},
   "outputs": [
    {
     "data": {
      "text/plain": [
       "3488"
      ]
     },
     "execution_count": 17,
     "metadata": {},
     "output_type": "execute_result"
    }
   ],
   "source": [
    "num = SnailfishNumber(\"[[[[8,7],[7,7]],[[8,6],[7,7]]],[[[0,7],[6,6]],[8,7]]]\")\n",
    "num.magnitude"
   ]
  },
  {
   "cell_type": "markdown",
   "id": "d5d25a1c",
   "metadata": {},
   "source": [
    "We seem to pass all the test cases, so let's try out the homework:"
   ]
  },
  {
   "cell_type": "code",
   "execution_count": 18,
   "id": "7b151f66",
   "metadata": {},
   "outputs": [
    {
     "name": "stdout",
     "output_type": "stream",
     "text": [
      "str(num)='[[[[6,6],[7,6]],[[7,7],[7,0]]],[[[7,7],[7,7]],[[7,8],[9,9]]]]'\n",
      "num.magnitude=4140\n"
     ]
    }
   ],
   "source": [
    "numbers = load_input(testpath9)\n",
    "num = sum_reduce_sfnums(numbers)\n",
    "print(f\"{str(num)=}\")\n",
    "print(f\"{num.magnitude=}\")"
   ]
  },
  {
   "cell_type": "markdown",
   "id": "ced1a8ae",
   "metadata": {},
   "source": [
    "And now the puzzle data:"
   ]
  },
  {
   "cell_type": "code",
   "execution_count": 19,
   "id": "a5f8495f",
   "metadata": {},
   "outputs": [
    {
     "data": {
      "text/plain": [
       "4347"
      ]
     },
     "execution_count": 19,
     "metadata": {},
     "output_type": "execute_result"
    }
   ],
   "source": [
    "numbers = load_input(datapath)\n",
    "num = sum_reduce_sfnums(numbers)\n",
    "num.magnitude"
   ]
  },
  {
   "cell_type": "markdown",
   "id": "09daf268",
   "metadata": {},
   "source": [
    "## Puzzle 2\n",
    "\n",
    "You notice a second question on the back of the homework assignment:\n",
    "\n",
    "What is the largest magnitude you can get from adding only two of the snailfish numbers?\n",
    "\n",
    "Note that snailfish addition is not commutative - that is, `x + y` and `y + x` can produce different results.\n",
    "\n",
    "Again considering the last example homework assignment above:\n",
    "\n",
    "```text\n",
    "[[[0,[5,8]],[[1,7],[9,6]]],[[4,[1,2]],[[1,4],2]]]\n",
    "[[[5,[2,8]],4],[5,[[9,9],0]]]\n",
    "[6,[[[6,2],[5,6]],[[7,6],[4,7]]]]\n",
    "[[[6,[0,7]],[0,9]],[4,[9,[9,0]]]]\n",
    "[[[7,[6,4]],[3,[1,3]]],[[[5,5],1],9]]\n",
    "[[6,[[7,3],[3,2]]],[[[3,8],[5,7]],4]]\n",
    "[[[[5,4],[7,7]],8],[[8,3],8]]\n",
    "[[9,3],[[9,9],[6,[4,9]]]]\n",
    "[[2,[[7,7],7]],[[5,8],[[9,3],[0,2]]]]\n",
    "[[[[5,2],5],[8,[3,7]]],[[5,[7,5]],[4,4]]]\n",
    "```\n",
    "\n",
    "The largest magnitude of the sum of any two snailfish numbers in this list is `3993`. This is the magnitude of `[[2,[[7,7],7]],[[5,8],[[9,3],[0,2]]]] + [[[0,[5,8]],[[1,7],[9,6]]],[[4,[1,2]],[[1,4],2]]]`, which reduces to `[[[[7,8],[6,6]],[[6,0],[7,7]]],[[[7,8],[8,8]],[[7,9],[0,6]]]]`.\n",
    "\n",
    "**What is the largest magnitude of any sum of two different snailfish numbers from the homework assignment?**"
   ]
  },
  {
   "cell_type": "markdown",
   "id": "b26b0923",
   "metadata": {},
   "source": [
    "As addition is not commutative, we need to check all the permutations of each pair of numbers in the input, not just the combinations.\n",
    "\n",
    "Trying the homework first:"
   ]
  },
  {
   "cell_type": "code",
   "execution_count": 20,
   "id": "3af870f8",
   "metadata": {},
   "outputs": [
    {
     "name": "stdout",
     "output_type": "stream",
     "text": [
      "max_magnitude=3993\n"
     ]
    }
   ],
   "source": [
    "numbers = load_input(testpath9)\n",
    "pairs = permutations(numbers, 2)  # get all permutations of number pairs\n",
    "max_magnitude = 0\n",
    "for num1, num2 in pairs:\n",
    "    max_magnitude = max(sum_reduce_sfnums([num1, num2]).magnitude, max_magnitude)\n",
    "print(f\"{max_magnitude=}\")"
   ]
  },
  {
   "cell_type": "markdown",
   "id": "7d4268f3",
   "metadata": {},
   "source": [
    "And then the puzzle data:"
   ]
  },
  {
   "cell_type": "code",
   "execution_count": 21,
   "id": "d44b2148",
   "metadata": {},
   "outputs": [
    {
     "name": "stdout",
     "output_type": "stream",
     "text": [
      "max_magnitude=4721\n"
     ]
    }
   ],
   "source": [
    "numbers = load_input(datapath)\n",
    "pairs = permutations(numbers, 2)  # get all permutations of number pairs\n",
    "max_magnitude = 0\n",
    "for num1, num2 in pairs:\n",
    "    max_magnitude = max(sum_reduce_sfnums([num1, num2]).magnitude, max_magnitude)\n",
    "print(f\"{max_magnitude=}\")"
   ]
  },
  {
   "cell_type": "markdown",
   "id": "4ef7c61a",
   "metadata": {},
   "source": [
    "This seems a bit slow. There must be a faster way to do this."
   ]
  }
 ],
 "metadata": {
  "kernelspec": {
   "display_name": "Python 3 (ipykernel)",
   "language": "python",
   "name": "python3"
  },
  "language_info": {
   "codemirror_mode": {
    "name": "ipython",
    "version": 3
   },
   "file_extension": ".py",
   "mimetype": "text/x-python",
   "name": "python",
   "nbconvert_exporter": "python",
   "pygments_lexer": "ipython3",
   "version": "3.9.9"
  }
 },
 "nbformat": 4,
 "nbformat_minor": 5
}
